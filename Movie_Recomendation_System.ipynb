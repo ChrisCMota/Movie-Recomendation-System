{
 "cells": [
  {
   "cell_type": "markdown",
   "id": "4a151a48-4708-4d27-b993-0285b8e2a727",
   "metadata": {},
   "source": [
    "# Cleaning and Preparing data"
   ]
  },
  {
   "cell_type": "markdown",
   "id": "33abe4ff-a5f0-4057-9911-0c4c375890f2",
   "metadata": {},
   "source": [
    "**https://pandas.pydata.org/docs/user_guide/index.html#user-guide**"
   ]
  },
  {
   "cell_type": "code",
   "execution_count": 148,
   "id": "ac177b20-bd3d-4ef1-a679-27d7513928bf",
   "metadata": {},
   "outputs": [],
   "source": [
    "import pandas as pd"
   ]
  },
  {
   "cell_type": "markdown",
   "id": "78d10cd0-bb4e-4985-bcdd-b4df8e18e14d",
   "metadata": {},
   "source": [
    "**Load datasets**"
   ]
  },
  {
   "cell_type": "code",
   "execution_count": 152,
   "id": "f7848dc6-2ad8-45b2-887c-458160d0071b",
   "metadata": {},
   "outputs": [],
   "source": [
    "name_basics = pd.read_csv(\"name.basics.tsv\", sep=\"\\t\", low_memory=False, na_values=\"\\\\N\")\n",
    "title_basics = pd.read_csv(\"title.basics.tsv\", sep=\"\\t\", low_memory=False, na_values=\"\\\\N\")\n",
    "title_ratings = pd.read_csv(\"title.ratings.tsv\", sep=\"\\t\", low_memory=False, na_values=\"\\\\N\")"
   ]
  },
  {
   "cell_type": "markdown",
   "id": "41e01c45-3fb3-4fe0-b019-d87d8abdcb38",
   "metadata": {},
   "source": [
    "**Debugging**"
   ]
  },
  {
   "cell_type": "code",
   "execution_count": 154,
   "id": "e1b03aab-327b-4f2c-b41f-ce379afa96b6",
   "metadata": {},
   "outputs": [
    {
     "name": "stdout",
     "output_type": "stream",
     "text": [
      "Index(['nconst', 'primaryName', 'birthYear', 'deathYear', 'primaryProfession',\n",
      "       'knownForTitles'],\n",
      "      dtype='object')\n"
     ]
    }
   ],
   "source": [
    "print(name_basics.columns)"
   ]
  },
  {
   "cell_type": "code",
   "execution_count": 156,
   "id": "35633d0a-9d8c-4101-a46e-d2f0dfa2a7ff",
   "metadata": {},
   "outputs": [],
   "source": [
    "name_basics.columns = name_basics.columns.str.strip()"
   ]
  },
  {
   "cell_type": "markdown",
   "id": "ae3d0e71-a5d4-462b-9bbd-35caf22e89d9",
   "metadata": {},
   "source": [
    "**Cleaning the data name.basics**\n",
    "\n",
    "Just getting the usefull columns"
   ]
  },
  {
   "cell_type": "code",
   "execution_count": 158,
   "id": "62c2c54d-eeea-4ba6-b458-b25f37dee31e",
   "metadata": {},
   "outputs": [
    {
     "data": {
      "text/html": [
       "<div>\n",
       "<style scoped>\n",
       "    .dataframe tbody tr th:only-of-type {\n",
       "        vertical-align: middle;\n",
       "    }\n",
       "\n",
       "    .dataframe tbody tr th {\n",
       "        vertical-align: top;\n",
       "    }\n",
       "\n",
       "    .dataframe thead th {\n",
       "        text-align: right;\n",
       "    }\n",
       "</style>\n",
       "<table border=\"1\" class=\"dataframe\">\n",
       "  <thead>\n",
       "    <tr style=\"text-align: right;\">\n",
       "      <th></th>\n",
       "      <th>nconst</th>\n",
       "      <th>primaryName</th>\n",
       "      <th>knownForTitles</th>\n",
       "    </tr>\n",
       "  </thead>\n",
       "  <tbody>\n",
       "    <tr>\n",
       "      <th>0</th>\n",
       "      <td>nm0000001</td>\n",
       "      <td>Fred Astaire</td>\n",
       "      <td>tt0072308,tt0050419,tt0027125,tt0031983</td>\n",
       "    </tr>\n",
       "    <tr>\n",
       "      <th>1</th>\n",
       "      <td>nm0000002</td>\n",
       "      <td>Lauren Bacall</td>\n",
       "      <td>tt0037382,tt0075213,tt0038355,tt0117057</td>\n",
       "    </tr>\n",
       "    <tr>\n",
       "      <th>2</th>\n",
       "      <td>nm0000003</td>\n",
       "      <td>Brigitte Bardot</td>\n",
       "      <td>tt0057345,tt0049189,tt0056404,tt0054452</td>\n",
       "    </tr>\n",
       "    <tr>\n",
       "      <th>3</th>\n",
       "      <td>nm0000004</td>\n",
       "      <td>John Belushi</td>\n",
       "      <td>tt0072562,tt0077975,tt0080455,tt0078723</td>\n",
       "    </tr>\n",
       "    <tr>\n",
       "      <th>4</th>\n",
       "      <td>nm0000005</td>\n",
       "      <td>Ingmar Bergman</td>\n",
       "      <td>tt0050986,tt0069467,tt0050976,tt0083922</td>\n",
       "    </tr>\n",
       "  </tbody>\n",
       "</table>\n",
       "</div>"
      ],
      "text/plain": [
       "      nconst      primaryName                           knownForTitles\n",
       "0  nm0000001     Fred Astaire  tt0072308,tt0050419,tt0027125,tt0031983\n",
       "1  nm0000002    Lauren Bacall  tt0037382,tt0075213,tt0038355,tt0117057\n",
       "2  nm0000003  Brigitte Bardot  tt0057345,tt0049189,tt0056404,tt0054452\n",
       "3  nm0000004     John Belushi  tt0072562,tt0077975,tt0080455,tt0078723\n",
       "4  nm0000005   Ingmar Bergman  tt0050986,tt0069467,tt0050976,tt0083922"
      ]
     },
     "execution_count": 158,
     "metadata": {},
     "output_type": "execute_result"
    }
   ],
   "source": [
    "name_basics = name_basics[[\"nconst\", \"primaryName\", \"knownForTitles\"]]\n",
    "name_basics.head()"
   ]
  },
  {
   "cell_type": "markdown",
   "id": "9ba09a3e-74b7-43a4-8741-8cad19d95f3e",
   "metadata": {},
   "source": [
    "**Cleaning the data  title.basics**"
   ]
  },
  {
   "cell_type": "code",
   "execution_count": 168,
   "id": "fba1f996-b388-4149-acbe-916a5700dd81",
   "metadata": {},
   "outputs": [
    {
     "data": {
      "text/html": [
       "<div>\n",
       "<style scoped>\n",
       "    .dataframe tbody tr th:only-of-type {\n",
       "        vertical-align: middle;\n",
       "    }\n",
       "\n",
       "    .dataframe tbody tr th {\n",
       "        vertical-align: top;\n",
       "    }\n",
       "\n",
       "    .dataframe thead th {\n",
       "        text-align: right;\n",
       "    }\n",
       "</style>\n",
       "<table border=\"1\" class=\"dataframe\">\n",
       "  <thead>\n",
       "    <tr style=\"text-align: right;\">\n",
       "      <th></th>\n",
       "      <th>tconst</th>\n",
       "      <th>primaryTitle</th>\n",
       "      <th>titleType</th>\n",
       "      <th>genres</th>\n",
       "    </tr>\n",
       "  </thead>\n",
       "  <tbody>\n",
       "    <tr>\n",
       "      <th>8</th>\n",
       "      <td>tt0000009</td>\n",
       "      <td>Miss Jerry</td>\n",
       "      <td>movie</td>\n",
       "      <td>Romance</td>\n",
       "    </tr>\n",
       "    <tr>\n",
       "      <th>144</th>\n",
       "      <td>tt0000147</td>\n",
       "      <td>The Corbett-Fitzsimmons Fight</td>\n",
       "      <td>movie</td>\n",
       "      <td>Documentary,News,Sport</td>\n",
       "    </tr>\n",
       "    <tr>\n",
       "      <th>498</th>\n",
       "      <td>tt0000502</td>\n",
       "      <td>Bohemios</td>\n",
       "      <td>movie</td>\n",
       "      <td>NaN</td>\n",
       "    </tr>\n",
       "    <tr>\n",
       "      <th>570</th>\n",
       "      <td>tt0000574</td>\n",
       "      <td>The Story of the Kelly Gang</td>\n",
       "      <td>movie</td>\n",
       "      <td>Action,Adventure,Biography</td>\n",
       "    </tr>\n",
       "    <tr>\n",
       "      <th>587</th>\n",
       "      <td>tt0000591</td>\n",
       "      <td>The Prodigal Son</td>\n",
       "      <td>movie</td>\n",
       "      <td>Drama</td>\n",
       "    </tr>\n",
       "  </tbody>\n",
       "</table>\n",
       "</div>"
      ],
      "text/plain": [
       "        tconst                   primaryTitle titleType  \\\n",
       "8    tt0000009                     Miss Jerry     movie   \n",
       "144  tt0000147  The Corbett-Fitzsimmons Fight     movie   \n",
       "498  tt0000502                       Bohemios     movie   \n",
       "570  tt0000574    The Story of the Kelly Gang     movie   \n",
       "587  tt0000591               The Prodigal Son     movie   \n",
       "\n",
       "                         genres  \n",
       "8                       Romance  \n",
       "144      Documentary,News,Sport  \n",
       "498                         NaN  \n",
       "570  Action,Adventure,Biography  \n",
       "587                       Drama  "
      ]
     },
     "execution_count": 168,
     "metadata": {},
     "output_type": "execute_result"
    }
   ],
   "source": [
    "title_basics = title_basics[title_basics[\"titleType\"] == \"movie\"]\n",
    "title_basics = title_basics[[\"tconst\", \"primaryTitle\", \"titleType\", \"genres\"]]\n",
    "title_basics.head()"
   ]
  },
  {
   "cell_type": "markdown",
   "id": "f64ca8b4-c21e-4df5-ba67-bb8b0dae3046",
   "metadata": {},
   "source": [
    "**Cleaning the data title.ratings**"
   ]
  },
  {
   "cell_type": "code",
   "execution_count": 170,
   "id": "c1eaf1ff-e423-4aed-87fc-cde04148c37b",
   "metadata": {},
   "outputs": [
    {
     "data": {
      "text/html": [
       "<div>\n",
       "<style scoped>\n",
       "    .dataframe tbody tr th:only-of-type {\n",
       "        vertical-align: middle;\n",
       "    }\n",
       "\n",
       "    .dataframe tbody tr th {\n",
       "        vertical-align: top;\n",
       "    }\n",
       "\n",
       "    .dataframe thead th {\n",
       "        text-align: right;\n",
       "    }\n",
       "</style>\n",
       "<table border=\"1\" class=\"dataframe\">\n",
       "  <thead>\n",
       "    <tr style=\"text-align: right;\">\n",
       "      <th></th>\n",
       "      <th>tconst</th>\n",
       "      <th>averageRating</th>\n",
       "    </tr>\n",
       "  </thead>\n",
       "  <tbody>\n",
       "    <tr>\n",
       "      <th>0</th>\n",
       "      <td>tt0000001</td>\n",
       "      <td>5.7</td>\n",
       "    </tr>\n",
       "    <tr>\n",
       "      <th>1</th>\n",
       "      <td>tt0000002</td>\n",
       "      <td>5.5</td>\n",
       "    </tr>\n",
       "    <tr>\n",
       "      <th>2</th>\n",
       "      <td>tt0000003</td>\n",
       "      <td>6.4</td>\n",
       "    </tr>\n",
       "    <tr>\n",
       "      <th>3</th>\n",
       "      <td>tt0000004</td>\n",
       "      <td>5.3</td>\n",
       "    </tr>\n",
       "    <tr>\n",
       "      <th>4</th>\n",
       "      <td>tt0000005</td>\n",
       "      <td>6.2</td>\n",
       "    </tr>\n",
       "  </tbody>\n",
       "</table>\n",
       "</div>"
      ],
      "text/plain": [
       "      tconst  averageRating\n",
       "0  tt0000001            5.7\n",
       "1  tt0000002            5.5\n",
       "2  tt0000003            6.4\n",
       "3  tt0000004            5.3\n",
       "4  tt0000005            6.2"
      ]
     },
     "execution_count": 170,
     "metadata": {},
     "output_type": "execute_result"
    }
   ],
   "source": [
    "title_ratings = title_ratings[[\"tconst\", \"averageRating\"]]\n",
    "title_ratings.head()"
   ]
  },
  {
   "cell_type": "markdown",
   "id": "2fe4c225-0074-4db5-aa23-570924169c24",
   "metadata": {},
   "source": [
    "**Merging Datasets title_basics with title_ratings**"
   ]
  },
  {
   "cell_type": "code",
   "execution_count": 172,
   "id": "b867ee96-8f4d-4399-82d7-66f61d9f9266",
   "metadata": {},
   "outputs": [
    {
     "data": {
      "text/html": [
       "<div>\n",
       "<style scoped>\n",
       "    .dataframe tbody tr th:only-of-type {\n",
       "        vertical-align: middle;\n",
       "    }\n",
       "\n",
       "    .dataframe tbody tr th {\n",
       "        vertical-align: top;\n",
       "    }\n",
       "\n",
       "    .dataframe thead th {\n",
       "        text-align: right;\n",
       "    }\n",
       "</style>\n",
       "<table border=\"1\" class=\"dataframe\">\n",
       "  <thead>\n",
       "    <tr style=\"text-align: right;\">\n",
       "      <th></th>\n",
       "      <th>tconst</th>\n",
       "      <th>primaryTitle</th>\n",
       "      <th>titleType</th>\n",
       "      <th>genres</th>\n",
       "      <th>averageRating</th>\n",
       "    </tr>\n",
       "  </thead>\n",
       "  <tbody>\n",
       "    <tr>\n",
       "      <th>0</th>\n",
       "      <td>tt0000009</td>\n",
       "      <td>Miss Jerry</td>\n",
       "      <td>movie</td>\n",
       "      <td>Romance</td>\n",
       "      <td>5.4</td>\n",
       "    </tr>\n",
       "    <tr>\n",
       "      <th>1</th>\n",
       "      <td>tt0000147</td>\n",
       "      <td>The Corbett-Fitzsimmons Fight</td>\n",
       "      <td>movie</td>\n",
       "      <td>Documentary,News,Sport</td>\n",
       "      <td>5.3</td>\n",
       "    </tr>\n",
       "    <tr>\n",
       "      <th>2</th>\n",
       "      <td>tt0000502</td>\n",
       "      <td>Bohemios</td>\n",
       "      <td>movie</td>\n",
       "      <td>NaN</td>\n",
       "      <td>4.0</td>\n",
       "    </tr>\n",
       "    <tr>\n",
       "      <th>3</th>\n",
       "      <td>tt0000574</td>\n",
       "      <td>The Story of the Kelly Gang</td>\n",
       "      <td>movie</td>\n",
       "      <td>Action,Adventure,Biography</td>\n",
       "      <td>6.0</td>\n",
       "    </tr>\n",
       "    <tr>\n",
       "      <th>4</th>\n",
       "      <td>tt0000591</td>\n",
       "      <td>The Prodigal Son</td>\n",
       "      <td>movie</td>\n",
       "      <td>Drama</td>\n",
       "      <td>5.6</td>\n",
       "    </tr>\n",
       "  </tbody>\n",
       "</table>\n",
       "</div>"
      ],
      "text/plain": [
       "      tconst                   primaryTitle titleType  \\\n",
       "0  tt0000009                     Miss Jerry     movie   \n",
       "1  tt0000147  The Corbett-Fitzsimmons Fight     movie   \n",
       "2  tt0000502                       Bohemios     movie   \n",
       "3  tt0000574    The Story of the Kelly Gang     movie   \n",
       "4  tt0000591               The Prodigal Son     movie   \n",
       "\n",
       "                       genres  averageRating  \n",
       "0                     Romance            5.4  \n",
       "1      Documentary,News,Sport            5.3  \n",
       "2                         NaN            4.0  \n",
       "3  Action,Adventure,Biography            6.0  \n",
       "4                       Drama            5.6  "
      ]
     },
     "execution_count": 172,
     "metadata": {},
     "output_type": "execute_result"
    }
   ],
   "source": [
    "movies_df = pd.merge(title_basics, title_ratings, on=\"tconst\", how=\"left\")\n",
    "movies_df.head()"
   ]
  },
  {
   "cell_type": "markdown",
   "id": "ec223e20-9bb6-4daf-8e66-d322de097add",
   "metadata": {},
   "source": [
    "**Merging with name_basics (Actors and Directors)**\n",
    "\n",
    "Explode knownForTitles column to match tconst\n",
    "\n",
    "Merge actors with movies\n",
    "\n",
    "Drop knownForTitles column (as we already merged it)"
   ]
  },
  {
   "cell_type": "code",
   "execution_count": 174,
   "id": "4b0891b2-2542-4987-ab72-53abfde381cc",
   "metadata": {},
   "outputs": [
    {
     "data": {
      "text/html": [
       "<div>\n",
       "<style scoped>\n",
       "    .dataframe tbody tr th:only-of-type {\n",
       "        vertical-align: middle;\n",
       "    }\n",
       "\n",
       "    .dataframe tbody tr th {\n",
       "        vertical-align: top;\n",
       "    }\n",
       "\n",
       "    .dataframe thead th {\n",
       "        text-align: right;\n",
       "    }\n",
       "</style>\n",
       "<table border=\"1\" class=\"dataframe\">\n",
       "  <thead>\n",
       "    <tr style=\"text-align: right;\">\n",
       "      <th></th>\n",
       "      <th>tconst</th>\n",
       "      <th>primaryTitle</th>\n",
       "      <th>titleType</th>\n",
       "      <th>genres</th>\n",
       "      <th>averageRating</th>\n",
       "      <th>nconst</th>\n",
       "      <th>primaryName</th>\n",
       "    </tr>\n",
       "  </thead>\n",
       "  <tbody>\n",
       "    <tr>\n",
       "      <th>0</th>\n",
       "      <td>tt0000009</td>\n",
       "      <td>Miss Jerry</td>\n",
       "      <td>movie</td>\n",
       "      <td>Romance</td>\n",
       "      <td>5.4</td>\n",
       "      <td>nm0063086</td>\n",
       "      <td>Blanche Bayliss</td>\n",
       "    </tr>\n",
       "    <tr>\n",
       "      <th>1</th>\n",
       "      <td>tt0000009</td>\n",
       "      <td>Miss Jerry</td>\n",
       "      <td>movie</td>\n",
       "      <td>Romance</td>\n",
       "      <td>5.4</td>\n",
       "      <td>nm0085156</td>\n",
       "      <td>Alexander Black</td>\n",
       "    </tr>\n",
       "    <tr>\n",
       "      <th>2</th>\n",
       "      <td>tt0000009</td>\n",
       "      <td>Miss Jerry</td>\n",
       "      <td>movie</td>\n",
       "      <td>Romance</td>\n",
       "      <td>5.4</td>\n",
       "      <td>nm0183823</td>\n",
       "      <td>William Courtenay</td>\n",
       "    </tr>\n",
       "    <tr>\n",
       "      <th>3</th>\n",
       "      <td>tt0000009</td>\n",
       "      <td>Miss Jerry</td>\n",
       "      <td>movie</td>\n",
       "      <td>Romance</td>\n",
       "      <td>5.4</td>\n",
       "      <td>nm1309758</td>\n",
       "      <td>Chauncey Depew</td>\n",
       "    </tr>\n",
       "    <tr>\n",
       "      <th>4</th>\n",
       "      <td>tt0000147</td>\n",
       "      <td>The Corbett-Fitzsimmons Fight</td>\n",
       "      <td>movie</td>\n",
       "      <td>Documentary,News,Sport</td>\n",
       "      <td>5.3</td>\n",
       "      <td>nm0280615</td>\n",
       "      <td>Bob Fitzsimmons</td>\n",
       "    </tr>\n",
       "  </tbody>\n",
       "</table>\n",
       "</div>"
      ],
      "text/plain": [
       "      tconst                   primaryTitle titleType                  genres  \\\n",
       "0  tt0000009                     Miss Jerry     movie                 Romance   \n",
       "1  tt0000009                     Miss Jerry     movie                 Romance   \n",
       "2  tt0000009                     Miss Jerry     movie                 Romance   \n",
       "3  tt0000009                     Miss Jerry     movie                 Romance   \n",
       "4  tt0000147  The Corbett-Fitzsimmons Fight     movie  Documentary,News,Sport   \n",
       "\n",
       "   averageRating     nconst        primaryName  \n",
       "0            5.4  nm0063086    Blanche Bayliss  \n",
       "1            5.4  nm0085156    Alexander Black  \n",
       "2            5.4  nm0183823  William Courtenay  \n",
       "3            5.4  nm1309758     Chauncey Depew  \n",
       "4            5.3  nm0280615    Bob Fitzsimmons  "
      ]
     },
     "execution_count": 174,
     "metadata": {},
     "output_type": "execute_result"
    }
   ],
   "source": [
    "name_basics[\"knownForTitles\"] = name_basics[\"knownForTitles\"].fillna(\"\")\n",
    "name_basics_expanded = name_basics.assign(knownForTitles=name_basics[\"knownForTitles\"].str.split(\",\"))\n",
    "name_basics_expanded = name_basics_expanded.explode(\"knownForTitles\")\n",
    "\n",
    "final_df = pd.merge(movies_df, name_basics_expanded, left_on=\"tconst\", right_on=\"knownForTitles\", how=\"left\")\n",
    "\n",
    "final_df.drop(columns=[\"knownForTitles\"], inplace=True)\n",
    "\n",
    "final_df.head()"
   ]
  },
  {
   "cell_type": "markdown",
   "id": "72522070-a480-4180-84a8-5b81804ccb41",
   "metadata": {},
   "source": [
    "**Saving dataset merged**"
   ]
  },
  {
   "cell_type": "code",
   "execution_count": 176,
   "id": "256930fb-a85e-4bb7-8186-dc14242539b4",
   "metadata": {},
   "outputs": [],
   "source": [
    "final_df.to_csv(\"merged_imdb_data.csv\", index=False, encoding=\"utf-8\")"
   ]
  },
  {
   "cell_type": "code",
   "execution_count": 178,
   "id": "7361ccb7-cf46-4f1a-9b22-7574cb319280",
   "metadata": {},
   "outputs": [],
   "source": [
    "import numpy as np"
   ]
  },
  {
   "cell_type": "code",
   "execution_count": 180,
   "id": "5d0daab6-ac14-432c-aa4c-52bdcdf9b147",
   "metadata": {},
   "outputs": [],
   "source": [
    "df = pd.read_csv(\"merged_imdb_data.csv\", encoding=\"utf-8\")"
   ]
  },
  {
   "cell_type": "markdown",
   "id": "6cd5bc9c-3409-46f4-8eb1-c43dac1dc5b4",
   "metadata": {},
   "source": [
    "**Handling missing values**\n",
    "\n",
    "`TODO:` Handle missing ratings dymanically during recommendations "
   ]
  },
  {
   "cell_type": "code",
   "execution_count": 181,
   "id": "efac3036-0142-4ba6-9f4c-a99ce84ea05b",
   "metadata": {},
   "outputs": [
    {
     "name": "stdout",
     "output_type": "stream",
     "text": [
      "<class 'pandas.core.frame.DataFrame'>\n",
      "RangeIndex: 9772826 entries, 0 to 9772825\n",
      "Data columns (total 7 columns):\n",
      " #   Column         Dtype  \n",
      "---  ------         -----  \n",
      " 0   tconst         object \n",
      " 1   primaryTitle   object \n",
      " 2   titleType      object \n",
      " 3   genres         object \n",
      " 4   averageRating  float64\n",
      " 5   nconst         object \n",
      " 6   primaryName    object \n",
      "dtypes: float64(1), object(6)\n",
      "memory usage: 521.9+ MB\n",
      "None\n",
      "      tconst                   primaryTitle titleType                  genres  \\\n",
      "0  tt0000009                     Miss Jerry     movie                 Romance   \n",
      "1  tt0000009                     Miss Jerry     movie                 Romance   \n",
      "2  tt0000009                     Miss Jerry     movie                 Romance   \n",
      "3  tt0000009                     Miss Jerry     movie                 Romance   \n",
      "4  tt0000147  The Corbett-Fitzsimmons Fight     movie  Documentary,News,Sport   \n",
      "\n",
      "   averageRating     nconst        primaryName  \n",
      "0            5.4  nm0063086    Blanche Bayliss  \n",
      "1            5.4  nm0085156    Alexander Black  \n",
      "2            5.4  nm0183823  William Courtenay  \n",
      "3            5.4  nm1309758     Chauncey Depew  \n",
      "4            5.3  nm0280615    Bob Fitzsimmons  \n"
     ]
    }
   ],
   "source": [
    "df[\"genres\"] = df[\"genres\"].fillna(\"Unknown\")\n",
    "df[\"primaryName\"] = df[\"primaryName\"].fillna(\"Unknown\")\n",
    "\n",
    "print(df.info())\n",
    "print(df.head())"
   ]
  },
  {
   "cell_type": "markdown",
   "id": "8b4967a8-c5ff-4178-b741-5844789812e4",
   "metadata": {},
   "source": [
    "**Display missing data summary**"
   ]
  },
  {
   "cell_type": "code",
   "execution_count": 184,
   "id": "868ec1cb-0da8-45f0-9fb2-39116b595355",
   "metadata": {},
   "outputs": [
    {
     "name": "stdout",
     "output_type": "stream",
     "text": [
      "tconst                 0\n",
      "primaryTitle          12\n",
      "titleType              0\n",
      "genres                 0\n",
      "averageRating    2105625\n",
      "nconst             96975\n",
      "primaryName            0\n",
      "dtype: int64\n"
     ]
    }
   ],
   "source": [
    "print(df.isnull().sum())"
   ]
  },
  {
   "cell_type": "markdown",
   "id": "2c34f754-32c7-4834-a86a-0bfc012bac98",
   "metadata": {},
   "source": [
    "**Checking for special char in names**"
   ]
  },
  {
   "cell_type": "code",
   "execution_count": 186,
   "id": "2a968589-a0cd-4be7-aaf9-d9b599ca91c5",
   "metadata": {},
   "outputs": [
    {
     "name": "stdout",
     "output_type": "stream",
     "text": [
      "0                    Blanche Bayliss\n",
      "1                    Alexander Black\n",
      "2                  William Courtenay\n",
      "3                     Chauncey Depew\n",
      "4                    Bob Fitzsimmons\n",
      "5                    Enoch J. Rector\n",
      "6                   John L. Sullivan\n",
      "7                       George Siler\n",
      "8                       Billy Madden\n",
      "9                   Antonio del Pozo\n",
      "10                       El Mochuelo\n",
      "11                  Guillermo Perrín\n",
      "12                      Godfrey Cass\n",
      "13                        Bella Cola\n",
      "14                        Sam Crewes\n",
      "15                       W.A. Gibson\n",
      "16                   Millard Johnson\n",
      "17                       Vera Linden\n",
      "18                       Frank Mills\n",
      "19                       Orrie Perry\n",
      "20                         Reg Perry\n",
      "21                      Charles Tait\n",
      "22                    Elizabeth Tait\n",
      "23                         John Tait\n",
      "24                        Nevin Tait\n",
      "25                      Ollie Wilson\n",
      "26                 Nicholas Brierley\n",
      "27                       Eric Chapus\n",
      "28                        Will Coyne\n",
      "29                      Mr. Marshall\n",
      "30                      Mr. McKenzie\n",
      "31                   Norman Campbell\n",
      "32                        Jack Ennis\n",
      "33                        John Forde\n",
      "34                      Michel Carré\n",
      "35               Christiane Mandelys\n",
      "36                    Gilberte Sergy\n",
      "37                   Rolf Boldrewood\n",
      "38                      Byers Coates\n",
      "39                     Rhoda Dendron\n",
      "40                      William Duff\n",
      "41                      Arthur Guest\n",
      "42                  Charles MacMahon\n",
      "43                   George Merriman\n",
      "44                        Lance Vane\n",
      "45                        Jim Gerald\n",
      "46             Fernanda Negri Pouget\n",
      "47    Miguel de Cervantes y Saavedra\n",
      "48                     Narciso Cuyàs\n",
      "49                     L. Frank Baum\n",
      "Name: primaryName, dtype: object\n"
     ]
    }
   ],
   "source": [
    "print(df[\"primaryName\"].head(50))"
   ]
  },
  {
   "cell_type": "markdown",
   "id": "a46ec2b6-e2b6-4949-a9b9-07a393133a78",
   "metadata": {},
   "source": [
    "## Content-Based Filtering (Finding Similar Movies by Genre)"
   ]
  },
  {
   "cell_type": "code",
   "execution_count": 128,
   "id": "abd83b73-b38d-4355-ab10-7dc080d66e99",
   "metadata": {},
   "outputs": [],
   "source": [
    "from sklearn.feature_extraction.text import TfidfVectorizer\n",
    "from sklearn.metrics.pairwise import cosine_similarity"
   ]
  },
  {
   "cell_type": "code",
   "execution_count": null,
   "id": "46c15dc3-fdab-4b60-8b4c-825d56136f08",
   "metadata": {},
   "outputs": [],
   "source": []
  }
 ],
 "metadata": {
  "kernelspec": {
   "display_name": "Python 3 (ipykernel)",
   "language": "python",
   "name": "python3"
  },
  "language_info": {
   "codemirror_mode": {
    "name": "ipython",
    "version": 3
   },
   "file_extension": ".py",
   "mimetype": "text/x-python",
   "name": "python",
   "nbconvert_exporter": "python",
   "pygments_lexer": "ipython3",
   "version": "3.12.4"
  }
 },
 "nbformat": 4,
 "nbformat_minor": 5
}
