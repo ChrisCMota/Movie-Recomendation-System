{
 "cells": [
  {
   "cell_type": "code",
   "execution_count": 7,
   "id": "ac177b20-bd3d-4ef1-a679-27d7513928bf",
   "metadata": {},
   "outputs": [],
   "source": [
    "import pandas as pd"
   ]
  },
  {
   "cell_type": "markdown",
   "id": "78d10cd0-bb4e-4985-bcdd-b4df8e18e14d",
   "metadata": {},
   "source": [
    "**Load datasets**"
   ]
  },
  {
   "cell_type": "code",
   "execution_count": 55,
   "id": "f7848dc6-2ad8-45b2-887c-458160d0071b",
   "metadata": {},
   "outputs": [],
   "source": [
    "name_basics = pd.read_csv(\"name.basics.tsv\", sep=\"\\t\", low_memory=False, na_values=\"\\\\N\")\n",
    "title_basics = pd.read_csv(\"title.basics.tsv\", sep=\"\\t\", low_memory=False, na_values=\"\\\\N\")\n",
    "title_ratings = pd.read_csv(\"title.ratings.tsv\", sep=\"\\t\", low_memory=False, na_values=\"\\\\N\")"
   ]
  },
  {
   "cell_type": "code",
   "execution_count": 56,
   "id": "e1b03aab-327b-4f2c-b41f-ce379afa96b6",
   "metadata": {},
   "outputs": [
    {
     "name": "stdout",
     "output_type": "stream",
     "text": [
      "Index(['nconst', 'primaryName', 'birthYear', 'deathYear', 'primaryProfession',\n",
      "       'knownForTitles'],\n",
      "      dtype='object')\n"
     ]
    }
   ],
   "source": [
    "print(name_basics.columns)"
   ]
  },
  {
   "cell_type": "code",
   "execution_count": 59,
   "id": "35633d0a-9d8c-4101-a46e-d2f0dfa2a7ff",
   "metadata": {},
   "outputs": [],
   "source": [
    "name_basics.columns = name_basics.columns.str.strip()"
   ]
  },
  {
   "cell_type": "markdown",
   "id": "ae3d0e71-a5d4-462b-9bbd-35caf22e89d9",
   "metadata": {},
   "source": [
    "**Cleaning the data name.basics**\n",
    "\n",
    "Just getting the usefull columns"
   ]
  },
  {
   "cell_type": "code",
   "execution_count": 61,
   "id": "62c2c54d-eeea-4ba6-b458-b25f37dee31e",
   "metadata": {},
   "outputs": [
    {
     "data": {
      "text/html": [
       "<div>\n",
       "<style scoped>\n",
       "    .dataframe tbody tr th:only-of-type {\n",
       "        vertical-align: middle;\n",
       "    }\n",
       "\n",
       "    .dataframe tbody tr th {\n",
       "        vertical-align: top;\n",
       "    }\n",
       "\n",
       "    .dataframe thead th {\n",
       "        text-align: right;\n",
       "    }\n",
       "</style>\n",
       "<table border=\"1\" class=\"dataframe\">\n",
       "  <thead>\n",
       "    <tr style=\"text-align: right;\">\n",
       "      <th></th>\n",
       "      <th>nconst</th>\n",
       "      <th>primaryName</th>\n",
       "      <th>knownForTitles</th>\n",
       "    </tr>\n",
       "  </thead>\n",
       "  <tbody>\n",
       "    <tr>\n",
       "      <th>0</th>\n",
       "      <td>nm0000001</td>\n",
       "      <td>Fred Astaire</td>\n",
       "      <td>tt0072308,tt0050419,tt0027125,tt0031983</td>\n",
       "    </tr>\n",
       "    <tr>\n",
       "      <th>1</th>\n",
       "      <td>nm0000002</td>\n",
       "      <td>Lauren Bacall</td>\n",
       "      <td>tt0037382,tt0075213,tt0038355,tt0117057</td>\n",
       "    </tr>\n",
       "    <tr>\n",
       "      <th>2</th>\n",
       "      <td>nm0000003</td>\n",
       "      <td>Brigitte Bardot</td>\n",
       "      <td>tt0057345,tt0049189,tt0056404,tt0054452</td>\n",
       "    </tr>\n",
       "    <tr>\n",
       "      <th>3</th>\n",
       "      <td>nm0000004</td>\n",
       "      <td>John Belushi</td>\n",
       "      <td>tt0072562,tt0077975,tt0080455,tt0078723</td>\n",
       "    </tr>\n",
       "    <tr>\n",
       "      <th>4</th>\n",
       "      <td>nm0000005</td>\n",
       "      <td>Ingmar Bergman</td>\n",
       "      <td>tt0050986,tt0069467,tt0050976,tt0083922</td>\n",
       "    </tr>\n",
       "  </tbody>\n",
       "</table>\n",
       "</div>"
      ],
      "text/plain": [
       "      nconst      primaryName                           knownForTitles\n",
       "0  nm0000001     Fred Astaire  tt0072308,tt0050419,tt0027125,tt0031983\n",
       "1  nm0000002    Lauren Bacall  tt0037382,tt0075213,tt0038355,tt0117057\n",
       "2  nm0000003  Brigitte Bardot  tt0057345,tt0049189,tt0056404,tt0054452\n",
       "3  nm0000004     John Belushi  tt0072562,tt0077975,tt0080455,tt0078723\n",
       "4  nm0000005   Ingmar Bergman  tt0050986,tt0069467,tt0050976,tt0083922"
      ]
     },
     "execution_count": 61,
     "metadata": {},
     "output_type": "execute_result"
    }
   ],
   "source": [
    "name_basics = name_basics[[\"nconst\", \"primaryName\", \"knownForTitles\"]]\n",
    "name_basics.head()"
   ]
  },
  {
   "cell_type": "markdown",
   "id": "9ba09a3e-74b7-43a4-8741-8cad19d95f3e",
   "metadata": {},
   "source": [
    "**Cleaning the data  title.basics**"
   ]
  },
  {
   "cell_type": "code",
   "execution_count": 63,
   "id": "fba1f996-b388-4149-acbe-916a5700dd81",
   "metadata": {},
   "outputs": [
    {
     "data": {
      "text/html": [
       "<div>\n",
       "<style scoped>\n",
       "    .dataframe tbody tr th:only-of-type {\n",
       "        vertical-align: middle;\n",
       "    }\n",
       "\n",
       "    .dataframe tbody tr th {\n",
       "        vertical-align: top;\n",
       "    }\n",
       "\n",
       "    .dataframe thead th {\n",
       "        text-align: right;\n",
       "    }\n",
       "</style>\n",
       "<table border=\"1\" class=\"dataframe\">\n",
       "  <thead>\n",
       "    <tr style=\"text-align: right;\">\n",
       "      <th></th>\n",
       "      <th>tconst</th>\n",
       "      <th>primaryTitle</th>\n",
       "      <th>genres</th>\n",
       "    </tr>\n",
       "  </thead>\n",
       "  <tbody>\n",
       "    <tr>\n",
       "      <th>0</th>\n",
       "      <td>tt0000001</td>\n",
       "      <td>Carmencita</td>\n",
       "      <td>Documentary,Short</td>\n",
       "    </tr>\n",
       "    <tr>\n",
       "      <th>1</th>\n",
       "      <td>tt0000002</td>\n",
       "      <td>Le clown et ses chiens</td>\n",
       "      <td>Animation,Short</td>\n",
       "    </tr>\n",
       "    <tr>\n",
       "      <th>2</th>\n",
       "      <td>tt0000003</td>\n",
       "      <td>Poor Pierrot</td>\n",
       "      <td>Animation,Comedy,Romance</td>\n",
       "    </tr>\n",
       "    <tr>\n",
       "      <th>3</th>\n",
       "      <td>tt0000004</td>\n",
       "      <td>Un bon bock</td>\n",
       "      <td>Animation,Short</td>\n",
       "    </tr>\n",
       "    <tr>\n",
       "      <th>4</th>\n",
       "      <td>tt0000005</td>\n",
       "      <td>Blacksmith Scene</td>\n",
       "      <td>Short</td>\n",
       "    </tr>\n",
       "  </tbody>\n",
       "</table>\n",
       "</div>"
      ],
      "text/plain": [
       "      tconst            primaryTitle                    genres\n",
       "0  tt0000001              Carmencita         Documentary,Short\n",
       "1  tt0000002  Le clown et ses chiens           Animation,Short\n",
       "2  tt0000003            Poor Pierrot  Animation,Comedy,Romance\n",
       "3  tt0000004             Un bon bock           Animation,Short\n",
       "4  tt0000005        Blacksmith Scene                     Short"
      ]
     },
     "execution_count": 63,
     "metadata": {},
     "output_type": "execute_result"
    }
   ],
   "source": [
    "title_basics = title_basics[[\"tconst\", \"primaryTitle\", \"genres\"]]\n",
    "title_basics.head()"
   ]
  },
  {
   "cell_type": "markdown",
   "id": "f64ca8b4-c21e-4df5-ba67-bb8b0dae3046",
   "metadata": {},
   "source": [
    "**Cleaning the data title.ratings**"
   ]
  },
  {
   "cell_type": "code",
   "execution_count": 65,
   "id": "c1eaf1ff-e423-4aed-87fc-cde04148c37b",
   "metadata": {},
   "outputs": [
    {
     "data": {
      "text/html": [
       "<div>\n",
       "<style scoped>\n",
       "    .dataframe tbody tr th:only-of-type {\n",
       "        vertical-align: middle;\n",
       "    }\n",
       "\n",
       "    .dataframe tbody tr th {\n",
       "        vertical-align: top;\n",
       "    }\n",
       "\n",
       "    .dataframe thead th {\n",
       "        text-align: right;\n",
       "    }\n",
       "</style>\n",
       "<table border=\"1\" class=\"dataframe\">\n",
       "  <thead>\n",
       "    <tr style=\"text-align: right;\">\n",
       "      <th></th>\n",
       "      <th>tconst</th>\n",
       "      <th>averageRating</th>\n",
       "    </tr>\n",
       "  </thead>\n",
       "  <tbody>\n",
       "    <tr>\n",
       "      <th>0</th>\n",
       "      <td>tt0000001</td>\n",
       "      <td>5.7</td>\n",
       "    </tr>\n",
       "    <tr>\n",
       "      <th>1</th>\n",
       "      <td>tt0000002</td>\n",
       "      <td>5.5</td>\n",
       "    </tr>\n",
       "    <tr>\n",
       "      <th>2</th>\n",
       "      <td>tt0000003</td>\n",
       "      <td>6.4</td>\n",
       "    </tr>\n",
       "    <tr>\n",
       "      <th>3</th>\n",
       "      <td>tt0000004</td>\n",
       "      <td>5.3</td>\n",
       "    </tr>\n",
       "    <tr>\n",
       "      <th>4</th>\n",
       "      <td>tt0000005</td>\n",
       "      <td>6.2</td>\n",
       "    </tr>\n",
       "  </tbody>\n",
       "</table>\n",
       "</div>"
      ],
      "text/plain": [
       "      tconst  averageRating\n",
       "0  tt0000001            5.7\n",
       "1  tt0000002            5.5\n",
       "2  tt0000003            6.4\n",
       "3  tt0000004            5.3\n",
       "4  tt0000005            6.2"
      ]
     },
     "execution_count": 65,
     "metadata": {},
     "output_type": "execute_result"
    }
   ],
   "source": [
    "title_ratings = title_ratings[[\"tconst\", \"averageRating\"]]\n",
    "title_ratings.head()"
   ]
  },
  {
   "cell_type": "markdown",
   "id": "2fe4c225-0074-4db5-aa23-570924169c24",
   "metadata": {},
   "source": [
    "**Merging Datasets title_basics with title_ratings**"
   ]
  },
  {
   "cell_type": "code",
   "execution_count": 67,
   "id": "b867ee96-8f4d-4399-82d7-66f61d9f9266",
   "metadata": {},
   "outputs": [
    {
     "data": {
      "text/html": [
       "<div>\n",
       "<style scoped>\n",
       "    .dataframe tbody tr th:only-of-type {\n",
       "        vertical-align: middle;\n",
       "    }\n",
       "\n",
       "    .dataframe tbody tr th {\n",
       "        vertical-align: top;\n",
       "    }\n",
       "\n",
       "    .dataframe thead th {\n",
       "        text-align: right;\n",
       "    }\n",
       "</style>\n",
       "<table border=\"1\" class=\"dataframe\">\n",
       "  <thead>\n",
       "    <tr style=\"text-align: right;\">\n",
       "      <th></th>\n",
       "      <th>tconst</th>\n",
       "      <th>primaryTitle</th>\n",
       "      <th>genres</th>\n",
       "      <th>averageRating</th>\n",
       "    </tr>\n",
       "  </thead>\n",
       "  <tbody>\n",
       "    <tr>\n",
       "      <th>0</th>\n",
       "      <td>tt0000001</td>\n",
       "      <td>Carmencita</td>\n",
       "      <td>Documentary,Short</td>\n",
       "      <td>5.7</td>\n",
       "    </tr>\n",
       "    <tr>\n",
       "      <th>1</th>\n",
       "      <td>tt0000002</td>\n",
       "      <td>Le clown et ses chiens</td>\n",
       "      <td>Animation,Short</td>\n",
       "      <td>5.5</td>\n",
       "    </tr>\n",
       "    <tr>\n",
       "      <th>2</th>\n",
       "      <td>tt0000003</td>\n",
       "      <td>Poor Pierrot</td>\n",
       "      <td>Animation,Comedy,Romance</td>\n",
       "      <td>6.4</td>\n",
       "    </tr>\n",
       "    <tr>\n",
       "      <th>3</th>\n",
       "      <td>tt0000004</td>\n",
       "      <td>Un bon bock</td>\n",
       "      <td>Animation,Short</td>\n",
       "      <td>5.3</td>\n",
       "    </tr>\n",
       "    <tr>\n",
       "      <th>4</th>\n",
       "      <td>tt0000005</td>\n",
       "      <td>Blacksmith Scene</td>\n",
       "      <td>Short</td>\n",
       "      <td>6.2</td>\n",
       "    </tr>\n",
       "  </tbody>\n",
       "</table>\n",
       "</div>"
      ],
      "text/plain": [
       "      tconst            primaryTitle                    genres  averageRating\n",
       "0  tt0000001              Carmencita         Documentary,Short            5.7\n",
       "1  tt0000002  Le clown et ses chiens           Animation,Short            5.5\n",
       "2  tt0000003            Poor Pierrot  Animation,Comedy,Romance            6.4\n",
       "3  tt0000004             Un bon bock           Animation,Short            5.3\n",
       "4  tt0000005        Blacksmith Scene                     Short            6.2"
      ]
     },
     "execution_count": 67,
     "metadata": {},
     "output_type": "execute_result"
    }
   ],
   "source": [
    "movies_df = pd.merge(title_basics, title_ratings, on=\"tconst\", how=\"left\")\n",
    "movies_df.head()"
   ]
  },
  {
   "cell_type": "markdown",
   "id": "ec223e20-9bb6-4daf-8e66-d322de097add",
   "metadata": {},
   "source": [
    "**Merging with name_basics (Actors and Directors)**\n",
    "\n",
    "Explode knownForTitles column to match tconst\n",
    "\n",
    "Merge actors with movies\n",
    "\n",
    "Drop knownForTitles column (as we already merged it)"
   ]
  },
  {
   "cell_type": "code",
   "execution_count": 69,
   "id": "4b0891b2-2542-4987-ab72-53abfde381cc",
   "metadata": {},
   "outputs": [
    {
     "data": {
      "text/html": [
       "<div>\n",
       "<style scoped>\n",
       "    .dataframe tbody tr th:only-of-type {\n",
       "        vertical-align: middle;\n",
       "    }\n",
       "\n",
       "    .dataframe tbody tr th {\n",
       "        vertical-align: top;\n",
       "    }\n",
       "\n",
       "    .dataframe thead th {\n",
       "        text-align: right;\n",
       "    }\n",
       "</style>\n",
       "<table border=\"1\" class=\"dataframe\">\n",
       "  <thead>\n",
       "    <tr style=\"text-align: right;\">\n",
       "      <th></th>\n",
       "      <th>tconst</th>\n",
       "      <th>primaryTitle</th>\n",
       "      <th>genres</th>\n",
       "      <th>averageRating</th>\n",
       "      <th>nconst</th>\n",
       "      <th>primaryName</th>\n",
       "    </tr>\n",
       "  </thead>\n",
       "  <tbody>\n",
       "    <tr>\n",
       "      <th>0</th>\n",
       "      <td>tt0000001</td>\n",
       "      <td>Carmencita</td>\n",
       "      <td>Documentary,Short</td>\n",
       "      <td>5.7</td>\n",
       "      <td>nm1588970</td>\n",
       "      <td>Carmencita</td>\n",
       "    </tr>\n",
       "    <tr>\n",
       "      <th>1</th>\n",
       "      <td>tt0000002</td>\n",
       "      <td>Le clown et ses chiens</td>\n",
       "      <td>Animation,Short</td>\n",
       "      <td>5.5</td>\n",
       "      <td>NaN</td>\n",
       "      <td>NaN</td>\n",
       "    </tr>\n",
       "    <tr>\n",
       "      <th>2</th>\n",
       "      <td>tt0000003</td>\n",
       "      <td>Poor Pierrot</td>\n",
       "      <td>Animation,Comedy,Romance</td>\n",
       "      <td>6.4</td>\n",
       "      <td>nm0721526</td>\n",
       "      <td>Émile Reynaud</td>\n",
       "    </tr>\n",
       "    <tr>\n",
       "      <th>3</th>\n",
       "      <td>tt0000003</td>\n",
       "      <td>Poor Pierrot</td>\n",
       "      <td>Animation,Comedy,Romance</td>\n",
       "      <td>6.4</td>\n",
       "      <td>nm1335271</td>\n",
       "      <td>Gaston Paulin</td>\n",
       "    </tr>\n",
       "    <tr>\n",
       "      <th>4</th>\n",
       "      <td>tt0000003</td>\n",
       "      <td>Poor Pierrot</td>\n",
       "      <td>Animation,Comedy,Romance</td>\n",
       "      <td>6.4</td>\n",
       "      <td>nm17045636</td>\n",
       "      <td>Louis Morin</td>\n",
       "    </tr>\n",
       "  </tbody>\n",
       "</table>\n",
       "</div>"
      ],
      "text/plain": [
       "      tconst            primaryTitle                    genres  averageRating  \\\n",
       "0  tt0000001              Carmencita         Documentary,Short            5.7   \n",
       "1  tt0000002  Le clown et ses chiens           Animation,Short            5.5   \n",
       "2  tt0000003            Poor Pierrot  Animation,Comedy,Romance            6.4   \n",
       "3  tt0000003            Poor Pierrot  Animation,Comedy,Romance            6.4   \n",
       "4  tt0000003            Poor Pierrot  Animation,Comedy,Romance            6.4   \n",
       "\n",
       "       nconst    primaryName  \n",
       "0   nm1588970     Carmencita  \n",
       "1         NaN            NaN  \n",
       "2   nm0721526  Émile Reynaud  \n",
       "3   nm1335271  Gaston Paulin  \n",
       "4  nm17045636    Louis Morin  "
      ]
     },
     "execution_count": 69,
     "metadata": {},
     "output_type": "execute_result"
    }
   ],
   "source": [
    "name_basics[\"knownForTitles\"] = name_basics[\"knownForTitles\"].fillna(\"\")\n",
    "name_basics_expanded = name_basics.assign(knownForTitles=name_basics[\"knownForTitles\"].str.split(\",\"))\n",
    "name_basics_expanded = name_basics_expanded.explode(\"knownForTitles\")\n",
    "\n",
    "final_df = pd.merge(movies_df, name_basics_expanded, left_on=\"tconst\", right_on=\"knownForTitles\", how=\"left\")\n",
    "\n",
    "final_df.drop(columns=[\"knownForTitles\"], inplace=True)\n",
    "\n",
    "final_df.head()"
   ]
  },
  {
   "cell_type": "markdown",
   "id": "72522070-a480-4180-84a8-5b81804ccb41",
   "metadata": {},
   "source": [
    "**Saving dataset merged"
   ]
  },
  {
   "cell_type": "code",
   "execution_count": 71,
   "id": "256930fb-a85e-4bb7-8186-dc14242539b4",
   "metadata": {},
   "outputs": [],
   "source": [
    "final_df.to_csv(\"merged_imdb_data.csv\", index=False)"
   ]
  },
  {
   "cell_type": "code",
   "execution_count": null,
   "id": "efac3036-0142-4ba6-9f4c-a99ce84ea05b",
   "metadata": {},
   "outputs": [],
   "source": []
  }
 ],
 "metadata": {
  "kernelspec": {
   "display_name": "Python 3 (ipykernel)",
   "language": "python",
   "name": "python3"
  },
  "language_info": {
   "codemirror_mode": {
    "name": "ipython",
    "version": 3
   },
   "file_extension": ".py",
   "mimetype": "text/x-python",
   "name": "python",
   "nbconvert_exporter": "python",
   "pygments_lexer": "ipython3",
   "version": "3.12.4"
  }
 },
 "nbformat": 4,
 "nbformat_minor": 5
}
