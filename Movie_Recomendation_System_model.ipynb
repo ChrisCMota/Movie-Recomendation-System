{
 "cells": [
  {
   "cell_type": "code",
   "execution_count": 1,
   "id": "c89bb045-49dd-4bcd-bf4c-5f5f4ab50c1e",
   "metadata": {},
   "outputs": [],
   "source": [
    "import pandas as pd\n",
    "import joblib\n",
    "import time\n",
    "from sklearn.feature_extraction.text import TfidfVectorizer\n",
    "from sklearn.neighbors import NearestNeighbors\n",
    "from surprise import Dataset, Reader, SVD"
   ]
  },
  {
   "cell_type": "code",
   "execution_count": 11,
   "id": "58ec26c1-1836-4f39-8aa4-0170eec494ba",
   "metadata": {},
   "outputs": [],
   "source": [
    "import os\n",
    "\n",
    "os.makedirs(\"models\", exist_ok=True)"
   ]
  },
  {
   "cell_type": "code",
   "execution_count": 3,
   "id": "862bdccc-0528-43a9-810d-dbdb675bafa8",
   "metadata": {},
   "outputs": [],
   "source": [
    "start_time = time.time()"
   ]
  },
  {
   "cell_type": "code",
   "execution_count": 5,
   "id": "1c540a70-d4a4-4236-a124-0ca819d88cc5",
   "metadata": {},
   "outputs": [],
   "source": [
    "movies_df = pd.read_csv(\"merged_imdb_data.csv\")\n",
    "movies_df[\"genres\"] = movies_df[\"genres\"].fillna(\"Unknown\")"
   ]
  },
  {
   "cell_type": "markdown",
   "id": "80c8b61b-2747-4353-9133-1593822d14e8",
   "metadata": {},
   "source": [
    "## Content-Based Training"
   ]
  },
  {
   "cell_type": "code",
   "execution_count": 7,
   "id": "6b057c16-d3eb-40d0-ba34-daf5cb337942",
   "metadata": {},
   "outputs": [
    {
     "name": "stdout",
     "output_type": "stream",
     "text": [
      "[INFO] Reducing dataset to top 10,000 movies by popularity...\n"
     ]
    }
   ],
   "source": [
    "print(\"[INFO] Reducing dataset to top 10,000 movies by popularity...\")\n",
    "movies_df = movies_df.sort_values(by=\"averageRating\", ascending=False).dropna(subset=[\"averageRating\"]).head(10000)"
   ]
  },
  {
   "cell_type": "code",
   "execution_count": 13,
   "id": "2afe42ff-1ff8-4fb2-8e57-5147e975487e",
   "metadata": {},
   "outputs": [
    {
     "name": "stdout",
     "output_type": "stream",
     "text": [
      "[INFO] Starting TF-IDF vectorization...\n",
      "[DONE] TF-IDF shape: (10000, 27)\n",
      "[INFO] Fitting NearestNeighbors model...\n",
      "[INFO] Computing all neighbors at once...\n",
      "[INFO] Saving content-based models...\n"
     ]
    },
    {
     "data": {
      "text/plain": [
       "['models/nearest_neighbors_indices.pkl']"
      ]
     },
     "execution_count": 13,
     "metadata": {},
     "output_type": "execute_result"
    }
   ],
   "source": [
    "print(\"[INFO] Starting TF-IDF vectorization...\")\n",
    "tfidf_vectorizer = TfidfVectorizer(stop_words=\"english\")\n",
    "tfidf_matrix = tfidf_vectorizer.fit_transform(movies_df[\"genres\"])\n",
    "print(f\"[DONE] TF-IDF shape: {tfidf_matrix.shape}\")\n",
    "\n",
    "print(\"[INFO] Fitting NearestNeighbors model...\")\n",
    "nn_model = NearestNeighbors(n_neighbors=50, metric=\"cosine\", algorithm=\"brute\")\n",
    "nn_model.fit(tfidf_matrix)\n",
    "\n",
    "print(\"[INFO] Computing all neighbors at once...\")\n",
    "distances, indices = nn_model.kneighbors(tfidf_matrix)\n",
    "\n",
    "# Create model directory if it doesn't exist\n",
    "os.makedirs(\"models\", exist_ok=True)\n",
    "\n",
    "print(\"[INFO] Saving content-based models...\")\n",
    "joblib.dump(tfidf_vectorizer, \"models/tfidf_vectorizer.pkl\")\n",
    "joblib.dump(indices, \"models/nearest_neighbors_indices.pkl\")"
   ]
  },
  {
   "cell_type": "markdown",
   "id": "1c839278-e957-4bad-bfc5-e5a35acb8c64",
   "metadata": {},
   "source": [
    "## Collaborative Filtering (SVD)"
   ]
  },
  {
   "cell_type": "code",
   "execution_count": 17,
   "id": "1e4e5591-cc7e-4b82-8dae-5c4b757a5795",
   "metadata": {},
   "outputs": [
    {
     "name": "stdout",
     "output_type": "stream",
     "text": [
      "[INFO] Preparing SVD collaborative filtering...\n",
      "[INFO] Training SVD model...\n",
      "[INFO] Saving SVD model...\n",
      "Training complete in 279.39 seconds with 10000 movies.\n"
     ]
    }
   ],
   "source": [
    "print(\"[INFO] Preparing SVD collaborative filtering...\")\n",
    "movies_df[\"user_id\"] = movies_df.index % 500\n",
    "\n",
    "reader = Reader(rating_scale=(0, 10))\n",
    "data = Dataset.load_from_df(movies_df[[\"user_id\", \"primaryTitle\", \"averageRating\"]], reader)\n",
    "trainset = data.build_full_trainset()\n",
    "\n",
    "print(\"[INFO] Training SVD model...\")\n",
    "svd_model = SVD(n_factors=50, n_epochs=10)\n",
    "svd_model.fit(trainset)\n",
    "\n",
    "print(\"[INFO] Saving SVD model...\")\n",
    "joblib.dump(svd_model, \"models/svd_model.pkl\")\n",
    "\n",
    "elapsed_time = time.time() - start_time\n",
    "print(f\"Training complete in {elapsed_time:.2f} seconds with {len(movies_df)} movies.\")"
   ]
  }
 ],
 "metadata": {
  "kernelspec": {
   "display_name": "Python 3 (ipykernel)",
   "language": "python",
   "name": "python3"
  },
  "language_info": {
   "codemirror_mode": {
    "name": "ipython",
    "version": 3
   },
   "file_extension": ".py",
   "mimetype": "text/x-python",
   "name": "python",
   "nbconvert_exporter": "python",
   "pygments_lexer": "ipython3",
   "version": "3.12.4"
  }
 },
 "nbformat": 4,
 "nbformat_minor": 5
}
