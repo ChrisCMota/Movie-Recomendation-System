{
 "cells": [
  {
   "cell_type": "markdown",
   "id": "c6fa58e3",
   "metadata": {},
   "source": [
    "### Overview of Library Imports\n",
    "\n",
    "Here is a list of the primary Python libraries used within this project and their uses:\n",
    "\n",
    "- **pandas, numpy**: numerical calculations and data manipulation.\n",
    "- **os, random**: file system access and generation of random numbers.\n",
    "- **joblib**: saving/loading large objects and models.\n",
    "- **TfidfVectorizer & cosine_similarity:** text feature extraction and measurement of similarity\n",
    "- **MinMaxScaler**: scales numeric data.\n",
    "- **ndcg_score**: measures recommendation ranking quality.\n",
    "- **Surprise: SVD, Dataset, Reader, accuracy**: Collaborative filtering and evaluation tools.\n",
    "- **train_test_split (Surprise)**: separates the data for\n",
    "- **defaultdict**: a dictionary with a default value. \n",
    "- **matplotlib, seaborn**: libraries for data visualization."
   ]
  },
  {
   "cell_type": "code",
   "execution_count": 2,
   "id": "74c87232-f4d7-4d36-b6f3-8a872d8aeb9b",
   "metadata": {},
   "outputs": [],
   "source": [
    "import pandas as pd\n",
    "import numpy as np\n",
    "import random\n",
    "import os\n",
    "import joblib\n",
    "from sklearn.feature_extraction.text import TfidfVectorizer\n",
    "from sklearn.metrics.pairwise import cosine_similarity\n",
    "from sklearn.preprocessing import MinMaxScaler\n",
    "from sklearn.metrics import ndcg_score\n",
    "from surprise import SVD, Dataset, Reader, accuracy\n",
    "from surprise.model_selection import train_test_split\n",
    "from collections import defaultdict\n",
    "import matplotlib.pyplot as plt\n",
    "import seaborn as sns"
   ]
  },
  {
   "cell_type": "markdown",
   "id": "0f04a824",
   "metadata": {},
   "source": [
    "Creates a **models** folder if it doesn't already exist, avoiding errors if the folder is already there.\n",
    "https://docs.python.org/3/library/os.html"
   ]
  },
  {
   "cell_type": "code",
   "execution_count": 5,
   "id": "cc277ebc-b180-4468-9376-85edfacc7959",
   "metadata": {},
   "outputs": [],
   "source": [
    "os.makedirs(\"models\", exist_ok=True)"
   ]
  },
  {
   "cell_type": "markdown",
   "id": "f6a9d3b1",
   "metadata": {},
   "source": [
    "Loads IMDb datasets (title.basics, title.ratings, name.basics) from TSV files into pandas DataFrames for further processing.\n",
    "https://pandas.pydata.org/docs/reference/api/pandas.read_csv.html"
   ]
  },
  {
   "cell_type": "code",
   "execution_count": 10,
   "id": "6def4c1f-be78-49ba-b190-8bc884fff1f3",
   "metadata": {},
   "outputs": [
    {
     "name": "stdout",
     "output_type": "stream",
     "text": [
      "[INFO] Loading IMDb datasets...\n",
      "[INFO] IMDb datasets loaded.\n"
     ]
    }
   ],
   "source": [
    "print(\"[INFO] Loading IMDb datasets...\")\n",
    "title_basics = pd.read_csv(\"title.basics.tsv\", sep=\"\\t\", low_memory=False)\n",
    "title_ratings = pd.read_csv(\"title.ratings.tsv\", sep=\"\\t\", low_memory=False)\n",
    "name_basics = pd.read_csv(\"name.basics.tsv\", sep=\"\\t\", low_memory=False)\n",
    "print(\"[INFO] IMDb datasets loaded.\")"
   ]
  },
  {
   "cell_type": "markdown",
   "id": "2998a23b",
   "metadata": {},
   "source": [
    "- Filters **title_basics** to include only rows where the title type is **movie**.\n",
    "- Selects key columns from **title_basics**: **tconst**, **titleType**, **primaryTitle**, **startYear**, and **genres**.\n",
    "- Selects key columns from **title_ratings**: **tconst**, **averageRating**, and **numVotes**.\n",
    "- Selects and cleans **name_basics** by keeping **nconst**, **primaryName**, and **knownForTitles**, and drops rows with missing values.\n",
    "https://pandas.pydata.org/docs/user_guide/indexing.html"
   ]
  },
  {
   "cell_type": "code",
   "execution_count": 13,
   "id": "0692bbf5-b5d6-4eaf-b24c-51879d72f09c",
   "metadata": {},
   "outputs": [],
   "source": [
    "title_basics = title_basics[title_basics[\"titleType\"] == \"movie\"]\n",
    "title_basics = title_basics[[\"tconst\", \"titleType\", \"primaryTitle\", \"startYear\", \"genres\"]]\n",
    "title_ratings = title_ratings[[\"tconst\", \"averageRating\", \"numVotes\"]]\n",
    "name_basics = name_basics[[\"nconst\", \"primaryName\", \"knownForTitles\"]].dropna()"
   ]
  },
  {
   "cell_type": "markdown",
   "id": "64ae5abf",
   "metadata": {},
   "source": [
    "- Splits the **knownForTitles** column of **name_basics** into lists with comma as the separator.\n",
    "- It makes each list wider so that each title is in a distinct row with one movie per line.\n",
    "- Renames the column **knownForTitles** as **tconst** in order to enable matching against movie IDs across other datasets.\n",
    "- It groups the dataset according to **tconst** and aggregates the first five related names as a comma-delimited string with the following lambda function:\n",
    "- Renames the resultant **primaryName** column as **cast_crew** in accordance with the fact that it holds aggregated cast and crew information.\n",
    "\n",
    "https://pandas.pydata.org/docs/reference/api/pandas.Series.str.split.html\n",
    "https://pandas.pydata.org/docs/reference/api/pandas.DataFrame.explode.html\n",
    "https://pandas.pydata.org/docs/reference/api/pandas.DataFrame.rename.html\n",
    "https://pandas.pydata.org/docs/reference/api/pandas.DataFrame.groupby.html\n",
    "https://pandas.pydata.org/docs/reference/api/pandas.Series.apply.html\n",
    "https://pandas.pydata.org/docs/reference/api/pandas.DataFrame.reset_index.html"
   ]
  },
  {
   "cell_type": "code",
   "execution_count": 16,
   "id": "42335779-718e-4081-9c79-86dfa43bc0b6",
   "metadata": {},
   "outputs": [],
   "source": [
    "name_basics[\"knownForTitles\"] = name_basics[\"knownForTitles\"].str.split(\",\")\n",
    "name_basics = name_basics.explode(\"knownForTitles\")\n",
    "name_basics = name_basics.rename(columns={\"knownForTitles\": \"tconst\"})\n",
    "crew_agg = name_basics.groupby(\"tconst\")[\"primaryName\"].apply(lambda x: \", \".join(x.head(5))).reset_index()\n",
    "crew_agg = crew_agg.rename(columns={\"primaryName\": \"cast_crew\"})"
   ]
  },
  {
   "cell_type": "markdown",
   "id": "5b032c1d",
   "metadata": {},
   "source": [
    "- Merges **title_basics** and **title_ratings** DataFrames on the shared column **tconst** to join movie metadata with the ratings.\n",
    "- Merges the output with **crew_agg** incorporating cast and crew details using a left join to preserve all movies.\n",
    "Sorts the merged set by **numVotes** in descending order and retrieves the 10,000 most voted movies.\n",
    "- Deletes any rows with missing essential fields like **genres**, **cast_crew**, or **startYear** in order to maintain data quality.\n",
    "- Saves the last cleaned and filtered DataFrame into a CSV file with the name **cleaned_merged_top10k_movies.csv**.\n",
    "\n",
    "https://pandas.pydata.org/docs/reference/api/pandas.merge.html\n",
    "https://pandas.pydata.org/docs/reference/api/pandas.DataFrame.sort_values.html\n",
    "https://pandas.pydata.org/docs/reference/api/pandas.DataFrame.head.html\n",
    "https://pandas.pydata.org/docs/reference/api/pandas.DataFrame.dropna.html\n",
    "https://pandas.pydata.org/docs/reference/api/pandas.DataFrame.to_csv.html"
   ]
  },
  {
   "cell_type": "code",
   "execution_count": 18,
   "id": "7b9eb1ae",
   "metadata": {},
   "outputs": [],
   "source": [
    "movies_combined_df = pd.merge(title_basics, title_ratings, on=\"tconst\")\n",
    "movies_combined_df = pd.merge(movies_combined_df, crew_agg, on=\"tconst\", how=\"left\")\n",
    "filtered_movies_df = movies_combined_df.sort_values(by=\"numVotes\", ascending=False).head(10000)\n",
    "filtered_movies_df = filtered_movies_df.dropna(subset=[\"genres\", \"cast_crew\", \"startYear\"])\n",
    "filtered_movies_df.to_csv(\"cleaned_merged_top10k_movies.csv\", index=False)"
   ]
  },
  {
   "cell_type": "markdown",
   "id": "1619f6b1",
   "metadata": {},
   "source": [
    "- Prints a header label along with the first 10 rows of the **filtered_movies_df** DataFrame as a preview of the cleaned up data.\n",
    "- It creates a new figure with the specified dimensions of 10 by 5 inches for plotting.\n",
    "- It uses **seaborn** to produce a histogram that depicts the **averageRating** column's distribution with 20 bins along with a KDE curve.\n",
    "- Adds a title and axes labels to make the plot easier to read and more informative.\n",
    "- Rearranges the layout for improved spacing and plots the last histogram using **plt.show().**\n",
    "\n",
    "https://matplotlib.org/stable/api/_as_gen/matplotlib.pyplot.figure.html\n",
    "https://seaborn.pydata.org/generated/seaborn.histplot.html\n",
    "https://matplotlib.org/3.1.1/api/_as_gen/matplotlib.pyplot.title.html\n",
    "https://matplotlib.org/stable/api/_as_gen/matplotlib.pyplot.xlabel.html\n",
    "https://matplotlib.org/stable/api/_as_gen/matplotlib.pyplot.tight_layout.html\n",
    "https://matplotlib.org/stable/api/_as_gen/matplotlib.pyplot.show.html"
   ]
  },
  {
   "cell_type": "code",
   "execution_count": 20,
   "id": "b622d786",
   "metadata": {},
   "outputs": [
    {
     "name": "stdout",
     "output_type": "stream",
     "text": [
      "\n",
      "[DATAFRAME HEAD - FILTERED MOVIES]\n",
      "\n",
      "           tconst titleType  \\\n",
      "62782   tt0111161     movie   \n",
      "140466  tt0468569     movie   \n",
      "182928  tt1375666     movie   \n",
      "72871   tt0137523     movie   \n",
      "62041   tt0109830     movie   \n",
      "62633   tt0110912     movie   \n",
      "146385  tt0816692     movie   \n",
      "71561   tt0133093     movie   \n",
      "37773   tt0068646     movie   \n",
      "67478   tt0120737     movie   \n",
      "\n",
      "                                             primaryTitle startYear  \\\n",
      "62782                            The Shawshank Redemption      1994   \n",
      "140466                                    The Dark Knight      2008   \n",
      "182928                                          Inception      2010   \n",
      "72871                                          Fight Club      1999   \n",
      "62041                                        Forrest Gump      1994   \n",
      "62633                                        Pulp Fiction      1994   \n",
      "146385                                       Interstellar      2014   \n",
      "71561                                          The Matrix      1999   \n",
      "37773                                       The Godfather      1972   \n",
      "67478   The Lord of the Rings: The Fellowship of the Ring      2001   \n",
      "\n",
      "                         genres  averageRating  numVotes  \\\n",
      "62782                     Drama            9.3   3020192   \n",
      "140466       Action,Crime,Drama            9.0   2996473   \n",
      "182928  Action,Adventure,Sci-Fi            8.8   2663209   \n",
      "72871                     Drama            8.8   2442449   \n",
      "62041             Drama,Romance            8.8   2361080   \n",
      "62633               Crime,Drama            8.9   2317406   \n",
      "146385   Adventure,Drama,Sci-Fi            8.7   2312177   \n",
      "71561             Action,Sci-Fi            8.7   2140061   \n",
      "37773               Crime,Drama            9.2   2107735   \n",
      "67478   Adventure,Drama,Fantasy            8.9   2092544   \n",
      "\n",
      "                                                cast_crew  \n",
      "62782   Stephen King, Clancy Brown, Frank Darabont, Ma...  \n",
      "140466  Morgan Freeman, Gary Oldman, Christian Bale, M...  \n",
      "182928  Leonardo DiCaprio, Tom Berenger, Pete Postleth...  \n",
      "72871   Brad Pitt, Helena Bonham Carter, Meat Loaf, Ed...  \n",
      "62041   Tom Hanks, Sally Field, Gary Sinise, Robin Wri...  \n",
      "62633   Samuel L. Jackson, Harvey Keitel, Quentin Tara...  \n",
      "146385  Matthew McConaughey, Hans Zimmer, Wes Bentley,...  \n",
      "71561   Keanu Reeves, Laurence Fishburne, Marilyn Mans...  \n",
      "37773   Marlon Brando, Nino Rota, Al Pacino, Francis F...  \n",
      "67478   Liv Tyler, Sean Astin, Sean Bean, Ian Holm, Ch...  \n"
     ]
    },
    {
     "data": {
      "image/png": "[encoded data removed]",
      "text/plain": [
       "<Figure size 1000x500 with 1 Axes>"
      ]
     },
     "metadata": {},
     "output_type": "display_data"
    }
   ],
   "source": [
    "print(\"\\n[DATAFRAME HEAD - FILTERED MOVIES]\\n\")\n",
    "print(filtered_movies_df.head(10))\n",
    "\n",
    "plt.figure(figsize=(10, 5))\n",
    "sns.histplot(filtered_movies_df['averageRating'], bins=20, kde=True)\n",
    "plt.title(\"Distribution of Average Ratings\")\n",
    "plt.xlabel(\"Rating\")\n",
    "plt.ylabel(\"Frequency\")\n",
    "plt.tight_layout()\n",
    "plt.show()"
   ]
  },
  {
   "cell_type": "markdown",
   "id": "824e6d7a",
   "metadata": {},
   "source": [
    "- Prints a status message signaling the beginning of user rating simulation.\n",
    "Extracts all of the distinct genres from the filtered movie dataset and sorts them.\n",
    "- Creates an empty list to hold the simulated user ratings.\n",
    "- For each user (1-1000), selects a few liked and disliked genres at random.\n",
    "- Randomly samples 20 to 50 movies per user and then generates ratings based on matching genres:\n",
    "Increases rating if liked genres are encountered.\n",
    "-Lowers ranking if there is a dislike of genres.\n",
    "- Ranks ratings between 0.5 and 10.0, to one decimal place.\n",
    "-Stores the obtained results in a DataFrame and saves the file as **simulated_users_ratings.csv**.\n",
    "\n",
    "https://www.geeksforgeeks.org/python-random-sample-function/\n",
    "https://www.w3schools.com/python/ref_random_randint.asp\n",
    "https://numpy.org/doc/stable/reference/random/generated/numpy.random.normal.html\n",
    "https://pandas.pydata.org/docs/reference/api/pandas.DataFrame.sample.html\n",
    "https://pandas.pydata.org/docs/reference/api/pandas.DataFrame.iterrows.html\n",
    "https://pandas.pydata.org/docs/reference/api/pandas.DataFrame.to_csv.html"
   ]
  },
  {
   "cell_type": "code",
   "execution_count": 25,
   "id": "9ea99391",
   "metadata": {},
   "outputs": [
    {
     "name": "stdout",
     "output_type": "stream",
     "text": [
      "[INFO] Simulating realistic user ratings...\n"
     ]
    }
   ],
   "source": [
    "print(\"[INFO] Simulating realistic user ratings...\")\n",
    "unique_genres = sorted(set(\",\".join(filtered_movies_df[\"genres\"]).split(\",\")))\n",
    "user_simulated_ratings = []\n",
    "\n",
    "for user_id in range(1, 1001):\n",
    "    liked_genres = random.sample(unique_genres, k=random.randint(2, 4))\n",
    "    disliked_genres = random.sample([g for g in unique_genres if g not in liked_genres], k=random.randint(1, 2))\n",
    "    sampled_movies = filtered_movies_df.sample(n=random.randint(20, 50), random_state=user_id)\n",
    "\n",
    "    for _, row in sampled_movies.iterrows():\n",
    "        genres = row[\"genres\"].split(\",\")\n",
    "        rating = np.random.normal(loc=7.0, scale=1.0)\n",
    "        if any(g in genres for g in liked_genres):\n",
    "            rating += 1.0\n",
    "        if any(g in genres for g in disliked_genres):\n",
    "            rating -= 2.0\n",
    "        rating = round(min(max(rating, 0.5), 10.0), 1)\n",
    "        user_simulated_ratings.append({\"user_id\": user_id, \"primaryTitle\": row[\"primaryTitle\"], \"rating\": rating})\n",
    "\n",
    "user_ratings_df = pd.DataFrame(user_simulated_ratings)\n",
    "user_ratings_df.to_csv(\"simulated_users_ratings.csv\", index=False)"
   ]
  },
  {
   "cell_type": "markdown",
   "id": "5900b226",
   "metadata": {},
   "source": [
    "- Prints a header and shows the first 10 rows of the **user_ratings_df** DataFrame as a preview of the simulated user ratings.\n",
    "It establishes a new plot figure with dimensions of 10 by 5 inches.\n",
    "- Plots a histogram of the distribution of user-generated **rating** using **seaborn** with 20 bins and a KDE curve for smoothness.\n",
    "- Adds a title and axis labels that make the visualization informative and clear.\n",
    "-Tightens layout spacing with **tight_layout()** and displays the plot with **plt.show()**.\n"
   ]
  },
  {
   "cell_type": "code",
   "execution_count": 28,
   "id": "08348794",
   "metadata": {},
   "outputs": [
    {
     "name": "stdout",
     "output_type": "stream",
     "text": [
      "\n",
      "[DATAFRAME HEAD - USER RATINGS]\n",
      "\n",
      "   user_id                         primaryTitle  rating\n",
      "0        1                           Encino Man     7.6\n",
      "1        1                            Pontypool     6.8\n",
      "2        1                                  Big     9.3\n",
      "3        1                        Deep Blue Sea     7.8\n",
      "4        1                             Shehzada     6.7\n",
      "5        1              The Deaths of Ian Stone     7.2\n",
      "6        1                                 Edtv     8.1\n",
      "7        1  Bring Me the Head of Alfredo Garcia     6.8\n",
      "8        1                       Under the Skin     9.2\n",
      "9        1                            Fair Game     5.2\n"
     ]
    },
    {
     "data": {
      "image/png": "[encoded data removed]",
      "text/plain": [
       "<Figure size 1000x500 with 1 Axes>"
      ]
     },
     "metadata": {},
     "output_type": "display_data"
    }
   ],
   "source": [
    "print(\"\\n[DATAFRAME HEAD - USER RATINGS]\\n\")\n",
    "print(user_ratings_df.head(10))\n",
    "\n",
    "plt.figure(figsize=(10, 5))\n",
    "sns.histplot(user_ratings_df['rating'], bins=20, kde=True)\n",
    "plt.title(\"Distribution of Simulated User Ratings\")\n",
    "plt.xlabel(\"Rating\")\n",
    "plt.ylabel(\"Frequency\")\n",
    "plt.tight_layout()\n",
    "plt.show()"
   ]
  },
  {
   "cell_type": "markdown",
   "id": "2bf2c02b",
   "metadata": {},
   "source": [
    "- Creates a TF-IDF vectorizer to feature-extract from the **genres** column based on the importance of every word within each movie's genres.\n",
    "- Trains the vectorizer to the genres and converts the text to a numerical feature matrix named **genre_tfidf_matrix**.\n",
    "- Does the same for the **cast_crew** column but utilizes a different vectorizer for dealing with names of actors and crew.\n",
    "- Converts this data into **cast_tfidf_matrix**, which facilitates content-based filtering.\n",
    "These matrices are employed to compute similarity between movies for the purpose of recommendations using text-based metadata.\n",
    "\n",
    "https://scikit-learn.org/stable/modules/generated/sklearn.feature_extraction.text.TfidfVectorizer.html\n",
    "https://www.analyticsvidhya.com/blog/2021/04/difference-between-fit-transform-fit_transform-methods-in-scikit-learn-with-python-code/\n",
    "https://scikit-learn.org/stable/modules/generated/sklearn.compose.ColumnTransformer.html\n",
    "https://pandas.pydata.org/docs/reference/api/pandas.DataFrame.fillna.html"
   ]
  },
  {
   "cell_type": "code",
   "execution_count": 31,
   "id": "a55c5c7e",
   "metadata": {},
   "outputs": [
    {
     "name": "stdout",
     "output_type": "stream",
     "text": [
      "[INFO] Training TF-IDF vectorizers...\n",
      "\n",
      "TF-IDF Sample Genre Features:\n",
      " ['action' 'adventure' 'animation' 'biography' 'comedy' 'crime'\n",
      " 'documentary' 'drama' 'family' 'fantasy']\n"
     ]
    }
   ],
   "source": [
    "print(\"[INFO] Training TF-IDF vectorizers...\")\n",
    "genre_vectorizer = TfidfVectorizer(stop_words=\"english\")\n",
    "genre_tfidf_matrix = genre_vectorizer.fit_transform(filtered_movies_df[\"genres\"])\n",
    "cast_vectorizer = TfidfVectorizer(stop_words=\"english\")\n",
    "cast_tfidf_matrix = cast_vectorizer.fit_transform(filtered_movies_df[\"cast_crew\"].fillna(\"\"))\n",
    "\n",
    "print(\"\\nTF-IDF Sample Genre Features:\\n\", genre_vectorizer.get_feature_names_out()[:10])"
   ]
  },
  {
   "cell_type": "markdown",
   "id": "3eff1c43",
   "metadata": {},
   "source": [
    "- Prints a message announcing the training start for the SVD model.\n",
    "Initializes a **Reader** object from Surprise to specify the rating scale expected\n",
    "- Transforms the **user_ratings_df** DataFrame into a Surprise-compatible dataset consisting only of user IDs, movie titles, and ratings.\n",
    "- Splits data into 80/20 ratios for training and test sets through **train_test_split**.\n",
    "Initializes the **SVD** algorithm (Singular Value Decomposition) for collaborative filtering.\n",
    "- Trains the model on the training set using fit().\n",
    "- It evaluates the model on the test set and saves the predicted output to **predictions**.\n",
    "\n",
    "https://surprise.readthedocs.io/en/stable/reader.html\n",
    "https://surprise.readthedocs.io/en/stable/getting_started.html#using-a-custom-dataset-from-a-pandas-dataframe\n",
    "https://surprise.readthedocs.io/en/stable/model_selection.html#train-test-split\n",
    "https://surprise.readthedocs.io/en/stable/matrix_factorization.html#surprise.prediction_algorithms.matrix_factorization.SVD\n",
    "https://surprise.readthedocs.io/en/stable/algobase.html#surprise.prediction_algorithms.algo_base.AlgoBase.fit\n",
    "https://surprise.readthedocs.io/en/stable/algobase.html#surprise.prediction_algorithms.algo_base.AlgoBase.test"
   ]
  },
  {
   "cell_type": "code",
   "execution_count": 34,
   "id": "e8f1e5cf",
   "metadata": {},
   "outputs": [
    {
     "name": "stdout",
     "output_type": "stream",
     "text": [
      "[INFO] Training SVD collaborative model...\n"
     ]
    }
   ],
   "source": [
    "print(\"[INFO] Training SVD collaborative model...\")\n",
    "reader = Reader(rating_scale=(0.5, 10.0))\n",
    "surprise_data = Dataset.load_from_df(user_ratings_df[[\"user_id\", \"primaryTitle\", \"rating\"]], reader)\n",
    "trainset, testset = train_test_split(surprise_data, test_size=0.2)\n",
    "svd_model = SVD()\n",
    "svd_model.fit(trainset)\n",
    "predictions = svd_model.test(testset)"
   ]
  },
  {
   "cell_type": "markdown",
   "id": "24e856d3",
   "metadata": {},
   "source": [
    "- Prints a message that signifies the initiation of rating prediction evaluation.\n",
    "- Calculates and prints the **Root Mean Squared Error (RMSE)**, which is a measurement for how far apart the predicted ratings are from observed ratings.\n",
    "- Computes and prints **Mean Absolute Error (MAE)**, which is the average absolute difference between actual ratings and predicted ratings.\n",
    "These statistics are used to evaluate the correctness and reliability of the collaborative filtering model created based on the SVD algorithm.\n",
    "\n",
    "https://surprise.readthedocs.io/en/stable/accuracy.html#surprise.accuracy.mae\n",
    "https://surprise.readthedocs.io/en/stable/accuracy.html"
   ]
  },
  {
   "cell_type": "code",
   "execution_count": 37,
   "id": "f26b9343",
   "metadata": {},
   "outputs": [
    {
     "name": "stdout",
     "output_type": "stream",
     "text": [
      "\n",
      "[INFO] Rating Prediction Evaluation\n",
      "RMSE: 1.2922\n",
      "RMSE: 1.2921899950938653\n",
      "MAE:  1.0275\n",
      "MAE: 1.0275190961963159\n"
     ]
    }
   ],
   "source": [
    "print(\"\\n[INFO] Rating Prediction Evaluation\")\n",
    "print(\"RMSE:\", accuracy.rmse(predictions))\n",
    "print(\"MAE:\", accuracy.mae(predictions))"
   ]
  },
  {
   "cell_type": "markdown",
   "id": "3cf40728",
   "metadata": {},
   "source": [
    "- Creates a function that computes **Precision@10** and **Recall@10** for every user using the predicted and actual ratings.\n",
    "- Orders predictions by predicted rating and selects items that are above a threshold set by you (default 7.5).\n",
    "- Calculates the number of relevant items it suggested (precision) and the number of relevant items it identified (recall).\n",
    "- Specifies an additional function to calculate **nDCG@10** that assesses the quality of ranked recommendations.\n",
    "- Calculates and prints the average **Precision**, **Recall**, and **nDCG** over all users to evaluate recommendation quality.\n",
    "\n",
    "https://scikit-learn.org/stable/api/sklearn.metrics.html\n",
    "\n",
    "https://scikit-learn.org/stable/modules/generated/sklearn.metrics.ndcg_score.html\n",
    "\n",
    "https://docs.python.org/3/library/collections.html"
   ]
  },
  {
   "cell_type": "code",
   "execution_count": 40,
   "id": "e399d1b7",
   "metadata": {},
   "outputs": [
    {
     "name": "stdout",
     "output_type": "stream",
     "text": [
      "[EVAL] Precision@10: 0.033099297893681046\n",
      "[EVAL] Recall@10: 0.08551212801463555\n",
      "[EVAL] NDCG@10: 0.9224347534628399\n"
     ]
    }
   ],
   "source": [
    "def precision_recall_at_k(predictions, k=10, threshold=7.5):\n",
    "    user_est_true = defaultdict(list)\n",
    "    for pred in predictions:\n",
    "        user_est_true[pred.uid].append((pred.est, pred.r_ui))\n",
    "    precisions, recalls = {}, {}\n",
    "    for uid, user_ratings in user_est_true.items():\n",
    "        user_ratings.sort(key=lambda x: x[0], reverse=True)\n",
    "        top_k = user_ratings[:k]\n",
    "        num_relevant = sum((true >= threshold) for (_, true) in user_ratings)\n",
    "        num_rec_k = sum((est >= threshold) for (est, _) in top_k)\n",
    "        num_rel_and_rec = sum(((true >= threshold) and (est >= threshold)) for (est, true) in top_k)\n",
    "        precisions[uid] = num_rel_and_rec / k\n",
    "        recalls[uid] = num_rel_and_rec / num_relevant if num_relevant else 0\n",
    "    return precisions, recalls\n",
    "\n",
    "def compute_ndcg(predictions, k=10):\n",
    "    scores_est = defaultdict(list)\n",
    "    scores_true = defaultdict(list)\n",
    "    for pred in predictions:\n",
    "        scores_est[pred.uid].append(pred.est)\n",
    "        scores_true[pred.uid].append(pred.r_ui)\n",
    "    ndcg_scores = []\n",
    "    for uid in scores_est:\n",
    "        if len(scores_est[uid]) < k:\n",
    "            continue\n",
    "        est = np.asarray([scores_est[uid]])\n",
    "        true = np.asarray([scores_true[uid]])\n",
    "        ndcg_scores.append(ndcg_score(true, est, k=k))\n",
    "    return np.mean(ndcg_scores)\n",
    "\n",
    "p, r = precision_recall_at_k(predictions)\n",
    "print(\"[EVAL] Precision@10:\", np.mean(list(p.values())))\n",
    "print(\"[EVAL] Recall@10:\", np.mean(list(r.values())))\n",
    "print(\"[EVAL] NDCG@10:\", compute_ndcg(predictions))"
   ]
  },
  {
   "cell_type": "markdown",
   "id": "8f055f3d",
   "metadata": {},
   "source": [
    "- Prints a message indicating the start of the model-saving process.\n",
    "- Saves the **genre_vectorizer** and **cast_vectorizer** to **.pkl** files for future text feature extraction.\n",
    "- Saves the trained **SVD model** for reuse in generating recommendations.\n",
    "- Saves the cleaned and filtered **movies DataFrame**.\n",
    "- Saves the computed **TF-IDF matrices** for genres and cast to disk.\n",
    "- All artifacts are stored in the **models/** directory, allowing the system to be reloaded without retraining or reprocessing.\n",
    "\n",
    "https://joblib.readthedocs.io/en/latest/generated/joblib.dump.html"
   ]
  },
  {
   "cell_type": "code",
   "execution_count": 43,
   "id": "c2d97285",
   "metadata": {},
   "outputs": [
    {
     "name": "stdout",
     "output_type": "stream",
     "text": [
      "[INFO] Saving models...\n",
      "[INFO] All models saved to 'models/' folder.\n"
     ]
    }
   ],
   "source": [
    "print(\"[INFO] Saving models...\")\n",
    "joblib.dump(genre_vectorizer, \"models/genre_vectorizer.pkl\")\n",
    "joblib.dump(cast_vectorizer, \"models/cast_vectorizer.pkl\")\n",
    "joblib.dump(svd_model, \"models/svd_model.pkl\")\n",
    "joblib.dump(filtered_movies_df, \"models/movies_df.pkl\")\n",
    "joblib.dump(genre_tfidf_matrix, \"models/genre_tfidf_matrix.pkl\")\n",
    "joblib.dump(cast_tfidf_matrix, \"models/cast_tfidf_matrix.pkl\")\n",
    "\n",
    "print(\"[INFO] All models saved to 'models/' folder.\")"
   ]
  }
 ],
 "metadata": {
  "kernelspec": {
   "display_name": "Python 3 (ipykernel)",
   "language": "python",
   "name": "python3"
  },
  "language_info": {
   "codemirror_mode": {
    "name": "ipython",
    "version": 3
   },
   "file_extension": ".py",
   "mimetype": "text/x-python",
   "name": "python",
   "nbconvert_exporter": "python",
   "pygments_lexer": "ipython3",
   "version": "3.12.4"
  }
 },
 "nbformat": 4,
 "nbformat_minor": 5
}
