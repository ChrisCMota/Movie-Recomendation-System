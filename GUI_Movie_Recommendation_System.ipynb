{
 "cells": [
  {
   "cell_type": "markdown",
   "id": "ecf41aab-820a-45b5-bd7f-b9b5149900b8",
   "metadata": {},
   "source": [
    "### All required libraries import to support the GUI, dataset operation, and recommendation logic\n",
    "\n",
    "- **tkinter and ttk**: Used for creating the graphical interface that allows the user to interact with the recommendation system.\n",
    "https://docs.python.org/3/library/tkinter.html\n",
    "\n",
    "- **pandas**: Provides powerful tools for reading, manipulating, and analyzing structured data (like movie and ratings data).\n",
    "https://pandas.pydata.org/docs/user_guide/index.html#user-guide\n",
    "\n",
    "- **joblib**: Enables saving and loading machine learning models and large data efficiently (used here to load models and data).\n",
    "https://joblib.readthedocs.io/en/latest/\n",
    "\n",
    "- **random**: Built-in Python module to perform random operations, such as selecting movies for user input.\n",
    "https://docs.python.org/3/library/random.html\n",
    "\n",
    "- **cosine_similarity from sklearn.metrics.pairwise**: Measures how similar two vectors are — useful for comparing movie features like genres or cast.\n",
    "https://scikit-learn.org/stable/user_guide.html"
   ]
  },
  {
   "cell_type": "code",
   "execution_count": 7,
   "id": "bb0c34d9-53fb-4a96-97db-9cf0e8c08956",
   "metadata": {},
   "outputs": [],
   "source": [
    "import tkinter as tk\n",
    "from tkinter import ttk\n",
    "import pandas as pd\n",
    "import joblib\n",
    "import random\n",
    "from sklearn.metrics.pairwise import cosine_similarity"
   ]
  },
  {
   "cell_type": "markdown",
   "id": "cc14d0a1-95bd-4452-a9e2-df86bb664da0",
   "metadata": {},
   "source": [
    "#### This block loads the pre-trained machine learning models and preprocessed data that are essential for generating movie recommendations.\n",
    "\n",
    "https://pandas.pydata.org/docs/reference/api/pandas.DataFrame.reset_index.html\n",
    "https://surprise.readthedocs.io/en/stable/matrix_factorization.html#singular-value-decomposition"
   ]
  },
  {
   "cell_type": "code",
   "execution_count": 16,
   "id": "ec3fa468-93c8-45f9-8ae0-33c888aa17d6",
   "metadata": {},
   "outputs": [],
   "source": [
    "movies_df = joblib.load(\"models/movies_df.pkl\").reset_index(drop=True)\n",
    "genre_tfidf_matrix = joblib.load(\"models/genre_tfidf_matrix.pkl\")\n",
    "cast_tfidf_matrix = joblib.load(\"models/cast_tfidf_matrix.pkl\")\n",
    "svd_model = joblib.load(\"models/svd_model.pkl\")"
   ]
  },
  {
   "cell_type": "markdown",
   "id": "900fd998-fc94-4e60-a157-41c9b9b74116",
   "metadata": {},
   "source": [
    "#### Select 10 popular and diverse movies from the dataset for the user to rate initially. This helps personalize the recommendation system based on user input.\n",
    "\n",
    "https://pandas.pydata.org/docs/reference/api/pandas.DataFrame.sort_values.html\n",
    "https://pandas.pydata.org/docs/reference/api/pandas.DataFrame.sample.html"
   ]
  },
  {
   "cell_type": "code",
   "execution_count": 21,
   "id": "910617cc-8236-4923-8ce9-bbd51ae27002",
   "metadata": {},
   "outputs": [],
   "source": [
    "top_movies = movies_df.sort_values(\"numVotes\", ascending=False).head(1000)\n",
    "initial_rating_movies = top_movies.sample(n=10, random_state=random.randint(0, 10000)).reset_index(drop=True)"
   ]
  },
  {
   "cell_type": "markdown",
   "id": "900a072d-6f27-4712-926a-ec34a8128e35",
   "metadata": {},
   "source": [
    "#### Initialize and configure the main application window for the GUI using Tkinter.\n",
    "\n",
    "https://docs.python.org/3/library/tkinter.html#tkinter.Tk"
   ]
  },
  {
   "cell_type": "code",
   "execution_count": 28,
   "id": "4f4fdbbc-f27c-4a24-a5d9-3bb32126d6ff",
   "metadata": {},
   "outputs": [
    {
     "data": {
      "text/plain": [
       "''"
      ]
     },
     "execution_count": 28,
     "metadata": {},
     "output_type": "execute_result"
    }
   ],
   "source": [
    "root = tk.Tk()\n",
    "root.title(\"Movie Recommender\")\n",
    "root.geometry(\"800x600\")"
   ]
  },
  {
   "cell_type": "markdown",
   "id": "3fd5ce70-92db-4143-b65a-cd31e185ac41",
   "metadata": {},
   "source": [
    "#### Creates and places a frame inside the main window to hold the rating-related widgets.\n",
    "\n",
    "https://docs.python.org/3/library/tkinter.html#tkinter.Frame"
   ]
  },
  {
   "cell_type": "code",
   "execution_count": 33,
   "id": "a36a9d4e-b837-4cc7-88af-76a43a5b1e8d",
   "metadata": {},
   "outputs": [],
   "source": [
    "rating_frame = tk.Frame(root)\n",
    "rating_frame.pack(fill=tk.BOTH, expand=True, padx=10, pady=10)"
   ]
  },
  {
   "cell_type": "markdown",
   "id": "c97c4c82-0035-4840-ba57-e425803d72ac",
   "metadata": {},
   "source": [
    "#### Sets up a scrollable area inside the rating_frame to accommodate many movie rating widgets in a clean, scrollable view.\n",
    "\n",
    "Creates a Canvas widget inside rating_frame. The canvas provides a space where widgets can be drawn or added, enabling scrolling of content.\n",
    "https://docs.python.org/3/library/tkinter.html#canvas\n",
    "\n",
    "Adds a vertical scrollbar linked to the canvas’s vertical scrolling (yview). It allows vertical navigation through long content.\n",
    "https://www.pythontutorial.net/tkinter/tkinter-scrollbar/\n",
    "\n",
    "Creates a Frame inside the canvas to hold the actual content (movie widgets). This is where movie cards will be displayed, and this frame will be scrolled.\n",
    "https://www.pythontutorial.net/tkinter/tkinter-frame/\n",
    "\n",
    "Canvas doc: https://tkdocs.com/tutorial/canvas.html"
   ]
  },
  {
   "cell_type": "code",
   "execution_count": 38,
   "id": "ba0ca8a3-3d57-4400-8ba2-de064476b9f4",
   "metadata": {},
   "outputs": [],
   "source": [
    "canvas = tk.Canvas(rating_frame)\n",
    "scrollbar = ttk.Scrollbar(rating_frame, orient=\"vertical\", command=canvas.yview)\n",
    "scrollable_frame = ttk.Frame(canvas)"
   ]
  },
  {
   "cell_type": "markdown",
   "id": "79fcd3bc-ff0d-4dde-9664-72e0c9c18f84",
   "metadata": {},
   "source": []
  }
 ],
 "metadata": {
  "kernelspec": {
   "display_name": "Python 3 (ipykernel)",
   "language": "python",
   "name": "python3"
  },
  "language_info": {
   "codemirror_mode": {
    "name": "ipython",
    "version": 3
   },
   "file_extension": ".py",
   "mimetype": "text/x-python",
   "name": "python",
   "nbconvert_exporter": "python",
   "pygments_lexer": "ipython3",
   "version": "3.12.4"
  }
 },
 "nbformat": 4,
 "nbformat_minor": 5
}
