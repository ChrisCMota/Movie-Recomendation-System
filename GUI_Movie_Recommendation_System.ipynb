{
 "cells": [
  {
   "cell_type": "markdown",
   "id": "ecf41aab-820a-45b5-bd7f-b9b5149900b8",
   "metadata": {},
   "source": [
    "### All required libraries import to support the GUI, dataset operation, and recommendation logic\n",
    "\n",
    "- **tkinter and ttk**: Used for creating the graphical interface that allows the user to interact with the recommendation system.\n",
    "https://docs.python.org/3/library/tkinter.html\n",
    "\n",
    "- **pandas**: Provides powerful tools for reading, manipulating, and analyzing structured data (like movie and ratings data).\n",
    "https://pandas.pydata.org/docs/user_guide/index.html#user-guide\n",
    "\n",
    "- **joblib**: Enables saving and loading machine learning models and large data efficiently (used here to load models and data).\n",
    "https://joblib.readthedocs.io/en/latest/\n",
    "\n",
    "- **random**: Built-in Python module to perform random operations, such as selecting movies for user input.\n",
    "https://docs.python.org/3/library/random.html\n",
    "\n",
    "- **cosine_similarity from sklearn.metrics.pairwise**: Measures how similar two vectors are — useful for comparing movie features like genres or cast.\n",
    "https://scikit-learn.org/stable/user_guide.html"
   ]
  },
  {
   "cell_type": "code",
   "execution_count": 7,
   "id": "bb0c34d9-53fb-4a96-97db-9cf0e8c08956",
   "metadata": {},
   "outputs": [],
   "source": [
    "import tkinter as tk\n",
    "from tkinter import ttk\n",
    "import pandas as pd\n",
    "import joblib\n",
    "import random\n",
    "from sklearn.metrics.pairwise import cosine_similarity"
   ]
  },
  {
   "cell_type": "markdown",
   "id": "cc14d0a1-95bd-4452-a9e2-df86bb664da0",
   "metadata": {},
   "source": [
    "#### This block loads the pre-trained machine learning models and preprocessed data that are essential for generating movie recommendations.\n",
    "\n",
    "https://pandas.pydata.org/docs/reference/api/pandas.DataFrame.reset_index.html\n",
    "https://surprise.readthedocs.io/en/stable/matrix_factorization.html#singular-value-decomposition"
   ]
  },
  {
   "cell_type": "code",
   "execution_count": 16,
   "id": "ec3fa468-93c8-45f9-8ae0-33c888aa17d6",
   "metadata": {},
   "outputs": [],
   "source": [
    "movies_df = joblib.load(\"models/movies_df.pkl\").reset_index(drop=True)\n",
    "genre_tfidf_matrix = joblib.load(\"models/genre_tfidf_matrix.pkl\")\n",
    "cast_tfidf_matrix = joblib.load(\"models/cast_tfidf_matrix.pkl\")\n",
    "svd_model = joblib.load(\"models/svd_model.pkl\")"
   ]
  },
  {
   "cell_type": "markdown",
   "id": "900fd998-fc94-4e60-a157-41c9b9b74116",
   "metadata": {},
   "source": [
    "#### Select 10 popular and diverse movies from the dataset for the user to rate initially. This helps personalize the recommendation system based on user input.\n",
    "\n",
    "https://pandas.pydata.org/docs/reference/api/pandas.DataFrame.sort_values.html\n",
    "https://pandas.pydata.org/docs/reference/api/pandas.DataFrame.sample.html"
   ]
  },
  {
   "cell_type": "code",
   "execution_count": 21,
   "id": "910617cc-8236-4923-8ce9-bbd51ae27002",
   "metadata": {},
   "outputs": [],
   "source": [
    "top_movies = movies_df.sort_values(\"numVotes\", ascending=False).head(1000)\n",
    "initial_rating_movies = top_movies.sample(n=10, random_state=random.randint(0, 10000)).reset_index(drop=True)"
   ]
  },
  {
   "cell_type": "code",
   "execution_count": null,
   "id": "d6201501-678d-4a42-beae-1881107ae895",
   "metadata": {},
   "outputs": [],
   "source": []
  }
 ],
 "metadata": {
  "kernelspec": {
   "display_name": "Python 3 (ipykernel)",
   "language": "python",
   "name": "python3"
  },
  "language_info": {
   "codemirror_mode": {
    "name": "ipython",
    "version": 3
   },
   "file_extension": ".py",
   "mimetype": "text/x-python",
   "name": "python",
   "nbconvert_exporter": "python",
   "pygments_lexer": "ipython3",
   "version": "3.12.4"
  }
 },
 "nbformat": 4,
 "nbformat_minor": 5
}
