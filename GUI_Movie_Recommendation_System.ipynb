{
 "cells": [
  {
   "cell_type": "markdown",
   "id": "ecf41aab-820a-45b5-bd7f-b9b5149900b8",
   "metadata": {},
   "source": [
    "### All required libraries import to support the GUI, dataset operation, and recommendation logic\n",
    "\n",
    "- **tkinter and ttk**: Used for creating the graphical interface that allows the user to interact with the recommendation system.\n",
    "https://docs.python.org/3/library/tkinter.html\n",
    "\n",
    "- **pandas**: Provides powerful tools for reading, manipulating, and analyzing structured data (like movie and ratings data).\n",
    "https://pandas.pydata.org/docs/user_guide/index.html#user-guide\n",
    "\n",
    "- **joblib**: Enables saving and loading machine learning models and large data efficiently (used here to load models and data).\n",
    "https://joblib.readthedocs.io/en/latest/\n",
    "\n",
    "- **random**: Built-in Python module to perform random operations, such as selecting movies for user input.\n",
    "https://docs.python.org/3/library/random.html\n",
    "\n",
    "- **cosine_similarity from sklearn.metrics.pairwise**: Measures how similar two vectors are — useful for comparing movie features like genres or cast.\n",
    "https://scikit-learn.org/stable/user_guide.html"
   ]
  },
  {
   "cell_type": "code",
   "execution_count": 16,
   "id": "bb0c34d9-53fb-4a96-97db-9cf0e8c08956",
   "metadata": {},
   "outputs": [],
   "source": [
    "import tkinter as tk\n",
    "from tkinter import ttk\n",
    "import pandas as pd\n",
    "import joblib\n",
    "import random\n",
    "from sklearn.metrics.pairwise import cosine_similarity"
   ]
  },
  {
   "cell_type": "markdown",
   "id": "cc14d0a1-95bd-4452-a9e2-df86bb664da0",
   "metadata": {},
   "source": [
    "#### This block loads the pre-trained machine learning models and preprocessed data that are essential for generating movie recommendations.\n",
    "\n",
    "https://pandas.pydata.org/docs/reference/api/pandas.DataFrame.reset_index.html\n",
    "https://surprise.readthedocs.io/en/stable/matrix_factorization.html#singular-value-decomposition"
   ]
  },
  {
   "cell_type": "code",
   "execution_count": 19,
   "id": "ec3fa468-93c8-45f9-8ae0-33c888aa17d6",
   "metadata": {},
   "outputs": [],
   "source": [
    "movies_df = joblib.load(\"models/movies_df.pkl\").reset_index(drop=True)\n",
    "genre_tfidf_matrix = joblib.load(\"models/genre_tfidf_matrix.pkl\")\n",
    "cast_tfidf_matrix = joblib.load(\"models/cast_tfidf_matrix.pkl\")\n",
    "svd_model = joblib.load(\"models/svd_model.pkl\")"
   ]
  },
  {
   "cell_type": "markdown",
   "id": "900fd998-fc94-4e60-a157-41c9b9b74116",
   "metadata": {},
   "source": [
    "#### Select 10 popular and diverse movies from the dataset for the user to rate initially. This helps personalize the recommendation system based on user input.\n",
    "\n",
    "https://pandas.pydata.org/docs/reference/api/pandas.DataFrame.sort_values.html\n",
    "https://pandas.pydata.org/docs/reference/api/pandas.DataFrame.sample.html"
   ]
  },
  {
   "cell_type": "code",
   "execution_count": 22,
   "id": "910617cc-8236-4923-8ce9-bbd51ae27002",
   "metadata": {},
   "outputs": [],
   "source": [
    "top_movies = movies_df.sort_values(\"numVotes\", ascending=False).head(1000)\n",
    "initial_rating_movies = top_movies.sample(n=10, random_state=random.randint(0, 10000)).reset_index(drop=True)"
   ]
  },
  {
   "cell_type": "markdown",
   "id": "900a072d-6f27-4712-926a-ec34a8128e35",
   "metadata": {},
   "source": [
    "####  1 - Initialize and configure the main application window for the GUI using Tkinter.\n",
    "\n",
    "https://docs.python.org/3/library/tkinter.html#tkinter.Tk"
   ]
  },
  {
   "cell_type": "markdown",
   "id": "3fd5ce70-92db-4143-b65a-cd31e185ac41",
   "metadata": {},
   "source": [
    "#### 2 - Creates and places a frame inside the main window to hold the rating-related widgets.\n",
    "\n",
    "https://docs.python.org/3/library/tkinter.html#tkinter.Frame"
   ]
  },
  {
   "cell_type": "markdown",
   "id": "c97c4c82-0035-4840-ba57-e425803d72ac",
   "metadata": {},
   "source": [
    "#### 3 - Sets up a scrollable area inside the rating_frame to accommodate many movie rating widgets in a clean, scrollable view.\n",
    "\n",
    "Creates a Canvas widget inside rating_frame. The canvas provides a space where widgets can be drawn or added, enabling scrolling of content.\n",
    "https://docs.python.org/3/library/tkinter.html#canvas\n",
    "\n",
    "Adds a vertical scrollbar linked to the canvas’s vertical scrolling (yview). It allows vertical navigation through long content.\n",
    "https://www.pythontutorial.net/tkinter/tkinter-scrollbar/\n",
    "\n",
    "Creates a Frame inside the canvas to hold the actual content (movie widgets). This is where movie cards will be displayed, and this frame will be scrolled.\n",
    "https://www.pythontutorial.net/tkinter/tkinter-frame/\n",
    "\n",
    "Canvas doc: https://tkdocs.com/tutorial/canvas.html"
   ]
  },
  {
   "cell_type": "markdown",
   "id": "79fcd3bc-ff0d-4dde-9664-72e0c9c18f84",
   "metadata": {},
   "source": [
    "#### 4 - Makes the scroll functionality responsive to content size changes inside scrollable_frame.\n",
    "\n",
    "Binds an event that triggers every time the scrollable frame is resized, and updates the scrollable region of the canvas to include everything.\n",
    "https://blog.teclado.com/tkinter-scrollable-frames/"
   ]
  },
  {
   "cell_type": "markdown",
   "id": "278c0833-8e93-45b8-8a2d-a548e1a69048",
   "metadata": {},
   "source": [
    "#### 5 - Connects the scrollable_frame to the canvas and enables vertical scrolling using the scrollbar.\n",
    "\n",
    "Embeds the scrollable_frame inside the canvas at the top-left corner (0, 0).\n",
    "\n",
    "Anchor=\"nw\" means the embedded frame is pinned to the northwest (top-left) of the canvas.\n",
    "\n",
    "canvas.configure(yscrollcommand=scrollbar.set) links the scrollbar to the canvas’s vertical view and ensures the scrollbar updates as the user scrolls through the canvas content.\n",
    "\n",
    "https://stackoverflow.com/questions/58009398/tkinter-what-is-a-window-when-calling-tk-canvas-create-window\n",
    "https://www.geeksforgeeks.org/how-to-add-a-scrollbar-to-a-group-of-widgets-in-tkinter/"
   ]
  },
  {
   "cell_type": "markdown",
   "id": "95285d7f-4bcb-4fa0-bf9e-ee88f6a5be74",
   "metadata": {},
   "source": [
    "#### 6 - Arranges the canvas and scrollbar widgets inside the parent rating_frame using the Tkinter layout manager .pack().\n",
    "\n",
    "Places the canvas on the left side of the parent frame (rating_frame); fill=\"both\": Makes the canvas stretch to fill both width and height of the available space; expand=True: Allows the canvas to grow and shrink when the window resizes.\n",
    "\n",
    "Places the scrollbar on the right side of the frame; fill=\"y\": Makes the scrollbar stretch vertically."
   ]
  },
  {
   "cell_type": "markdown",
   "id": "9e3c57fb-1389-4370-8fc3-f4611f233d77",
   "metadata": {},
   "source": [
    "#### 7 - Dynamically creates a set of movie rating widgets in the UI, allowing users to rate 10 well-known, randomly chosen movies.\n",
    "\n",
    "rating_vars = [] initializes an empty list to store movie–rating variable pairs for later use in recommendation logic.\n",
    "\n",
    "for i, row in initial_rating_movies.iterrows(): iterates through each of the 10 selected movies.\n",
    "\n",
    "frame = ttk.LabelFrame(...) creates a labeled frame for each movie displaying its title and release year.\n",
    "\n",
    "ttk.Label(...) displays the movie’s genres and cast information inside the frame.\n",
    "\n",
    "rating_var = tk.DoubleVar(value=5.0) initializes a Tkinter variable to hold the user’s rating, defaulting to 5.0.\n",
    "\n",
    "rating_dropdown = ttk.Combobox(...) creates a dropdown allowing the user to select a rating from 1 to 10.\n",
    "https://tkdocs.com/tutorial/widgets.html#combobox"
   ]
  },
  {
   "cell_type": "markdown",
   "id": "518e2430-458a-4645-94e5-183f349c60fe",
   "metadata": {},
   "source": [
    "#### 8 - Collects the movies that were rated by the user and stores.\n",
    "\n",
    "rated_titles: names of the movies rated.\n",
    "\n",
    "rated_indices: the corresponding index in movies_df for similarity lookup.\n",
    "\n",
    "We need these to compute similarity scores (TF-IDF) and filter out movies already seen/rated.\n",
    "\n",
    "https://pandas.pydata.org/docs/user_guide/indexing.html"
   ]
  },
  {
   "cell_type": "markdown",
   "id": "0b4280a0-7b30-45f4-8b55-dbc5fc5f8def",
   "metadata": {},
   "source": [
    "#### 9 - Compute Hybrid Recommendation Scores.\n",
    "\n",
    "Skips any already-rated movies when making recommendations.\n",
    "\n",
    "Compute genre, and cast similarity using tf-idf vectors. Also compute predicted rating using svd collab filtering. Combine all into a weighted hybrid score blending content-based and collab filtering for better recommendation.\n",
    "https://scikit-learn.org/stable/modules/metrics.html#cosine-similarity\n",
    "https://surprise.readthedocs.io/en/stable/matrix_factorization.html#surprise.prediction_algorithms.matrix_factorization.SVD"
   ]
  },
  {
   "cell_type": "markdown",
   "id": "f3e1a29e-f303-4cb5-85c8-1500993eeb11",
   "metadata": {},
   "source": [
    "#### 10 - Sorts the list of recommendations in descending order based on their hybrid score (which is at index 3 in each tuple), and then selects the top 10.\n",
    "\n",
    "recommendations is a list of tuples.\n",
    "\n",
    "key=lambda x: x[3] tells sorted() to sort by the hybrid score.\n",
    "\n",
    "reverse=True means higher scores appear first (descending order).\n",
    "\n",
    "[:10] slices the first 10 results from the sorted list.\n",
    "https://docs.python.org/3/library/functions.html#sorted\n",
    "https://docs.python.org/3/tutorial/controlflow.html#lambda-expressions"
   ]
  },
  {
   "cell_type": "markdown",
   "id": "6eff60fc-7a63-458c-b03a-a9ba01eeb3ea",
   "metadata": {},
   "source": [
    "#### 11 - Clears old recommendation widgets from the GUI to avoid stacking new recommendations on top of previous ones.\n",
    "\n",
    "https://www.geeksforgeeks.org/how-to-clear-out-a-frame-in-the-tkinter/"
   ]
  },
  {
   "cell_type": "markdown",
   "id": "cd6e2974-f6b9-4442-8153-8f58eec72796",
   "metadata": {},
   "source": [
    "#### 12 - Display recommendations.\n",
    "\n",
    "Creates a LabelFrame for each movie and shows title, genres, cast, calc hybrid score, and preditcted rating.\n",
    "https://docs.python.org/3/library/tkinter.ttk.html"
   ]
  },
  {
   "cell_type": "markdown",
   "id": "f614d40b-23e8-40c3-8c52-dfc151d4b854",
   "metadata": {},
   "source": [
    "#### 13 - Creates a button.\n",
    "\n",
    "root is the parent window.\n",
    "\n",
    "text=\"Get Recommendations\" sets the label on the button. \n",
    "\n",
    "command=recommend binds the button click event to execute the recommend() function."
   ]
  },
  {
   "cell_type": "code",
   "execution_count": 37,
   "id": "4f4fdbbc-f27c-4a24-a5d9-3bb32126d6ff",
   "metadata": {},
   "outputs": [
    {
     "name": "stderr",
     "output_type": "stream",
     "text": [
      "2025-05-16 16:47:34.901 python[85947:19092895] +[IMKClient subclass]: chose IMKClient_Modern\n",
      "2025-05-16 16:47:34.901 python[85947:19092895] +[IMKInputSession subclass]: chose IMKInputSession_Modern\n"
     ]
    }
   ],
   "source": [
    "#1\n",
    "root = tk.Tk()\n",
    "root.title(\"Movie Recommender\")\n",
    "root.geometry(\"800x600\")\n",
    "\n",
    "#2\n",
    "rating_frame = tk.Frame(root)\n",
    "rating_frame.pack(fill=tk.BOTH, expand=True, padx=10, pady=10)\n",
    "\n",
    "#3\n",
    "canvas = tk.Canvas(rating_frame)\n",
    "scrollbar = ttk.Scrollbar(rating_frame, orient=\"vertical\", command=canvas.yview)\n",
    "scrollable_frame = ttk.Frame(canvas)\n",
    "\n",
    "#4\n",
    "scrollable_frame.bind(\n",
    "    \"<Configure>\",\n",
    "    lambda e: canvas.configure(scrollregion=canvas.bbox(\"all\"))\n",
    ")\n",
    "\n",
    "#5\n",
    "canvas.create_window((0, 0), window=scrollable_frame, anchor=\"nw\")\n",
    "canvas.configure(yscrollcommand=scrollbar.set)\n",
    "\n",
    "#6\n",
    "canvas.pack(side=\"left\", fill=\"both\", expand=True)\n",
    "scrollbar.pack(side=\"right\", fill=\"y\")\n",
    "\n",
    "#7\n",
    "rating_vars = []\n",
    "\n",
    "for i, row in initial_rating_movies.iterrows():\n",
    "    frame = ttk.LabelFrame(scrollable_frame, text=f\"{row['primaryTitle']} ({row['startYear']})\")\n",
    "    frame.pack(fill=\"x\", pady=5)\n",
    "\n",
    "    ttk.Label(frame, text=f\"Genres: {row['genres']}\").pack(anchor=\"w\")\n",
    "    ttk.Label(frame, text=f\"Cast: {row['cast_crew']}\").pack(anchor=\"w\")\n",
    "\n",
    "    rating_var = tk.DoubleVar(value=5.0)\n",
    "    rating_dropdown = ttk.Combobox(frame, textvariable=rating_var, values=[i for i in range(1, 11)], width=5)\n",
    "    rating_dropdown.pack(anchor=\"w\")\n",
    "    rating_vars.append((row, rating_var))\n",
    "\n",
    "#8\n",
    "def recommend():\n",
    "    rated_titles = []\n",
    "    rated_indices = []\n",
    "    for movie, rating_var in rating_vars:\n",
    "        match = movies_df[movies_df[\"primaryTitle\"] == movie[\"primaryTitle\"]]\n",
    "        if not match.empty:\n",
    "            idx = match.index[0]\n",
    "            rated_indices.append(idx)\n",
    "            rated_titles.append(movie[\"primaryTitle\"])\n",
    "\n",
    "    #9\n",
    "    recommendations = []\n",
    "    for i in range(len(movies_df)):\n",
    "        if movies_df.iloc[i][\"primaryTitle\"] in rated_titles:\n",
    "            continue\n",
    "        genre_sim = cosine_similarity(genre_tfidf_matrix[i], genre_tfidf_matrix[rated_indices]).mean()\n",
    "        cast_sim = cosine_similarity(cast_tfidf_matrix[i], cast_tfidf_matrix[rated_indices]).mean()\n",
    "        pred_rating = svd_model.predict(9999, movies_df.iloc[i][\"primaryTitle\"]).est\n",
    "        score = 0.5 * pred_rating + 0.25 * genre_sim + 0.25 * cast_sim\n",
    "        recommendations.append((movies_df.iloc[i][\"primaryTitle\"], movies_df.iloc[i][\"genres\"], \n",
    "                                 movies_df.iloc[i][\"cast_crew\"], score, pred_rating))\n",
    "\n",
    "    #10\n",
    "    recommendations = sorted(recommendations, key=lambda x: x[3], reverse=True)[:10]\n",
    "\n",
    "    #11\n",
    "    for widget in scrollable_frame.winfo_children():\n",
    "        widget.destroy()\n",
    "\n",
    "    #12\n",
    "    for title, genres, cast, score, pred_rating in recommendations:\n",
    "        rec_frame = ttk.LabelFrame(scrollable_frame, text=f\"{title}\")\n",
    "        rec_frame.pack(fill=\"x\", pady=5)\n",
    "        ttk.Label(rec_frame, text=f\"Genres: {genres}\").pack(anchor=\"w\")\n",
    "        ttk.Label(rec_frame, text=f\"Cast: {cast}\").pack(anchor=\"w\")\n",
    "        ttk.Label(rec_frame, text=f\"Predicted Rating: {score:.2f}\").pack(anchor=\"w\")\n",
    "        ttk.Label(rec_frame, text=f\"Score: {pred_rating:.2f}\").pack(anchor=\"w\")\n",
    "\n",
    "#13\n",
    "recommend_btn = tk.Button(root, text=\"Get Recommendations\", command=recommend)\n",
    "recommend_btn.pack(pady=10)\n",
    "\n",
    "root.mainloop()"
   ]
  }
 ],
 "metadata": {
  "kernelspec": {
   "display_name": "Python 3 (ipykernel)",
   "language": "python",
   "name": "python3"
  },
  "language_info": {
   "codemirror_mode": {
    "name": "ipython",
    "version": 3
   },
   "file_extension": ".py",
   "mimetype": "text/x-python",
   "name": "python",
   "nbconvert_exporter": "python",
   "pygments_lexer": "ipython3",
   "version": "3.12.4"
  }
 },
 "nbformat": 4,
 "nbformat_minor": 5
}
