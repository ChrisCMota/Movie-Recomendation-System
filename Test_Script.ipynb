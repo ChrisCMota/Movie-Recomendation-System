{
 "cells": [
  {
   "cell_type": "markdown",
   "id": "99e6316b",
   "metadata": {},
   "source": [
    "# Hybrid Model Testing Script\n",
    "This notebook loads the trained models and generates movie recommendations using both content-based and collaborative filtering methods."
   ]
  },
  {
   "cell_type": "markdown",
   "id": "35a67165",
   "metadata": {},
   "source": [
    "## Step 1: Import Libraries\n",
    "To use the saved models and process user input, we need essential libraries for vectorization, similarity computation, and rating prediction.\n",
    "\n",
    "### What it Does\n",
    "- Loads pandas for data handling.\n",
    "- Loads joblib for loading model files.\n",
    "- Imports cosine_similarity for manual comparison if needed.\n",
    "- Loads the Surprise SVD model for collaborative filtering."
   ]
  },
  {
   "cell_type": "code",
   "execution_count": 3,
   "id": "b506fa11",
   "metadata": {},
   "outputs": [],
   "source": [
    "import pandas as pd\n",
    "import joblib\n",
    "from sklearn.metrics.pairwise import cosine_similarity\n",
    "from surprise import SVD"
   ]
  },
  {
   "cell_type": "markdown",
   "id": "b86a7501",
   "metadata": {},
   "source": [
    "## Step 2: Load Trained Models and Dataset\n",
    "This block loads pre-trained models and the cleaned movie dataset, so we can perform real-world tests on it.\n",
    "\n",
    "### What it Does\n",
    "- Loads TF-IDF vectorizer.\n",
    "- Loads the NearestNeighbors index matrix.\n",
    "- Loads the SVD collaborative filtering model.\n",
    "- Loads the processed dataset with genres, ratings, and titles.\n",
    "\n",
    "### Variables\n",
    "- `tfidf_vectorizer`: Used to convert genres to numerical vectors.\n",
    "- `neighbor_indices`: Stores top 50 similar movies for each.\n",
    "- `svd_model`: Predicts user-movie rating.\n",
    "- `movies_df`: DataFrame containing movie metadata."
   ]
  },
  {
   "cell_type": "code",
   "execution_count": 6,
   "id": "1d56a7b6",
   "metadata": {},
   "outputs": [],
   "source": [
    "tfidf_vectorizer = joblib.load(\"models/tfidf_vectorizer.pkl\")\n",
    "neighbor_indices = joblib.load(\"models/nearest_neighbors_indices.pkl\")\n",
    "svd_model = joblib.load(\"models/svd_model.pkl\")\n",
    "movies_df = pd.read_csv(\"cleaned_imdb_movies.csv\")"
   ]
  },
  {
   "cell_type": "markdown",
   "id": "a480ace1",
   "metadata": {},
   "source": [
    "## Step 3: Define Title Matching Helper\n",
    "User input might not match movie titles exactly. A search function increases usability and robustness.\n",
    "\n",
    "### What it Does\n",
    "- Accepts user query (partial title).\n",
    "- Returns the first matching movie.\n",
    "\n",
    "### Variables\n",
    "- `query`: User input string.\n",
    "- `match`: First title match from `movies_df`."
   ]
  },
  {
   "cell_type": "code",
   "execution_count": 9,
   "id": "dc6115a3",
   "metadata": {},
   "outputs": [],
   "source": [
    "def find_title_match(query):\n",
    "    matches = movies_df[movies_df[\"primaryTitle\"].str.contains(query, case=False, na=False)]\n",
    "    if matches.empty:\n",
    "        return None\n",
    "    return matches.iloc[0]"
   ]
  },
  {
   "cell_type": "markdown",
   "id": "7527cc68",
   "metadata": {},
   "source": [
    "## Step 4: Recommend Movies\n",
    "\n",
    "This function combines content-based and collaborative filtering to produce recommendations that consider genre similarity and rating predictions.\n",
    "\n",
    "### What it Does\n",
    "- Finds the index of the matched movie.\n",
    "- Uses neighbor index to find similar movies.\n",
    "- Predicts user rating for each similar movie using SVD.\n",
    "- Scores results by combining actual and predicted ratings.\n",
    "\n",
    "### Variables\n",
    "- `title`: Query title.\n",
    "- `movie_idx`: Index of matched movie.\n",
    "- `similar_indices`: Top-k neighbors.\n",
    "- `results_df`: DataFrame of recommended results."
   ]
  },
  {
   "cell_type": "code",
   "execution_count": 12,
   "id": "0d55bc98",
   "metadata": {},
   "outputs": [],
   "source": [
    "def recommend_movies(title, user_id=0, top_n=10):\n",
    "    match = find_title_match(title)\n",
    "    if match is None:\n",
    "        print(\"Movie not found.\")\n",
    "        return\n",
    "    \n",
    "    movie_idx = match.name\n",
    "    similar_indices = neighbor_indices[movie_idx][1:]\n",
    "    similar_movies = movies_df.iloc[similar_indices][[\"primaryTitle\", \"genres\", \"averageRating\"]].copy()\n",
    "\n",
    "    similar_movies[\"PredictedRating\"] = similar_movies[\"primaryTitle\"].apply(\n",
    "        lambda x: svd_model.predict(user_id, x).est\n",
    "    )\n",
    "    similar_movies[\"score\"] = (similar_movies[\"averageRating\"] + similar_movies[\"PredictedRating\"]) / 2\n",
    "    similar_movies = similar_movies.sort_values(\"score\", ascending=False).head(top_n)\n",
    "\n",
    "    print(f\"Top {top_n} recommendations for '{match['primaryTitle']}':\\n\")\n",
    "    print(similar_movies[[\"primaryTitle\", \"genres\", \"averageRating\", \"PredictedRating\", \"score\"]])"
   ]
  },
  {
   "cell_type": "markdown",
   "id": "3f25e39e",
   "metadata": {},
   "source": [
    "## Step 5: Run Test\n",
    "\n",
    "Simulates a recommendation call from user input.\n",
    "\n",
    "### What it Does\n",
    "- Asks for movie title.\n",
    "- Displays top 10 recommendations using both models."
   ]
  },
  {
   "cell_type": "code",
   "execution_count": 33,
   "id": "ac0debfa",
   "metadata": {},
   "outputs": [
    {
     "name": "stdout",
     "output_type": "stream",
     "text": [
      "Top 10 recommendations for 'The Lord of the Rings: The Fellowship of the Ring':\n",
      "\n",
      "                          primaryTitle                   genres  \\\n",
      "306                           Big Fish  Adventure,Drama,Fantasy   \n",
      "2444         The City of Lost Children  Adventure,Drama,Fantasy   \n",
      "2509                         Excalibur  Adventure,Drama,Fantasy   \n",
      "37929                  The Fateful Day  Adventure,Drama,Fantasy   \n",
      "2165       Beasts of the Southern Wild  Adventure,Drama,Fantasy   \n",
      "30095                  City of Pirates  Adventure,Drama,Fantasy   \n",
      "9844                        Freaks Out  Adventure,Drama,Fantasy   \n",
      "7592   Valerie and Her Week of Wonders  Adventure,Drama,Fantasy   \n",
      "38698               Lost and Beautiful  Adventure,Drama,Fantasy   \n",
      "81532            Eréndira la indomable  Adventure,Drama,Fantasy   \n",
      "\n",
      "       averageRating  PredictedRating     score  \n",
      "306              8.0         6.079076  7.039538  \n",
      "2444             7.5         6.256647  6.878323  \n",
      "2509             7.3         6.216629  6.758314  \n",
      "37929            7.3         6.075541  6.687770  \n",
      "2165             7.2         6.104746  6.652373  \n",
      "30095            7.3         5.958767  6.629383  \n",
      "9844             6.9         6.249997  6.574999  \n",
      "7592             7.0         6.066600  6.533300  \n",
      "38698            6.7         6.276169  6.488085  \n",
      "81532            6.9         6.038908  6.469454  \n"
     ]
    }
   ],
   "source": [
    "recommend_movies(\"lord of the rings\")"
   ]
  },
  {
   "cell_type": "code",
   "execution_count": null,
   "id": "aacb6758-967e-49a8-b79f-730a0f43d59e",
   "metadata": {},
   "outputs": [],
   "source": []
  }
 ],
 "metadata": {
  "kernelspec": {
   "display_name": "Python 3 (ipykernel)",
   "language": "python",
   "name": "python3"
  },
  "language_info": {
   "codemirror_mode": {
    "name": "ipython",
    "version": 3
   },
   "file_extension": ".py",
   "mimetype": "text/x-python",
   "name": "python",
   "nbconvert_exporter": "python",
   "pygments_lexer": "ipython3",
   "version": "3.12.4"
  }
 },
 "nbformat": 4,
 "nbformat_minor": 5
}
