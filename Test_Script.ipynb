{
 "cells": [
  {
   "cell_type": "code",
   "execution_count": 3,
   "id": "5bcd9565-d5e2-45b0-bde6-7fab6961a2c4",
   "metadata": {},
   "outputs": [],
   "source": [
    "import pandas as pd\n",
    "import joblib\n",
    "from sklearn.metrics.pairwise import cosine_similarity"
   ]
  },
  {
   "cell_type": "markdown",
   "id": "bc4b9068-3900-4ca6-86d9-ce41ad6ed978",
   "metadata": {},
   "source": [
    "## Load data and models"
   ]
  },
  {
   "cell_type": "code",
   "execution_count": 13,
   "id": "b6b5228c-85fd-4b48-b753-8f3fe202dc39",
   "metadata": {},
   "outputs": [],
   "source": [
    "movies_df = pd.read_csv(\"merged_imdb_data.csv\")\n",
    "movies_df = movies_df.sort_values(by = \"averageRating\", ascending = False).dropna(subset = [\"averageRating\"]).head(10000)\n",
    "movies_df[\"genres\"] = movies_df[\"genres\"].fillna(\"Unknown\")\n",
    "movies_df[\"primaryName\"] = movies_df[\"primaryName\"].fillna(\"Unknown\")"
   ]
  },
  {
   "cell_type": "code",
   "execution_count": 18,
   "id": "56793657-8618-4026-9285-59c9bf039130",
   "metadata": {},
   "outputs": [],
   "source": [
    "tfidf_vectorizer = joblib.load(\"models/tfidf_vectorizer.pkl\")\n",
    "nearest_neighbors_indices = joblib.load(\"models/nearest_neighbors_indices.pkl\")\n",
    "svd_model = joblib.load(\"models/svd_model.pkl\")"
   ]
  },
  {
   "cell_type": "markdown",
   "id": "53fd6ed3-e10b-44ec-b349-194da14bd900",
   "metadata": {},
   "source": [
    "## Define function"
   ]
  },
  {
   "cell_type": "code",
   "execution_count": 21,
   "id": "20adac23-0fca-4966-8636-240fc1fd3b1d",
   "metadata": {},
   "outputs": [],
   "source": [
    "def get_similar_movies(movie_title):\n",
    "    match = movies_df[movies_df[\"primaryTitle\"].str.lower() == movie_title.lower()]\n",
    "    if match.empty:\n",
    "        print(\"Movie not found in top 10K dataset.\")\n",
    "        return pd.DataFrame()\n",
    "    index = match.index[0]\n",
    "    similar_indices = nearest_neighbors_indices[index][1:]\n",
    "    return movies_df.iloc[similar_indices].copy()"
   ]
  },
  {
   "cell_type": "code",
   "execution_count": 23,
   "id": "842d8bf8-53fc-4e18-bd85-029343f336c9",
   "metadata": {},
   "outputs": [],
   "source": [
    "def predict_rating_for_movie(movie_name, user_id=999):\n",
    "    try:\n",
    "        return round(svd_model.predict(user_id, movie_name).est, 2)\n",
    "    except:\n",
    "        return None"
   ]
  },
  {
   "cell_type": "code",
   "execution_count": 31,
   "id": "373a59c4-a8f3-4cf9-b924-718643e4126b",
   "metadata": {},
   "outputs": [],
   "source": [
    "def test_recommendation(movie_title):\n",
    "    print(f\"\\nTest recommendations for: {movie_title}\\n\")\n",
    "    similar_movies = get_similar_movies(movie_title)\n",
    "    if similar_movies.empty:\n",
    "        print(\"No similar movies found.\")\n",
    "        return\n",
    "        \n",
    "    similar_movies[\"PredictedRating\"] = similar_movies[\"primaryTitle\"].apply(lambda title: predict_rating_for_movie(title))\n",
    "\n",
    "    user_genre_vector = tfidf_vectorizer.transform([\"\"])\n",
    "    genre_scores = cosine_similarity(user_genre_vector, tfidf_vectorizer.transform(similar_movies[\"genres\"])).flatten()\n",
    "    similar_movies[\"user_genre_similarity\"] = genre_scores\n",
    "\n",
    "    similar_movies[\"score\"] = (\n",
    "        0.6 * similar_movies[\"user_genre_similarity\"]\n",
    "        + 0.4 * similar_movies[\"averageRating\"].fillna(0)\n",
    "    )\n",
    "\n",
    "    top_movies = similar_movies.sort_values(by=\"score\", ascending=False).head(10)\n",
    "    print(top_movies[[\"primaryTitle\", \"genres\", \"averageRating\", \"PredictedRating\", \"score\"]].to_string(index=False))"
   ]
  },
  {
   "cell_type": "code",
   "execution_count": 39,
   "id": "ff6206f8-948f-409c-9d54-cb4c9928f39e",
   "metadata": {},
   "outputs": [
    {
     "name": "stdout",
     "output_type": "stream",
     "text": [
      "['Paradise (bunnies and flowers)', 'Carraco', 'Tarka', 'Carraco', 'Tarka', 'Kaputol', 'Kaputol', 'Kaputol', 'Kaputol', 'Kaputol', 'Carraco', 'Carraco', 'Carraco', 'Clownface 3', 'Kaputol', 'Tarka', 'Tarka', 'Tarka', 'Tarka', \"Soori Love's Sandhya\"]\n"
     ]
    }
   ],
   "source": [
    "print(movies_df[\"primaryTitle\"].head(20).to_list())"
   ]
  },
  {
   "cell_type": "code",
   "execution_count": null,
   "id": "2077b985-5331-4a26-b89b-b65e88cd2c29",
   "metadata": {},
   "outputs": [],
   "source": []
  }
 ],
 "metadata": {
  "kernelspec": {
   "display_name": "Python 3 (ipykernel)",
   "language": "python",
   "name": "python3"
  },
  "language_info": {
   "codemirror_mode": {
    "name": "ipython",
    "version": 3
   },
   "file_extension": ".py",
   "mimetype": "text/x-python",
   "name": "python",
   "nbconvert_exporter": "python",
   "pygments_lexer": "ipython3",
   "version": "3.12.4"
  }
 },
 "nbformat": 4,
 "nbformat_minor": 5
}
