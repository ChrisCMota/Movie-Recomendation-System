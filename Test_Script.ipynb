{
 "cells": [
  {
   "cell_type": "markdown",
   "id": "99e6316b",
   "metadata": {},
   "source": [
    "# Hybrid Model Testing Script\n",
    "This notebook loads the trained models and generates movie recommendations using both content-based and collaborative filtering methods."
   ]
  },
  {
   "cell_type": "markdown",
   "id": "35a67165",
   "metadata": {},
   "source": [
    "## Step 1: Import Libraries\n",
    "To use the saved models and process user input, we need essential libraries for vectorization, similarity computation, and rating prediction.\n",
    "\n",
    "### What it Does\n",
    "- Loads pandas for data handling.\n",
    "- Loads joblib for loading model files.\n",
    "- Imports cosine_similarity for manual comparison if needed.\n",
    "- Loads the Surprise SVD model for collaborative filtering."
   ]
  },
  {
   "cell_type": "code",
   "execution_count": 89,
   "id": "b506fa11",
   "metadata": {},
   "outputs": [],
   "source": [
    "import pandas as pd\n",
    "import joblib\n",
    "from sklearn.metrics.pairwise import cosine_similarity\n",
    "from surprise import SVD"
   ]
  },
  {
   "cell_type": "markdown",
   "id": "b86a7501",
   "metadata": {},
   "source": [
    "## Step 2: Load Trained Models and Dataset\n",
    "This block loads pre-trained models and the cleaned movie dataset, so we can perform real-world tests on it.\n",
    "\n",
    "### What it Does\n",
    "- Loads TF-IDF vectorizer.\n",
    "- Loads the NearestNeighbors index matrix.\n",
    "- Loads the SVD collaborative filtering model.\n",
    "- Loads the processed dataset with genres, ratings, and titles.\n",
    "\n",
    "### Variables\n",
    "- `tfidf_vectorizer`: Used to convert genres to numerical vectors.\n",
    "- `neighbor_indices`: Stores top 50 similar movies for each.\n",
    "- `svd_model`: Predicts user-movie rating.\n",
    "- `movies_df`: DataFrame containing movie metadata."
   ]
  },
  {
   "cell_type": "code",
   "execution_count": 92,
   "id": "1d56a7b6",
   "metadata": {},
   "outputs": [],
   "source": [
    "tfidf_vectorizer = joblib.load(\"models/tfidf_vectorizer.pkl\")\n",
    "neighbor_indices = joblib.load(\"models/nearest_neighbors_indices.pkl\")\n",
    "svd_model = joblib.load(\"models/svd_model.pkl\")\n",
    "movies_df = pd.read_csv(\"cleaned_imdb_movies.csv\")"
   ]
  },
  {
   "cell_type": "markdown",
   "id": "a480ace1",
   "metadata": {},
   "source": [
    "## Step 3: Define Title Matching Helper\n",
    "User input might not match movie titles exactly. A search function increases usability and robustness.\n",
    "\n",
    "### What it Does\n",
    "- Accepts user query (partial title).\n",
    "- Returns the first matching movie.\n",
    "\n",
    "### Variables\n",
    "- `query`: User input string.\n",
    "- `match`: First title match from `movies_df`."
   ]
  },
  {
   "cell_type": "code",
   "execution_count": 95,
   "id": "dc6115a3",
   "metadata": {},
   "outputs": [],
   "source": [
    "def find_title_match(query):\n",
    "    matches = movies_df[movies_df[\"primaryTitle\"].str.contains(query, case=False, na=False)]\n",
    "    if matches.empty:\n",
    "        return None\n",
    "    return matches.iloc[0]"
   ]
  },
  {
   "cell_type": "markdown",
   "id": "7527cc68",
   "metadata": {},
   "source": [
    "## Step 4: Recommend Movies\n",
    "\n",
    "This function combines content-based and collaborative filtering to produce recommendations that consider genre similarity and rating predictions.\n",
    "\n",
    "### What it Does\n",
    "- Finds the index of the matched movie.\n",
    "- Uses neighbor index to find similar movies.\n",
    "- Predicts user rating for each similar movie using SVD.\n",
    "- Scores results by combining actual and predicted ratings.\n",
    "\n",
    "### Variables\n",
    "- `title`: Query title.\n",
    "- `movie_idx`: Index of matched movie.\n",
    "- `similar_indices`: Top-k neighbors.\n",
    "- `results_df`: DataFrame of recommended results."
   ]
  },
  {
   "cell_type": "code",
   "execution_count": 98,
   "id": "0d55bc98",
   "metadata": {},
   "outputs": [],
   "source": [
    "def recommend_movies(title, user_id=0, top_n=10):\n",
    "    match = find_title_match(title)\n",
    "    if match is None:\n",
    "        print(\"Movie not found.\")\n",
    "        return\n",
    "    \n",
    "    movie_idx = match.name\n",
    "    similar_indices = neighbor_indices[movie_idx][1:]\n",
    "    similar_movies = movies_df.iloc[similar_indices][[\"primaryTitle\", \"genres\", \"averageRating\"]].copy()\n",
    "\n",
    "    similar_movies[\"PredictedRating\"] = similar_movies[\"primaryTitle\"].apply(\n",
    "        lambda x: svd_model.predict(user_id, x).est\n",
    "    )\n",
    "    similar_movies[\"score\"] = (similar_movies[\"averageRating\"] + similar_movies[\"PredictedRating\"]) / 2\n",
    "    similar_movies = similar_movies.sort_values(\"score\", ascending=False).head(top_n)\n",
    "\n",
    "    print(f\"Top {top_n} recommendations for '{match['primaryTitle']}':\\n\")\n",
    "    print(similar_movies[[\"primaryTitle\", \"genres\", \"averageRating\", \"PredictedRating\", \"score\"]])"
   ]
  },
  {
   "cell_type": "markdown",
   "id": "3f25e39e",
   "metadata": {},
   "source": [
    "## Step 5: Run Test\n",
    "\n",
    "Simulates a recommendation call from user input.\n",
    "\n",
    "### What it Does\n",
    "- Asks for movie title.\n",
    "- Displays top 10 recommendations using both models."
   ]
  },
  {
   "cell_type": "code",
   "execution_count": 101,
   "id": "ac0debfa",
   "metadata": {},
   "outputs": [
    {
     "name": "stdout",
     "output_type": "stream",
     "text": [
      "Top 10 recommendations for 'The Matrix':\n",
      "\n",
      "                                          primaryTitle         genres  \\\n",
      "80106                                             Alya  Action,Sci-Fi   \n",
      "67416                                      Dark Fusion  Action,Sci-Fi   \n",
      "228                             The Matrix Revolutions  Action,Sci-Fi   \n",
      "4890                                            Krrish  Action,Sci-Fi   \n",
      "232                           X-Men Origins: Wolverine  Action,Sci-Fi   \n",
      "79971  Ultraman Ginga S: Showdown! Ultra 10 Warriors!!  Action,Sci-Fi   \n",
      "35035                 Zebraman 2: Attack on Zebra City  Action,Sci-Fi   \n",
      "86998                                  Ultraman Zearth  Action,Sci-Fi   \n",
      "19716                             The Ultimate Warrior  Action,Sci-Fi   \n",
      "41631                                    Yakuza Weapon  Action,Sci-Fi   \n",
      "\n",
      "       averageRating  PredictedRating     score  \n",
      "80106            8.9         6.012926  7.456463  \n",
      "67416            8.5         6.139600  7.319800  \n",
      "228              6.7         6.277259  6.488629  \n",
      "4890             6.5         6.328361  6.414180  \n",
      "232              6.5         6.206819  6.353410  \n",
      "79971            6.2         6.104273  6.152137  \n",
      "35035            6.0         6.081282  6.040641  \n",
      "86998            6.0         6.015087  6.007544  \n",
      "19716            5.6         5.929111  5.764555  \n",
      "41631            5.2         6.115083  5.657541  \n"
     ]
    }
   ],
   "source": [
    "recommend_movies(\"matrix\")"
   ]
  },
  {
   "cell_type": "code",
   "execution_count": null,
   "id": "0e1e38a2-1fbc-49d7-8e16-9b223b58d834",
   "metadata": {},
   "outputs": [],
   "source": []
  }
 ],
 "metadata": {
  "kernelspec": {
   "display_name": "Python 3 (ipykernel)",
   "language": "python",
   "name": "python3"
  },
  "language_info": {
   "codemirror_mode": {
    "name": "ipython",
    "version": 3
   },
   "file_extension": ".py",
   "mimetype": "text/x-python",
   "name": "python",
   "nbconvert_exporter": "python",
   "pygments_lexer": "ipython3",
   "version": "3.12.4"
  }
 },
 "nbformat": 4,
 "nbformat_minor": 5
}
