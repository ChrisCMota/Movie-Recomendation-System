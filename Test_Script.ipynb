{
 "cells": [
  {
   "cell_type": "code",
   "execution_count": 86,
   "id": "5bcd9565-d5e2-45b0-bde6-7fab6961a2c4",
   "metadata": {},
   "outputs": [],
   "source": [
    "import pandas as pd\n",
    "import joblib\n",
    "from sklearn.metrics.pairwise import cosine_similarity"
   ]
  },
  {
   "cell_type": "code",
   "execution_count": 88,
   "id": "2077b985-5331-4a26-b89b-b65e88cd2c29",
   "metadata": {},
   "outputs": [],
   "source": [
    "movies_df = pd.read_csv(\"cleaned_imdb_movies.csv\")\n",
    "tfidf_vectorizer = joblib.load(\"models/tfidf_vectorizer.pkl\")\n",
    "nearest_neighbors_indices = joblib.load(\"models/nearest_neighbors_indices.pkl\")\n",
    "svd_model = joblib.load(\"models/svd_model.pkl\")"
   ]
  },
  {
   "cell_type": "code",
   "execution_count": 90,
   "id": "985ac790-5cca-4e93-98e7-874c9efebeb8",
   "metadata": {},
   "outputs": [],
   "source": [
    "def get_similar_movies(movie_title):\n",
    "    match = movies_df[movies_df[\"primaryTitle\"].str.lower() == movie_title.lower()]\n",
    "    if match.empty:\n",
    "        print(f\"Movie '{movie_title}' not found in dataset.\")\n",
    "        return pd.DataFrame()\n",
    "    index = match.index[0]\n",
    "    similar_indices = nearest_neighbors_indices[index][1:]\n",
    "    return movies_df.iloc[similar_indices].copy()"
   ]
  },
  {
   "cell_type": "code",
   "execution_count": 92,
   "id": "8fb889ad-55fa-4429-8bc6-7ae0bd867573",
   "metadata": {},
   "outputs": [],
   "source": [
    "def predict_rating_for_movie(movie_name, user_id=999):\n",
    "    try:\n",
    "        return round(svd_model.predict(user_id, movie_name).est, 2)\n",
    "    except:\n",
    "        return None"
   ]
  },
  {
   "cell_type": "code",
   "execution_count": 94,
   "id": "2cc12320-22bb-492a-9bca-6bdc0a67a08d",
   "metadata": {},
   "outputs": [],
   "source": [
    "def test_recommendation(movie_title):\n",
    "    print(f\"\\nTest recommendations for: {movie_title}\\n\")\n",
    "    similar_movies = get_similar_movies(movie_title)\n",
    "    if similar_movies.empty:\n",
    "        print(\"No similar movies found.\")\n",
    "        return\n",
    "\n",
    "    similar_movies[\"PredictedRating\"] = similar_movies[\"primaryTitle\"].apply(lambda title: predict_rating_for_movie(title))\n",
    "\n",
    "    user_genre_vector = tfidf_vectorizer.transform([\"\"])\n",
    "    genre_scores = cosine_similarity(user_genre_vector, tfidf_vectorizer.transform(similar_movies[\"genres\"])).flatten()\n",
    "    similar_movies[\"user_genre_similarity\"] = genre_scores\n",
    "\n",
    "    similar_movies[\"score\"] = (\n",
    "        0.6 * similar_movies[\"user_genre_similarity\"] +\n",
    "        0.4 * similar_movies[\"averageRating\"].fillna(0)\n",
    "    )\n",
    "\n",
    "    top_movies = similar_movies.sort_values(by=\"score\", ascending=False).head(10)\n",
    "    print(top_movies[[\"primaryTitle\", \"genres\", \"averageRating\", \"PredictedRating\", \"score\"]].to_string(index=False))"
   ]
  },
  {
   "cell_type": "code",
   "execution_count": 96,
   "id": "d398e8c5-75b8-4553-bacc-e5065e37553d",
   "metadata": {},
   "outputs": [
    {
     "name": "stdout",
     "output_type": "stream",
     "text": [
      "\n",
      "Test recommendations for: Inception\n",
      "\n",
      "                             primaryTitle                     genres  averageRating  PredictedRating  score\n",
      "Three Billboards Outside Ebbing, Missouri         Comedy,Crime,Drama            8.1             6.04   3.24\n",
      "                        The King's Speech    Biography,Drama,History            8.0             6.11   3.20\n",
      "                               La La Land         Comedy,Drama,Music            8.0             6.04   3.20\n",
      "                              Toy Story 2 Adventure,Animation,Comedy            7.9             5.90   3.16\n",
      "                                  Skyfall  Action,Adventure,Thriller            7.8             6.04   3.12\n",
      "             Kingsman: The Secret Service    Action,Adventure,Comedy            7.7             6.08   3.08\n",
      "                               Changeling      Biography,Crime,Drama            7.7             6.12   3.08\n",
      "                           Kung Fu Hustle      Action,Comedy,Fantasy            7.7             6.06   3.08\n",
      "                              Lord of War                Crime,Drama            7.6             5.96   3.04\n",
      "                                 Superbad                     Comedy            7.6             6.00   3.04\n"
     ]
    }
   ],
   "source": [
    "test_recommendation(\"Inception\")"
   ]
  },
  {
   "cell_type": "code",
   "execution_count": 98,
   "id": "3eab5872-8903-4c7f-a9ac-3c9677e1223b",
   "metadata": {},
   "outputs": [
    {
     "name": "stdout",
     "output_type": "stream",
     "text": [
      "\n",
      "Test recommendations for: The Godfather\n",
      "\n",
      "                                     primaryTitle                  genres  averageRating  PredictedRating  score\n",
      "                                    The Godfather             Crime,Drama            9.2             5.97   3.68\n",
      "The Lord of the Rings: The Fellowship of the Ring Adventure,Drama,Fantasy            8.9             5.97   3.56\n",
      "                                            Se7en     Crime,Drama,Mystery            8.6             6.07   3.44\n",
      "                                            Queen  Adventure,Comedy,Drama            8.1             6.08   3.24\n",
      "                                Blade Runner 2049    Action,Drama,Mystery            8.0             6.22   3.20\n",
      "                                    Weekend Party  Crime,Romance,Thriller            7.9             6.11   3.16\n",
      "                                 Sound of Freedom   Biography,Crime,Drama            7.6             6.11   3.04\n",
      "                                    Thalli Manasu            Drama,Family            7.5             5.94   3.00\n",
      "                                    Perico ripiao                  Comedy            7.3             5.98   2.92\n",
      "                                   Behold Homolka                  Comedy            7.3             5.97   2.92\n"
     ]
    }
   ],
   "source": [
    "test_recommendation(\"The Godfather\")"
   ]
  },
  {
   "cell_type": "code",
   "execution_count": 100,
   "id": "72c8e4c8-12cb-478a-a107-610a7230728c",
   "metadata": {},
   "outputs": [
    {
     "name": "stdout",
     "output_type": "stream",
     "text": [
      "\n",
      "Test recommendations for: The Matrix\n",
      "\n",
      "                         primaryTitle                    genres  averageRating  PredictedRating  score\n",
      "                            Guerrilla         Drama,History,War            8.1             6.10   3.24\n",
      "                          Chowka Bara                   Romance            7.8             5.94   3.12\n",
      "Harry Potter and the Sorcerer's Stone  Adventure,Family,Fantasy            7.7             6.11   3.08\n",
      "                   X-Men: First Class             Action,Sci-Fi            7.7             5.95   3.08\n",
      "                              Madaari            Drama,Thriller            7.6             6.05   3.04\n",
      "                Taxi to the Dark Side Crime,Documentary,History            7.5             5.96   3.00\n",
      "                  Legion of the Black                     Music            7.3             6.16   2.92\n",
      "                   Olmo & the Seagull Documentary,Drama,Romance            7.2             5.92   2.88\n",
      "                 A Year Ago in Winter                     Drama            7.1             6.18   2.84\n",
      "                          World War Z   Action,Adventure,Horror            7.0             6.09   2.80\n"
     ]
    }
   ],
   "source": [
    "test_recommendation(\"The Matrix\")"
   ]
  }
 ],
 "metadata": {
  "kernelspec": {
   "display_name": "Python 3 (ipykernel)",
   "language": "python",
   "name": "python3"
  },
  "language_info": {
   "codemirror_mode": {
    "name": "ipython",
    "version": 3
   },
   "file_extension": ".py",
   "mimetype": "text/x-python",
   "name": "python",
   "nbconvert_exporter": "python",
   "pygments_lexer": "ipython3",
   "version": "3.12.4"
  }
 },
 "nbformat": 4,
 "nbformat_minor": 5
}
