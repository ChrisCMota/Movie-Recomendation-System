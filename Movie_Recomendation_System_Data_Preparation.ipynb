{
 "cells": [
  {
   "cell_type": "markdown",
   "id": "c7ae4962",
   "metadata": {},
   "source": [
    "## Step 1\n",
    "\n",
    "This block imports core libraries needed for data manipulation and processing. Pandas is essential for handling tabular data and merging datasets. The `os` library is used to check file existence, ensuring smooth I/O operations.\n",
    "\n",
    "### What it Does\n",
    "- Imports `pandas` as `pd` for DataFrame operations.\n",
    "- Imports `os` for checking file presence and manipulating file paths.\n",
    "\n",
    "**Pandas is essential for working with tabular (table-like) data in Python.**"
   ]
  },
  {
   "cell_type": "code",
   "execution_count": 27,
   "id": "43284d7a",
   "metadata": {},
   "outputs": [],
   "source": [
    "import pandas as pd\n",
    "import os"
   ]
  },
  {
   "cell_type": "markdown",
   "id": "c9730163",
   "metadata": {},
   "source": [
    "## Step 2\n",
    "IMDb distributes its datasets in TSV (Tab-Separated Values) format. These datasets contain information about movies, ratings, and names. Loading these files is the first step in preprocessing.\n",
    "\n",
    "### What it Does\n",
    "- Reads three  `.tsv` files into pandas DataFrames.\n",
    "- Assigns column names automatically from the headers.\n",
    "\n",
    "### Variables\n",
    "- `name_basics`: Contains people’s names and their professions.\n",
    "- `title_basics`: Contains movie title information, including genres.\n",
    "- `title_ratings`: Contains movie ratings and vote counts.\n",
    "\n",
    "### Parameters\n",
    "- `sep=\"\\t\"` tells pandas that the columns are separated by a tab character (TSV format).\n",
    "- `low_memory=False` forces Pandas to read the entire file into memory to prevent dtype warnings."
   ]
  },
  {
   "cell_type": "code",
   "execution_count": 33,
   "id": "073b84cf",
   "metadata": {},
   "outputs": [],
   "source": [
    "name_basics = pd.read_csv(\"name.basics.tsv\", sep=\"\\t\", low_memory=False)\n",
    "title_basics = pd.read_csv(\"title.basics.tsv\", sep=\"\\t\", low_memory=False)\n",
    "title_ratings = pd.read_csv(\"title.ratings.tsv\", sep=\"\\t\", low_memory=False)"
   ]
  },
  {
   "cell_type": "markdown",
   "id": "f03a5e52",
   "metadata": {},
   "source": [
    "## Step 3\n",
    "We want only essential columns that contribute to the recommendation logic. Columns like birth/death year and original title are not relevant for movie suggestion.\n",
    "\n",
    "### What it Does\n",
    "- Drops irrelevant columns from each of the three datasets using column subsetting.\n",
    "- Filters only movies from `title_basics` by checking for 'movie' in `titleType`.\n",
    "\n",
    "### Variables\n",
    "- Modified `name_basics`, `title_basics`, and `title_ratings` DataFrames with reduced columns."
   ]
  },
  {
   "cell_type": "code",
   "execution_count": 35,
   "id": "8123c6b5",
   "metadata": {},
   "outputs": [],
   "source": [
    "name_basics = name_basics[[\"nconst\", \"primaryName\", \"knownForTitles\"]]\n",
    "title_ratings = title_ratings[[\"tconst\", \"averageRating\", \"numVotes\"]]\n",
    "title_basics = title_basics[title_basics[\"titleType\"] == \"movie\"]\n",
    "title_basics = title_basics[[\"tconst\", \"primaryTitle\", \"genres\"]]"
   ]
  },
  {
   "cell_type": "markdown",
   "id": "437870f5",
   "metadata": {},
   "source": [
    "## Step 4\n",
    "Many actors/creators are linked to multiple movies. So we must expand these relationships for better linking between movie and contributor.\n",
    "\n",
    "### What it Does\n",
    "- Fills nulls in `knownForTitles` column with an empty string.\n",
    "- Splits titles into a list for each person to handle people known for multiple movies.\n",
    "- Uses `explode` to create one row per movie-person link. Necessary to join people and movies properly.\n",
    "\n",
    "### Variables\n",
    "- `name_basics`: Expanded so each row has one movie-person link."
   ]
  },
  {
   "cell_type": "code",
   "execution_count": 37,
   "id": "330f4667",
   "metadata": {},
   "outputs": [],
   "source": [
    "name_basics[\"knownForTitles\"] = name_basics[\"knownForTitles\"].fillna(\"\")\n",
    "name_basics[\"knownForTitles\"] = name_basics[\"knownForTitles\"].str.split(\",\")\n",
    "name_basics = name_basics.explode(\"knownForTitles\")\n",
    "name_basics = name_basics.rename(columns={\"knownForTitles\": \"tconst\"})"
   ]
  },
  {
   "cell_type": "markdown",
   "id": "94a2d39c",
   "metadata": {},
   "source": [
    "## Step 5\n",
    "Now that all datasets are aligned on `tconst`, we merge them to build a unified movie record that includes title, rating, and person info.\n",
    "\n",
    "### What it Does\n",
    "- Performs inner joins on `tconst` to keep only valid movies across all datasets.\n",
    "\n",
    "### Variables\n",
    "- `merged_imdb_df`: Fully joined DataFrame used for modeling."
   ]
  },
  {
   "cell_type": "code",
   "execution_count": 39,
   "id": "689215ad",
   "metadata": {},
   "outputs": [],
   "source": [
    "merged_imdb_df = pd.merge(title_basics, title_ratings, on=\"tconst\")\n",
    "merged_imdb_df = pd.merge(merged_imdb_df, name_basics, on=\"tconst\")"
   ]
  },
  {
   "cell_type": "markdown",
   "id": "26e091ab",
   "metadata": {},
   "source": [
    "## Step 6\n",
    "Saving preprocessed datasets so they can be reused across training scripts.\n",
    "\n",
    "### What it Does\n",
    "- Saves the final merged DataFrame to a CSV file.\n",
    "\n",
    "### Variables\n",
    "- Output file: `merged_imdb_data.csv`"
   ]
  },
  {
   "cell_type": "code",
   "execution_count": 41,
   "id": "9967e80b",
   "metadata": {},
   "outputs": [],
   "source": [
    "merged_imdb_df.to_csv(\"merged_imdb_data.csv\", index=False)"
   ]
  }
 ],
 "metadata": {
  "kernelspec": {
   "display_name": "Python 3 (ipykernel)",
   "language": "python",
   "name": "python3"
  },
  "language_info": {
   "codemirror_mode": {
    "name": "ipython",
    "version": 3
   },
   "file_extension": ".py",
   "mimetype": "text/x-python",
   "name": "python",
   "nbconvert_exporter": "python",
   "pygments_lexer": "ipython3",
   "version": "3.12.4"
  }
 },
 "nbformat": 4,
 "nbformat_minor": 5
}
