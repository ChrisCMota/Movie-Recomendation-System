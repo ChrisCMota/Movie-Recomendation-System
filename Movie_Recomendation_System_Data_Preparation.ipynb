{
 "cells": [
  {
   "cell_type": "markdown",
   "id": "4a151a48-4708-4d27-b993-0285b8e2a727",
   "metadata": {},
   "source": [
    "# Cleaning and Preparing data"
   ]
  },
  {
   "cell_type": "markdown",
   "id": "33abe4ff-a5f0-4057-9911-0c4c375890f2",
   "metadata": {},
   "source": [
    "**https://pandas.pydata.org/docs/user_guide/index.html#user-guide**"
   ]
  },
  {
   "cell_type": "code",
   "execution_count": null,
   "id": "ac177b20-bd3d-4ef1-a679-27d7513928bf",
   "metadata": {},
   "outputs": [],
   "source": [
    "import pandas as pd"
   ]
  },
  {
   "cell_type": "markdown",
   "id": "78d10cd0-bb4e-4985-bcdd-b4df8e18e14d",
   "metadata": {},
   "source": [
    "**Load datasets**"
   ]
  },
  {
   "cell_type": "code",
   "execution_count": null,
   "id": "f7848dc6-2ad8-45b2-887c-458160d0071b",
   "metadata": {},
   "outputs": [],
   "source": [
    "name_basics = pd.read_csv(\"name.basics.tsv\", sep=\"\\t\", low_memory=False, na_values=\"\\\\N\")\n",
    "title_basics = pd.read_csv(\"title.basics.tsv\", sep=\"\\t\", low_memory=False, na_values=\"\\\\N\")\n",
    "title_ratings = pd.read_csv(\"title.ratings.tsv\", sep=\"\\t\", low_memory=False, na_values=\"\\\\N\")"
   ]
  },
  {
   "cell_type": "markdown",
   "id": "41e01c45-3fb3-4fe0-b019-d87d8abdcb38",
   "metadata": {},
   "source": [
    "**Debugging**"
   ]
  },
  {
   "cell_type": "code",
   "execution_count": null,
   "id": "e1b03aab-327b-4f2c-b41f-ce379afa96b6",
   "metadata": {},
   "outputs": [],
   "source": [
    "print(name_basics.columns)"
   ]
  },
  {
   "cell_type": "code",
   "execution_count": null,
   "id": "35633d0a-9d8c-4101-a46e-d2f0dfa2a7ff",
   "metadata": {},
   "outputs": [],
   "source": [
    "name_basics.columns = name_basics.columns.str.strip()"
   ]
  },
  {
   "cell_type": "markdown",
   "id": "ae3d0e71-a5d4-462b-9bbd-35caf22e89d9",
   "metadata": {},
   "source": [
    "**Cleaning the data name.basics**\n",
    "\n",
    "Just getting the usefull columns"
   ]
  },
  {
   "cell_type": "code",
   "execution_count": null,
   "id": "62c2c54d-eeea-4ba6-b458-b25f37dee31e",
   "metadata": {},
   "outputs": [],
   "source": [
    "name_basics = name_basics[[\"nconst\", \"primaryName\", \"knownForTitles\"]]\n",
    "name_basics.head()"
   ]
  },
  {
   "cell_type": "markdown",
   "id": "9ba09a3e-74b7-43a4-8741-8cad19d95f3e",
   "metadata": {},
   "source": [
    "**Cleaning the data  title.basics**"
   ]
  },
  {
   "cell_type": "code",
   "execution_count": null,
   "id": "fba1f996-b388-4149-acbe-916a5700dd81",
   "metadata": {},
   "outputs": [],
   "source": [
    "title_basics = title_basics[title_basics[\"titleType\"] == \"movie\"]\n",
    "title_basics = title_basics[[\"tconst\", \"primaryTitle\", \"titleType\", \"genres\"]]\n",
    "title_basics.head()"
   ]
  },
  {
   "cell_type": "markdown",
   "id": "f64ca8b4-c21e-4df5-ba67-bb8b0dae3046",
   "metadata": {},
   "source": [
    "**Cleaning the data title.ratings**"
   ]
  },
  {
   "cell_type": "code",
   "execution_count": null,
   "id": "c1eaf1ff-e423-4aed-87fc-cde04148c37b",
   "metadata": {},
   "outputs": [],
   "source": [
    "title_ratings = title_ratings[[\"tconst\", \"averageRating\"]]\n",
    "title_ratings.head()"
   ]
  },
  {
   "cell_type": "markdown",
   "id": "2fe4c225-0074-4db5-aa23-570924169c24",
   "metadata": {},
   "source": [
    "**Merging Datasets title_basics with title_ratings**"
   ]
  },
  {
   "cell_type": "code",
   "execution_count": null,
   "id": "b867ee96-8f4d-4399-82d7-66f61d9f9266",
   "metadata": {},
   "outputs": [],
   "source": [
    "movies_df = pd.merge(title_basics, title_ratings, on=\"tconst\", how=\"left\")\n",
    "movies_df.head()"
   ]
  },
  {
   "cell_type": "markdown",
   "id": "ec223e20-9bb6-4daf-8e66-d322de097add",
   "metadata": {},
   "source": [
    "**Merging with name_basics (Actors and Directors)**\n",
    "\n",
    "Explode knownForTitles column to match tconst\n",
    "\n",
    "Merge actors with movies\n",
    "\n",
    "Drop knownForTitles column (as we already merged it)"
   ]
  },
  {
   "cell_type": "code",
   "execution_count": null,
   "id": "4b0891b2-2542-4987-ab72-53abfde381cc",
   "metadata": {},
   "outputs": [],
   "source": [
    "name_basics[\"knownForTitles\"] = name_basics[\"knownForTitles\"].fillna(\"\")\n",
    "name_basics_expanded = name_basics.assign(knownForTitles=name_basics[\"knownForTitles\"].str.split(\",\"))\n",
    "name_basics_expanded = name_basics_expanded.explode(\"knownForTitles\")\n",
    "\n",
    "final_df = pd.merge(movies_df, name_basics_expanded, left_on=\"tconst\", right_on=\"knownForTitles\", how=\"left\")\n",
    "\n",
    "final_df.drop(columns=[\"knownForTitles\"], inplace=True)\n",
    "\n",
    "final_df.head()"
   ]
  },
  {
   "cell_type": "markdown",
   "id": "72522070-a480-4180-84a8-5b81804ccb41",
   "metadata": {},
   "source": [
    "**Saving dataset merged**"
   ]
  },
  {
   "cell_type": "code",
   "execution_count": null,
   "id": "256930fb-a85e-4bb7-8186-dc14242539b4",
   "metadata": {},
   "outputs": [],
   "source": [
    "final_df.to_csv(\"merged_imdb_data.csv\", index=False, encoding=\"utf-8\")"
   ]
  },
  {
   "cell_type": "code",
   "execution_count": null,
   "id": "7361ccb7-cf46-4f1a-9b22-7574cb319280",
   "metadata": {},
   "outputs": [],
   "source": [
    "import numpy as np"
   ]
  },
  {
   "cell_type": "code",
   "execution_count": null,
   "id": "5d0daab6-ac14-432c-aa4c-52bdcdf9b147",
   "metadata": {},
   "outputs": [],
   "source": [
    "movie_dataset = pd.read_csv(\"merged_imdb_data.csv\", encoding=\"utf-8\")"
   ]
  },
  {
   "cell_type": "markdown",
   "id": "6cd5bc9c-3409-46f4-8eb1-c43dac1dc5b4",
   "metadata": {},
   "source": [
    "**Handling missing values**\n",
    "\n",
    "`TODO:` Handle missing ratings dymanically during recommendations "
   ]
  },
  {
   "cell_type": "code",
   "execution_count": null,
   "id": "efac3036-0142-4ba6-9f4c-a99ce84ea05b",
   "metadata": {},
   "outputs": [],
   "source": [
    "movie_dataset[\"genres\"] = movie_dataset[\"genres\"].fillna(\"Unknown\")\n",
    "movie_dataset[\"primaryName\"] = movie_dataset[\"primaryName\"].fillna(\"Unknown\")\n",
    "\n",
    "print(movie_dataset.info())\n",
    "print(movie_dataset.head())"
   ]
  },
  {
   "cell_type": "markdown",
   "id": "8b4967a8-c5ff-4178-b741-5844789812e4",
   "metadata": {},
   "source": [
    "**Display missing data summary**"
   ]
  },
  {
   "cell_type": "code",
   "execution_count": null,
   "id": "868ec1cb-0da8-45f0-9fb2-39116b595355",
   "metadata": {},
   "outputs": [],
   "source": [
    "print(movie_dataset.isnull().sum())"
   ]
  },
  {
   "cell_type": "markdown",
   "id": "2c34f754-32c7-4834-a86a-0bfc012bac98",
   "metadata": {},
   "source": [
    "**Checking for special char in names**"
   ]
  },
  {
   "cell_type": "code",
   "execution_count": null,
   "id": "2a968589-a0cd-4be7-aaf9-d9b599ca91c5",
   "metadata": {},
   "outputs": [],
   "source": [
    "print(movie_dataset[\"primaryName\"].head(50))"
   ]
  }
 ],
 "metadata": {
  "kernelspec": {
   "display_name": "Python 3 (ipykernel)",
   "language": "python",
   "name": "python3"
  },
  "language_info": {
   "codemirror_mode": {
    "name": "ipython",
    "version": 3
   },
   "file_extension": ".py",
   "mimetype": "text/x-python",
   "name": "python",
   "nbconvert_exporter": "python",
   "pygments_lexer": "ipython3",
   "version": "3.12.4"
  }
 },
 "nbformat": 4,
 "nbformat_minor": 5
}
