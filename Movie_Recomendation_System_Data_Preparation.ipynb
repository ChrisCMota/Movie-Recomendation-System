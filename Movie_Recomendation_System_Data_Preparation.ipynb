{
 "cells": [
  {
   "cell_type": "markdown",
   "id": "4a151a48-4708-4d27-b993-0285b8e2a727",
   "metadata": {},
   "source": [
    "# Cleaning and Preparing data"
   ]
  },
  {
   "cell_type": "markdown",
   "id": "33abe4ff-a5f0-4057-9911-0c4c375890f2",
   "metadata": {},
   "source": [
    "**https://pandas.pydata.org/docs/user_guide/index.html#user-guide**"
   ]
  },
  {
   "cell_type": "code",
   "execution_count": 59,
   "id": "62d16e77-81ce-4e1e-837d-6eab1d95f027",
   "metadata": {},
   "outputs": [],
   "source": [
    "import pandas as pd\n",
    "import os"
   ]
  },
  {
   "cell_type": "code",
   "execution_count": 63,
   "id": "083e317a-4a24-4e12-a0a0-7f7a258faa2b",
   "metadata": {},
   "outputs": [],
   "source": [
    "name_basics = pd.read_csv(\"name.basics.tsv\", sep='\\t', low_memory=False)\n",
    "title_basics = pd.read_csv(\"title.basics.tsv\", sep='\\t', low_memory=False)\n",
    "title_ratings = pd.read_csv(\"title.ratings.tsv\", sep='\\t', low_memory=False)"
   ]
  },
  {
   "cell_type": "code",
   "execution_count": 65,
   "id": "68902dba-fc80-4955-b9bb-f7c0c4eb39aa",
   "metadata": {},
   "outputs": [
    {
     "name": "stdout",
     "output_type": "stream",
     "text": [
      "name_basics: (14270591, 6)\n",
      "title_basics: (11530944, 9)\n",
      "title_ratings: (1547472, 3)\n"
     ]
    }
   ],
   "source": [
    "print(f\"name_basics: {name_basics.shape}\")\n",
    "print(f\"title_basics: {title_basics.shape}\")\n",
    "print(f\"title_ratings: {title_ratings.shape}\")"
   ]
  },
  {
   "cell_type": "code",
   "execution_count": 68,
   "id": "16c34a24-acaa-4214-b764-3022c7a55368",
   "metadata": {},
   "outputs": [],
   "source": [
    "movies_df = title_basics[\n",
    "    [\"tconst\", \"titleType\", \"primaryTitle\", \"startYear\", \"genres\"]\n",
    "]"
   ]
  },
  {
   "cell_type": "code",
   "execution_count": 70,
   "id": "94dab4fc-5986-42cc-9d12-9f04e394836c",
   "metadata": {},
   "outputs": [],
   "source": [
    "ratings_df = title_ratings[[\"tconst\", \"averageRating\", \"numVotes\"]]"
   ]
  },
  {
   "cell_type": "code",
   "execution_count": 72,
   "id": "2e72fdbe-a447-49f4-a6a0-0a8984c78070",
   "metadata": {},
   "outputs": [],
   "source": [
    "merged_movies = movies_df.merge(ratings_df, on=\"tconst\", how=\"inner\")"
   ]
  },
  {
   "cell_type": "code",
   "execution_count": 74,
   "id": "09745195-f7b8-4f8d-85b5-db3c70d314f3",
   "metadata": {},
   "outputs": [
    {
     "name": "stdout",
     "output_type": "stream",
     "text": [
      "(327156, 7)\n"
     ]
    }
   ],
   "source": [
    "merged_movies = merged_movies[merged_movies[\"titleType\"] == \"movie\"]\n",
    "print(merged_movies.shape)"
   ]
  },
  {
   "cell_type": "code",
   "execution_count": 76,
   "id": "6c2c3d7f-6e0b-4aaf-b1e5-b556d52a09c1",
   "metadata": {},
   "outputs": [],
   "source": [
    "merged_movies = merged_movies.drop_duplicates(subset=\"primaryTitle\")\n",
    "merged_movies = merged_movies.dropna(subset=[\"averageRating\", \"numVotes\", \"startYear\"])\n",
    "merged_movies = merged_movies[merged_movies[\"startYear\"].astype(str).str.isnumeric()]\n",
    "merged_movies = merged_movies[merged_movies[\"startYear\"].astype(int) >= 1980]"
   ]
  },
  {
   "cell_type": "code",
   "execution_count": 78,
   "id": "4547f386-a12c-4c7c-9fe9-4c123823d37e",
   "metadata": {},
   "outputs": [],
   "source": [
    "merged_movies = merged_movies.sort_values(by=[\"numVotes\", \"averageRating\"], ascending=False).head(50000)"
   ]
  },
  {
   "cell_type": "code",
   "execution_count": 80,
   "id": "8ab87839-c413-46d4-bd0b-fde584ec9bd5",
   "metadata": {},
   "outputs": [
    {
     "name": "stdout",
     "output_type": "stream",
     "text": [
      "84687                              The Shawshank Redemption\n",
      "259863                                      The Dark Knight\n",
      "682984                                            Inception\n",
      "101600                                           Fight Club\n",
      "83581                                          Forrest Gump\n",
      "84468                                          Pulp Fiction\n",
      "412656                                         Interstellar\n",
      "99331                                            The Matrix\n",
      "92529     The Lord of the Rings: The Fellowship of the Ring\n",
      "117775        The Lord of the Rings: The Return of the King\n",
      "666963                                The Dark Knight Rises\n",
      "87261                                                 Se7en\n",
      "117776                The Lord of the Rings: The Two Towers\n",
      "863093                                     Django Unchained\n",
      "212839                                 Inglourious Basterds\n",
      "218147                                        Batman Begins\n",
      "77786                              The Silence of the Lambs\n",
      "92591                                   Saving Private Ryan\n",
      "549024                                       Shutter Island\n",
      "82076                                      Schindler's List\n",
      "Name: primaryTitle, dtype: object\n"
     ]
    }
   ],
   "source": [
    "print(merged_movies[\"primaryTitle\"].head(20))"
   ]
  },
  {
   "cell_type": "code",
   "execution_count": 82,
   "id": "4f724a21-d97e-41a8-a944-ea295cbeb036",
   "metadata": {},
   "outputs": [],
   "source": [
    "output_file = \"cleaned_imdb_movies.csv\"\n",
    "merged_movies.to_csv(output_file, index=False)"
   ]
  },
  {
   "cell_type": "code",
   "execution_count": 84,
   "id": "43fa2a0b-951f-412c-8ea2-364c40915c1d",
   "metadata": {},
   "outputs": [],
   "source": [
    "os.makedirs(\"models\", exist_ok=True)"
   ]
  }
 ],
 "metadata": {
  "kernelspec": {
   "display_name": "Python 3 (ipykernel)",
   "language": "python",
   "name": "python3"
  },
  "language_info": {
   "codemirror_mode": {
    "name": "ipython",
    "version": 3
   },
   "file_extension": ".py",
   "mimetype": "text/x-python",
   "name": "python",
   "nbconvert_exporter": "python",
   "pygments_lexer": "ipython3",
   "version": "3.12.4"
  }
 },
 "nbformat": 4,
 "nbformat_minor": 5
}
