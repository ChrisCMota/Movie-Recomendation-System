{
 "cells": [
  {
   "cell_type": "markdown",
   "id": "c6fa58e3",
   "metadata": {},
   "source": [
    "### Overview of Library Imports\n",
    "\n",
    "Here is a list of the primary Python libraries used within this project and their uses:\n",
    "\n",
    "- **pandas, numpy**: numerical calculations and data manipulation.\n",
    "- **os, random**: file system access and generation of random numbers.\n",
    "- **joblib**: saving/loading large objects and models.\n",
    "- **TfidfVectorizer & cosine_similarity:** text feature extraction and measurement of similarity\n",
    "- **MinMaxScaler**: scales numeric data.\n",
    "- **ndcg_score**: measures recommendation ranking quality.\n",
    "- **Surprise: SVD, Dataset, Reader, accuracy**: Collaborative filtering and evaluation tools.\n",
    "- **train_test_split (Surprise)**: separates the data for\n",
    "- **defaultdict**: a dictionary with a default value. \n",
    "- **matplotlib, seaborn**: libraries for data visualization."
   ]
  },
  {
   "cell_type": "code",
   "execution_count": 2,
   "id": "74c87232-f4d7-4d36-b6f3-8a872d8aeb9b",
   "metadata": {},
   "outputs": [],
   "source": [
    "import pandas as pd\n",
    "import numpy as np\n",
    "import random\n",
    "import os\n",
    "import joblib\n",
    "from sklearn.feature_extraction.text import TfidfVectorizer\n",
    "from sklearn.metrics.pairwise import cosine_similarity\n",
    "from sklearn.preprocessing import MinMaxScaler\n",
    "from sklearn.metrics import ndcg_score\n",
    "from surprise import SVD, Dataset, Reader, accuracy\n",
    "from surprise.model_selection import train_test_split\n",
    "from collections import defaultdict\n",
    "import matplotlib.pyplot as plt\n",
    "import seaborn as sns"
   ]
  },
  {
   "cell_type": "markdown",
   "id": "0f04a824",
   "metadata": {},
   "source": [
    "Creates a **models** folder if it doesn't already exist, avoiding errors if the folder is already there."
   ]
  },
  {
   "cell_type": "code",
   "execution_count": 3,
   "id": "cc277ebc-b180-4468-9376-85edfacc7959",
   "metadata": {},
   "outputs": [],
   "source": [
    "os.makedirs(\"models\", exist_ok=True)"
   ]
  },
  {
   "cell_type": "markdown",
   "id": "f6a9d3b1",
   "metadata": {},
   "source": [
    "Loads IMDb datasets (title.basics, title.ratings, name.basics) from TSV files into pandas DataFrames for further processing.\n"
   ]
  },
  {
   "cell_type": "code",
   "execution_count": 4,
   "id": "6def4c1f-be78-49ba-b190-8bc884fff1f3",
   "metadata": {},
   "outputs": [
    {
     "name": "stdout",
     "output_type": "stream",
     "text": [
      "[INFO] Loading IMDb datasets...\n"
     ]
    }
   ],
   "source": [
    "print(\"[INFO] Loading IMDb datasets...\")\n",
    "title_basics = pd.read_csv(\"title.basics.tsv\", sep=\"\\t\", low_memory=False)\n",
    "title_ratings = pd.read_csv(\"title.ratings.tsv\", sep=\"\\t\", low_memory=False)\n",
    "name_basics = pd.read_csv(\"name.basics.tsv\", sep=\"\\t\", low_memory=False)"
   ]
  },
  {
   "cell_type": "markdown",
   "id": "2998a23b",
   "metadata": {},
   "source": [
    "- Filters **title_basics** to include only rows where the title type is **movie**.\n",
    "- Selects key columns from **title_basics**: **tconst**, **titleType**, **primaryTitle**, **startYear**, and **genres**.\n",
    "- Selects key columns from **title_ratings**: **tconst**, **averageRating**, and **numVotes**.\n",
    "- Selects and cleans **name_basics** by keeping **nconst**, **primaryName**, and **knownForTitles**, and drops rows with missing values.\n"
   ]
  },
  {
   "cell_type": "code",
   "execution_count": 5,
   "id": "0692bbf5-b5d6-4eaf-b24c-51879d72f09c",
   "metadata": {},
   "outputs": [],
   "source": [
    "title_basics = title_basics[title_basics[\"titleType\"] == \"movie\"]\n",
    "title_basics = title_basics[[\"tconst\", \"titleType\", \"primaryTitle\", \"startYear\", \"genres\"]]\n",
    "title_ratings = title_ratings[[\"tconst\", \"averageRating\", \"numVotes\"]]\n",
    "name_basics = name_basics[[\"nconst\", \"primaryName\", \"knownForTitles\"]].dropna()"
   ]
  },
  {
   "cell_type": "markdown",
   "id": "64ae5abf",
   "metadata": {},
   "source": [
    "- Splits the **knownForTitles** column of **name_basics** into lists with comma as the separator.\n",
    "- It makes each list wider so that each title is in a distinct row with one movie per line.\n",
    "- Renames the column **knownForTitles** as **tconst** in order to enable matching against movie IDs across other datasets.\n",
    "- It groups the dataset according to **tconst** and aggregates the first five related names as a comma-delimited string with the following lambda function:\n",
    "- Renames the resultant **primaryName** column as **cast_crew** in accordance with the fact that it holds aggregated cast and crew information."
   ]
  },
  {
   "cell_type": "code",
   "execution_count": 6,
   "id": "42335779-718e-4081-9c79-86dfa43bc0b6",
   "metadata": {},
   "outputs": [],
   "source": [
    "name_basics[\"knownForTitles\"] = name_basics[\"knownForTitles\"].str.split(\",\")\n",
    "name_basics = name_basics.explode(\"knownForTitles\")\n",
    "name_basics = name_basics.rename(columns={\"knownForTitles\": \"tconst\"})\n",
    "crew_agg = name_basics.groupby(\"tconst\")[\"primaryName\"].apply(lambda x: \", \".join(x.head(5))).reset_index()\n",
    "crew_agg = crew_agg.rename(columns={\"primaryName\": \"cast_crew\"})"
   ]
  },
  {
   "cell_type": "markdown",
   "id": "5b032c1d",
   "metadata": {},
   "source": [
    "- Merges **title_basics** and **title_ratings** DataFrames on the shared column **tconst** to join movie metadata with the ratings.\n",
    "- Merges the output with **crew_agg** incorporating cast and crew details using a left join to preserve all movies.\n",
    "Sorts the merged set by **numVotes** in descending order and retrieves the 10,000 most voted movies.\n",
    "- Deletes any rows with missing essential fields like **genres**, **cast_crew**, or **startYear** in order to maintain data quality.\n",
    "- Saves the last cleaned and filtered DataFrame into a CSV file with the name **cleaned_merged_top10k_movies.csv**."
   ]
  },
  {
   "cell_type": "code",
   "execution_count": 7,
   "id": "7b9eb1ae",
   "metadata": {},
   "outputs": [],
   "source": [
    "movies_combined_df = pd.merge(title_basics, title_ratings, on=\"tconst\")\n",
    "movies_combined_df = pd.merge(movies_combined_df, crew_agg, on=\"tconst\", how=\"left\")\n",
    "filtered_movies_df = movies_combined_df.sort_values(by=\"numVotes\", ascending=False).head(10000)\n",
    "filtered_movies_df = filtered_movies_df.dropna(subset=[\"genres\", \"cast_crew\", \"startYear\"])\n",
    "filtered_movies_df.to_csv(\"cleaned_merged_top10k_movies.csv\", index=False)"
   ]
  },
  {
   "cell_type": "markdown",
   "id": "1619f6b1",
   "metadata": {},
   "source": [
    "- Prints a header label along with the first 10 rows of the **filtered_movies_df** DataFrame as a preview of the cleaned up data.\n",
    "- It creates a new figure with the specified dimensions of 10 by 5 inches for plotting.\n",
    "- It uses **seaborn** to produce a histogram that depicts the **averageRating** column's distribution with 20 bins along with a KDE curve.\n",
    "- Adds a title and axes labels to make the plot easier to read and more informative.\n",
    "- Rearranges the layout for improved spacing and plots the last histogram using **plt.show().**"
   ]
  },
  {
   "cell_type": "code",
   "execution_count": 8,
   "id": "b622d786",
   "metadata": {},
   "outputs": [
    {
     "name": "stdout",
     "output_type": "stream",
     "text": [
      "\n",
      "[DATAFRAME HEAD - FILTERED MOVIES]\n",
      "\n",
      "           tconst titleType  \\\n",
      "62575   tt0111161     movie   \n",
      "140100  tt0468569     movie   \n",
      "182490  tt1375666     movie   \n",
      "72657   tt0137523     movie   \n",
      "61836   tt0109830     movie   \n",
      "62427   tt0110912     movie   \n",
      "146014  tt0816692     movie   \n",
      "71349   tt0133093     movie   \n",
      "37578   tt0068646     movie   \n",
      "67271   tt0120737     movie   \n",
      "\n",
      "                                             primaryTitle startYear  \\\n",
      "62575                            The Shawshank Redemption      1994   \n",
      "140100                                    The Dark Knight      2008   \n",
      "182490                                          Inception      2010   \n",
      "72657                                          Fight Club      1999   \n",
      "61836                                        Forrest Gump      1994   \n",
      "62427                                        Pulp Fiction      1994   \n",
      "146014                                       Interstellar      2014   \n",
      "71349                                          The Matrix      1999   \n",
      "37578                                       The Godfather      1972   \n",
      "67271   The Lord of the Rings: The Fellowship of the Ring      2001   \n",
      "\n",
      "                         genres  averageRating  numVotes  \\\n",
      "62575                     Drama            9.3   3013434   \n",
      "140100       Action,Crime,Drama            9.0   2989960   \n",
      "182490  Action,Adventure,Sci-Fi            8.8   2657138   \n",
      "72657                     Drama            8.8   2436128   \n",
      "61836             Drama,Romance            8.8   2355891   \n",
      "62427               Crime,Drama            8.9   2311032   \n",
      "146014   Adventure,Drama,Sci-Fi            8.7   2296921   \n",
      "71349             Action,Sci-Fi            8.7   2135884   \n",
      "37578               Crime,Drama            9.2   2103011   \n",
      "67271   Adventure,Drama,Fantasy            8.9   2088682   \n",
      "\n",
      "                                                cast_crew  \n",
      "62575   Stephen King, Clancy Brown, Frank Darabont, Ma...  \n",
      "140100  Morgan Freeman, Gary Oldman, Christian Bale, M...  \n",
      "182490  Leonardo DiCaprio, Tom Berenger, Pete Postleth...  \n",
      "72657   Brad Pitt, Helena Bonham Carter, Meat Loaf, Ed...  \n",
      "61836   Tom Hanks, Sally Field, Gary Sinise, Robin Wri...  \n",
      "62427   Samuel L. Jackson, Harvey Keitel, Quentin Tara...  \n",
      "146014  Matthew McConaughey, Hans Zimmer, Wes Bentley,...  \n",
      "71349   Keanu Reeves, Laurence Fishburne, Marilyn Mans...  \n",
      "37578   Marlon Brando, Nino Rota, Al Pacino, James Caa...  \n",
      "67271   Liv Tyler, Sean Astin, Sean Bean, Ian Holm, Ch...  \n"
     ]
    },
    {
     "data": {
      "image/png": "[encoded data removed]",
      "text/plain": [
       "<Figure size 1000x500 with 1 Axes>"
      ]
     },
     "metadata": {},
     "output_type": "display_data"
    }
   ],
   "source": [
    "print(\"\\n[DATAFRAME HEAD - FILTERED MOVIES]\\n\")\n",
    "print(filtered_movies_df.head(10))\n",
    "\n",
    "plt.figure(figsize=(10, 5))\n",
    "sns.histplot(filtered_movies_df['averageRating'], bins=20, kde=True)\n",
    "plt.title(\"Distribution of Average Ratings\")\n",
    "plt.xlabel(\"Rating\")\n",
    "plt.ylabel(\"Frequency\")\n",
    "plt.tight_layout()\n",
    "plt.show()"
   ]
  },
  {
   "cell_type": "markdown",
   "id": "824e6d7a",
   "metadata": {},
   "source": [
    "- Prints a status message signaling the beginning of user rating simulation.\n",
    "Extracts all of the distinct genres from the filtered movie dataset and sorts them.\n",
    "- Creates an empty list to hold the simulated user ratings.\n",
    "- For each user (1-1000), selects a few liked and disliked genres at random.\n",
    "- Randomly samples 20 to 50 movies per user and then generates ratings based on matching genres:\n",
    "Increases rating if liked genres are encountered.\n",
    "-Lowers ranking if there is a dislike of genres.\n",
    "- Ranks ratings between 0.5 and 10.0, to one decimal place.\n",
    "-Stores the obtained results in a DataFrame and saves the file as **simulated_users_ratings.csv**.\n"
   ]
  },
  {
   "cell_type": "code",
   "execution_count": 9,
   "id": "9ea99391",
   "metadata": {},
   "outputs": [
    {
     "name": "stdout",
     "output_type": "stream",
     "text": [
      "[INFO] Simulating realistic user ratings...\n"
     ]
    }
   ],
   "source": [
    "print(\"[INFO] Simulating realistic user ratings...\")\n",
    "unique_genres = sorted(set(\",\".join(filtered_movies_df[\"genres\"]).split(\",\")))\n",
    "user_simulated_ratings = []\n",
    "\n",
    "for user_id in range(1, 1001):\n",
    "    liked_genres = random.sample(unique_genres, k=random.randint(2, 4))\n",
    "    disliked_genres = random.sample([g for g in unique_genres if g not in liked_genres], k=random.randint(1, 2))\n",
    "    sampled_movies = filtered_movies_df.sample(n=random.randint(20, 50), random_state=user_id)\n",
    "\n",
    "    for _, row in sampled_movies.iterrows():\n",
    "        genres = row[\"genres\"].split(\",\")\n",
    "        rating = np.random.normal(loc=7.0, scale=1.0)\n",
    "        if any(g in genres for g in liked_genres):\n",
    "            rating += 1.0\n",
    "        if any(g in genres for g in disliked_genres):\n",
    "            rating -= 2.0\n",
    "        rating = round(min(max(rating, 0.5), 10.0), 1)\n",
    "        user_simulated_ratings.append({\"user_id\": user_id, \"primaryTitle\": row[\"primaryTitle\"], \"rating\": rating})\n",
    "\n",
    "user_ratings_df = pd.DataFrame(user_simulated_ratings)\n",
    "user_ratings_df.to_csv(\"simulated_users_ratings.csv\", index=False)"
   ]
  },
  {
   "cell_type": "markdown",
   "id": "5900b226",
   "metadata": {},
   "source": [
    "- Prints a header and shows the first 10 rows of the **user_ratings_df** DataFrame as a preview of the simulated user ratings.\n",
    "It establishes a new plot figure with dimensions of 10 by 5 inches.\n",
    "- Plots a histogram of the distribution of user-generated **rating** using **seaborn** with 20 bins and a KDE curve for smoothness.\n",
    "- Adds a title and axis labels that make the visualization informative and clear.\n",
    "-Tightens layout spacing with **tight_layout()** and displays the plot with **plt.show()**.\n"
   ]
  },
  {
   "cell_type": "code",
   "execution_count": 10,
   "id": "08348794",
   "metadata": {},
   "outputs": [
    {
     "name": "stdout",
     "output_type": "stream",
     "text": [
      "\n",
      "[DATAFRAME HEAD - USER RATINGS]\n",
      "\n",
      "   user_id     primaryTitle  rating\n",
      "0        1          Cleaner     6.8\n",
      "1        1        King Kong     7.9\n",
      "2        1              Big     5.9\n",
      "3        1      Still Alice     5.4\n",
      "4        1           Taxi 4     8.7\n",
      "5        1  Holding the Man     8.1\n",
      "6        1          Sleeper     7.3\n",
      "7        1      Thumbsucker     7.4\n",
      "8        1         Rounders     8.6\n",
      "9        1           Truman     7.2\n"
     ]
    },
    {
     "data": {
      "image/png": "[encoded data removed]",
      "text/plain": [
       "<Figure size 1000x500 with 1 Axes>"
      ]
     },
     "metadata": {},
     "output_type": "display_data"
    }
   ],
   "source": [
    "print(\"\\n[DATAFRAME HEAD - USER RATINGS]\\n\")\n",
    "print(user_ratings_df.head(10))\n",
    "\n",
    "plt.figure(figsize=(10, 5))\n",
    "sns.histplot(user_ratings_df['rating'], bins=20, kde=True)\n",
    "plt.title(\"Distribution of Simulated User Ratings\")\n",
    "plt.xlabel(\"Rating\")\n",
    "plt.ylabel(\"Frequency\")\n",
    "plt.tight_layout()\n",
    "plt.show()"
   ]
  },
  {
   "cell_type": "markdown",
   "id": "2bf2c02b",
   "metadata": {},
   "source": [
    "- Creates a TF-IDF vectorizer to feature-extract from the **genres** column based on the importance of every word within each movie's genres.\n",
    "- Trains the vectorizer to the genres and converts the text to a numerical feature matrix named **genre_tfidf_matrix**.\n",
    "- Does the same for the **cast_crew** column but utilizes a different vectorizer for dealing with names of actors and crew.\n",
    "- Converts this data into **cast_tfidf_matrix**, which facilitates content-based filtering.\n",
    "These matrices are employed to compute similarity between movies for the purpose of recommendations using text-based metadata.\n"
   ]
  },
  {
   "cell_type": "code",
   "execution_count": 11,
   "id": "a55c5c7e",
   "metadata": {},
   "outputs": [
    {
     "name": "stdout",
     "output_type": "stream",
     "text": [
      "[INFO] Training TF-IDF vectorizers...\n",
      "\n",
      "TF-IDF Sample Genre Features:\n",
      " ['action' 'adventure' 'animation' 'biography' 'comedy' 'crime'\n",
      " 'documentary' 'drama' 'family' 'fantasy']\n"
     ]
    }
   ],
   "source": [
    "print(\"[INFO] Training TF-IDF vectorizers...\")\n",
    "genre_vectorizer = TfidfVectorizer(stop_words=\"english\")\n",
    "genre_tfidf_matrix = genre_vectorizer.fit_transform(filtered_movies_df[\"genres\"])\n",
    "cast_vectorizer = TfidfVectorizer(stop_words=\"english\")\n",
    "cast_tfidf_matrix = cast_vectorizer.fit_transform(filtered_movies_df[\"cast_crew\"].fillna(\"\"))\n",
    "\n",
    "print(\"\\nTF-IDF Sample Genre Features:\\n\", genre_vectorizer.get_feature_names_out()[:10])"
   ]
  },
  {
   "cell_type": "markdown",
   "id": "3eff1c43",
   "metadata": {},
   "source": [
    "- Prints a message announcing the training start for the SVD model.\n",
    "Initializes a **Reader** object from Surprise to specify the rating scale expected\n",
    "- Transforms the **user_ratings_df** DataFrame into a Surprise-compatible dataset consisting only of user IDs, movie titles, and ratings.\n",
    "- Splits data into 80/20 ratios for training and test sets through **train_test_split**.\n",
    "Initializes the **SVD** algorithm (Singular Value Decomposition) for collaborative filtering.\n",
    "- Trains the model on the training set using fit().\n",
    "- It evaluates the model on the test set and saves the predicted output to **predictions**."
   ]
  },
  {
   "cell_type": "code",
   "execution_count": 12,
   "id": "e8f1e5cf",
   "metadata": {},
   "outputs": [
    {
     "name": "stdout",
     "output_type": "stream",
     "text": [
      "[INFO] Training SVD collaborative model...\n"
     ]
    }
   ],
   "source": [
    "print(\"[INFO] Training SVD collaborative model...\")\n",
    "reader = Reader(rating_scale=(0.5, 10.0))\n",
    "surprise_data = Dataset.load_from_df(user_ratings_df[[\"user_id\", \"primaryTitle\", \"rating\"]], reader)\n",
    "trainset, testset = train_test_split(surprise_data, test_size=0.2)\n",
    "svd_model = SVD()\n",
    "svd_model.fit(trainset)\n",
    "predictions = svd_model.test(testset)"
   ]
  },
  {
   "cell_type": "markdown",
   "id": "24e856d3",
   "metadata": {},
   "source": [
    "- Prints a message that signifies the initiation of rating prediction evaluation.\n",
    "- Calculates and prints the **Root Mean Squared Error (RMSE)**, which is a measurement for how far apart the predicted ratings are from observed ratings.\n",
    "- Computes and prints **Mean Absolute Error (MAE)**, which is the average absolute difference between actual ratings and predicted ratings.\n",
    "These statistics are used to evaluate the correctness and reliability of the collaborative filtering model created based on the SVD algorithm.\n"
   ]
  },
  {
   "cell_type": "code",
   "execution_count": 13,
   "id": "f26b9343",
   "metadata": {},
   "outputs": [
    {
     "name": "stdout",
     "output_type": "stream",
     "text": [
      "\n",
      "[INFO] Rating Prediction Evaluation\n",
      "RMSE: 1.3338\n",
      "RMSE: 1.3338186095151072\n",
      "MAE:  1.0556\n",
      "MAE: 1.0555890765022196\n"
     ]
    }
   ],
   "source": [
    "print(\"\\n[INFO] Rating Prediction Evaluation\")\n",
    "print(\"RMSE:\", accuracy.rmse(predictions))\n",
    "print(\"MAE:\", accuracy.mae(predictions))"
   ]
  },
  {
   "cell_type": "markdown",
   "id": "7d8923c1",
   "metadata": {},
   "source": [
    "- Creates a function that computes **Precision@10** and **Recall@10** for every user using the predicted and actual ratings.\n",
    "- Orders predictions by predicted rating and selects items that are above a threshold set by you (default 7.5).\n",
    "- Calculates the number of relevant items it suggested (precision) and the number of relevant items it identified (recall).\n",
    "- Specifies an additional function to calculate **nDCG@10** that assesses the quality of ranked recommendations.\n",
    "- Calculates and prints the average **Precision**, **Recall**, and **nDCG** over all users to evaluate recommendation quality.\n"
   ]
  },
  {
   "cell_type": "code",
   "execution_count": null,
   "id": "ed73aca8",
   "metadata": {},
   "outputs": [],
   "source": [
    "def precision_recall_at_k(predictions, k=10, threshold=7.5):\n",
    "    user_est_true = defaultdict(list)\n",
    "    for pred in predictions:\n",
    "        user_est_true[pred.uid].append((pred.est, pred.r_ui))\n",
    "    precisions, recalls = {}, {}\n",
    "    for uid, user_ratings in user_est_true.items():\n",
    "        user_ratings.sort(key=lambda x: x[0], reverse=True)\n",
    "        top_k = user_ratings[:k]\n",
    "        num_relevant = sum((true >= threshold) for (_, true) in user_ratings)\n",
    "        num_rec_k = sum((est >= threshold) for (est, _) in top_k)\n",
    "        num_rel_and_rec = sum(((true >= threshold) and (est >= threshold)) for (est, true) in top_k)\n",
    "        precisions[uid] = num_rel_and_rec / k\n",
    "        recalls[uid] = num_rel_and_rec / num_relevant if num_relevant else 0\n",
    "    return precisions, recalls\n",
    "\n",
    "def compute_ndcg(predictions, k=10):\n",
    "    scores_est = defaultdict(list)\n",
    "    scores_true = defaultdict(list)\n",
    "    for pred in predictions:\n",
    "        scores_est[pred.uid].append(pred.est)\n",
    "        scores_true[pred.uid].append(pred.r_ui)\n",
    "    ndcg_scores = []\n",
    "    for uid in scores_est:\n",
    "        if len(scores_est[uid]) < k:\n",
    "            continue\n",
    "        est = np.asarray([scores_est[uid]])\n",
    "        true = np.asarray([scores_true[uid]])\n",
    "        ndcg_scores.append(ndcg_score(true, est, k=k))\n",
    "    return np.mean(ndcg_scores)\n",
    "\n",
    "p, r = precision_recall_at_k(predictions)\n",
    "print(\"[EVAL] Precision@10:\", np.mean(list(p.values())))\n",
    "print(\"[EVAL] Recall@10:\", np.mean(list(r.values())))\n",
    "print(\"[EVAL] NDCG@10:\", compute_ndcg(predictions))"
   ]
  },
  {
   "cell_type": "markdown",
   "id": "1d4dd34c",
   "metadata": {},
   "source": []
  },
  {
   "cell_type": "code",
   "execution_count": null,
   "id": "71e5a820",
   "metadata": {},
   "outputs": [],
   "source": []
  }
 ],
 "metadata": {
  "kernelspec": {
   "display_name": "Python 3 (ipykernel)",
   "language": "python",
   "name": "python3"
  },
  "language_info": {
   "codemirror_mode": {
    "name": "ipython",
    "version": 3
   },
   "file_extension": ".py",
   "mimetype": "text/x-python",
   "name": "python",
   "nbconvert_exporter": "python",
   "pygments_lexer": "ipython3",
   "version": "3.11.5"
  }
 },
 "nbformat": 4,
 "nbformat_minor": 5
}
