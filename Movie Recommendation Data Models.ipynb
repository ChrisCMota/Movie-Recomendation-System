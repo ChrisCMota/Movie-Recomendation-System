{
 "cells": [
  {
   "cell_type": "markdown",
   "id": "c6fa58e3",
   "metadata": {},
   "source": [
    "### Overview of Library Imports\n",
    "\n",
    "Here is a list of the primary Python libraries used within this project and their uses:\n",
    "\n",
    "- **pandas, numpy**: numerical calculations and data manipulation.\n",
    "- **os, random**: file system access and generation of random numbers.\n",
    "- **joblib**: saving/loading large objects and models.\n",
    "- **TfidfVectorizer & cosine_similarity:** text feature extraction and measurement of similarity\n",
    "- **MinMaxScaler**: scales numeric data.\n",
    "- **ndcg_score**: measures recommendation ranking quality.\n",
    "- **Surprise: SVD, Dataset, Reader, accuracy**: Collaborative filtering and evaluation tools.\n",
    "- **train_test_split (Surprise)**: separates the data for\n",
    "- **defaultdict**: a dictionary with a default value. \n",
    "- **matplotlib, seaborn**: libraries for data visualization."
   ]
  },
  {
   "cell_type": "code",
   "execution_count": 1,
   "id": "74c87232-f4d7-4d36-b6f3-8a872d8aeb9b",
   "metadata": {},
   "outputs": [],
   "source": [
    "import pandas as pd\n",
    "import numpy as np\n",
    "import random\n",
    "import os\n",
    "import joblib\n",
    "from sklearn.feature_extraction.text import TfidfVectorizer\n",
    "from sklearn.metrics.pairwise import cosine_similarity\n",
    "from sklearn.preprocessing import MinMaxScaler\n",
    "from sklearn.metrics import ndcg_score\n",
    "from surprise import SVD, Dataset, Reader, accuracy\n",
    "from surprise.model_selection import train_test_split\n",
    "from collections import defaultdict\n",
    "import matplotlib.pyplot as plt\n",
    "import seaborn as sns"
   ]
  },
  {
   "cell_type": "markdown",
   "id": "0f04a824",
   "metadata": {},
   "source": [
    "Creates a **models** folder if it doesn't already exist, avoiding errors if the folder is already there."
   ]
  },
  {
   "cell_type": "code",
   "execution_count": 2,
   "id": "cc277ebc-b180-4468-9376-85edfacc7959",
   "metadata": {},
   "outputs": [],
   "source": [
    "os.makedirs(\"models\", exist_ok=True)"
   ]
  },
  {
   "cell_type": "markdown",
   "id": "f6a9d3b1",
   "metadata": {},
   "source": [
    "Loads IMDb datasets (title.basics, title.ratings, name.basics) from TSV files into pandas DataFrames for further processing.\n"
   ]
  },
  {
   "cell_type": "code",
   "execution_count": 3,
   "id": "6def4c1f-be78-49ba-b190-8bc884fff1f3",
   "metadata": {},
   "outputs": [
    {
     "name": "stdout",
     "output_type": "stream",
     "text": [
      "[INFO] Loading IMDb datasets...\n"
     ]
    }
   ],
   "source": [
    "print(\"[INFO] Loading IMDb datasets...\")\n",
    "title_basics = pd.read_csv(\"title.basics.tsv\", sep=\"\\t\", low_memory=False)\n",
    "title_ratings = pd.read_csv(\"title.ratings.tsv\", sep=\"\\t\", low_memory=False)\n",
    "name_basics = pd.read_csv(\"name.basics.tsv\", sep=\"\\t\", low_memory=False)"
   ]
  },
  {
   "cell_type": "markdown",
   "id": "2998a23b",
   "metadata": {},
   "source": [
    "- Filters **title_basics** to include only rows where the title type is **movie**.\n",
    "- Selects key columns from **title_basics**: **tconst**, **titleType**, **primaryTitle**, **startYear**, and **genres**.\n",
    "- Selects key columns from **title_ratings**: **tconst**, **averageRating**, and **numVotes**.\n",
    "- Selects and cleans **name_basics** by keeping **nconst**, **primaryName**, and **knownForTitles**, and drops rows with missing values.\n"
   ]
  },
  {
   "cell_type": "code",
   "execution_count": 4,
   "id": "0692bbf5-b5d6-4eaf-b24c-51879d72f09c",
   "metadata": {},
   "outputs": [],
   "source": [
    "title_basics = title_basics[title_basics[\"titleType\"] == \"movie\"]\n",
    "title_basics = title_basics[[\"tconst\", \"titleType\", \"primaryTitle\", \"startYear\", \"genres\"]]\n",
    "title_ratings = title_ratings[[\"tconst\", \"averageRating\", \"numVotes\"]]\n",
    "name_basics = name_basics[[\"nconst\", \"primaryName\", \"knownForTitles\"]].dropna()"
   ]
  },
  {
   "cell_type": "code",
   "execution_count": null,
   "id": "42335779-718e-4081-9c79-86dfa43bc0b6",
   "metadata": {},
   "outputs": [],
   "source": []
  }
 ],
 "metadata": {
  "kernelspec": {
   "display_name": "Python 3 (ipykernel)",
   "language": "python",
   "name": "python3"
  },
  "language_info": {
   "codemirror_mode": {
    "name": "ipython",
    "version": 3
   },
   "file_extension": ".py",
   "mimetype": "text/x-python",
   "name": "python",
   "nbconvert_exporter": "python",
   "pygments_lexer": "ipython3",
   "version": "3.11.5"
  }
 },
 "nbformat": 4,
 "nbformat_minor": 5
}
